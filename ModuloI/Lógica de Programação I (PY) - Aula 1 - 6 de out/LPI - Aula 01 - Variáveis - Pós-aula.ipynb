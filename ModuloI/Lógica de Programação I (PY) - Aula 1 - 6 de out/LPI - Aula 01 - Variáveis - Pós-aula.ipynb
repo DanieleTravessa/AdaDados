{
 "cells": [
  {
   "cell_type": "markdown",
   "metadata": {},
   "source": [
    "### Cursos digitais Ada\n",
    "\n",
    "Seguem as principais recomendações:\n",
    "\n",
    "* Funcionamento do computador: https://cursos.letscode.com.br/curso-digital/65757051-1636-4c95-8cb3-fd14198d741b\n",
    "\n",
    "* Lógica Pura: https://cursos.letscode.com.br/curso-digital/2120c9f0-02ba-45c1-a81d-3ed26232cc0c\n",
    "\n",
    "* Introdução a Python: https://cursos.letscode.com.br/curso-digital/ad77ffa3-6dde-4efb-9e0d-3b14e60b097b\n",
    "\n",
    "* Como melhorar o seu aprendizado: https://cursos.letscode.com.br/curso-digital/956710f8-d7cf-4bff-93d7-b9d544a82e77\n",
    "\n",
    "* História da Ciência da Computação: https://cursos.letscode.com.br/curso-digital/4114870c-c8e7-4701-aa55-3b6277a8ae67"
   ]
  },
  {
   "cell_type": "markdown",
   "metadata": {},
   "source": [
    "### 1. Variáveis\n"
   ]
  },
  {
   "cell_type": "markdown",
   "metadata": {},
   "source": [
    "Variáveis são \"pedacinhos de memória\" onde guardamos dados. Sempre que referenciamos o nome, o pedacinho de memória é acessado e seu dado é recuperado.\n",
    "\n",
    "Criamos variáveis dando um nome a elas e usando o operador de atribuição (o sinal de igualdade: =) para atribuir um valor inicial."
   ]
  },
  {
   "cell_type": "code",
   "execution_count": 1,
   "metadata": {},
   "outputs": [],
   "source": [
    "x = 10"
   ]
  },
  {
   "cell_type": "markdown",
   "metadata": {},
   "source": [
    "**Dica**: Tente sempre utilizar nomes intuitivos para suas variáveis. \n",
    "\n",
    "Os nomes de variáveis podem conter letras, números e o símbolo _, mas eles não podem começar com número."
   ]
  },
  {
   "cell_type": "code",
   "execution_count": 2,
   "metadata": {},
   "outputs": [],
   "source": [
    "# É uma boa prática\n",
    "cliente = 'Thiago'\n",
    "nome_cliente = 'Thiago'\n",
    "nome = 'Thiago' \n",
    "\n",
    "# Não é uma boa prática\n",
    "n = 'Thiago'\n",
    "x = 'Thiago'"
   ]
  },
  {
   "cell_type": "code",
   "execution_count": 3,
   "metadata": {},
   "outputs": [],
   "source": [
    "# Definição de constantes em Python\n",
    "CONSTANTE_CLIENTE = 'Ada Lovelace'"
   ]
  },
  {
   "cell_type": "code",
   "execution_count": 4,
   "metadata": {},
   "outputs": [],
   "source": [
    "CONSTANTE_CLIENTE = 'Outro nome'"
   ]
  },
  {
   "cell_type": "code",
   "execution_count": 5,
   "metadata": {},
   "outputs": [],
   "source": [
    "# Algumas palavras são reservadas para o Python\n",
    "\n",
    "# for False ... "
   ]
  },
  {
   "cell_type": "code",
   "execution_count": 6,
   "metadata": {},
   "outputs": [
    {
     "data": {
      "text/plain": [
       "6"
      ]
     },
     "execution_count": 6,
     "metadata": {},
     "output_type": "execute_result"
    }
   ],
   "source": [
    "# sum é uma função nativa do Python\n",
    "\n",
    "sum([1, 2, 3]) # 6"
   ]
  },
  {
   "cell_type": "code",
   "execution_count": 8,
   "metadata": {},
   "outputs": [],
   "source": [
    "# Atribuímos um valor a variável sum\n",
    "sum = 10 "
   ]
  },
  {
   "cell_type": "code",
   "execution_count": 9,
   "metadata": {},
   "outputs": [
    {
     "ename": "TypeError",
     "evalue": "'int' object is not callable",
     "output_type": "error",
     "traceback": [
      "\u001b[1;31m---------------------------------------------------------------------------\u001b[0m",
      "\u001b[1;31mTypeError\u001b[0m                                 Traceback (most recent call last)",
      "\u001b[1;32mc:\\Users\\thiag\\OneDrive\\Desktop\\Ada - Lógica de Programação\\LPI\\LPI - Aula 01 - Variáveis.ipynb Cell 12\u001b[0m line \u001b[0;36m<cell line: 3>\u001b[1;34m()\u001b[0m\n\u001b[0;32m      <a href='vscode-notebook-cell:/c%3A/Users/thiag/OneDrive/Desktop/Ada%20-%20L%C3%B3gica%20de%20Programa%C3%A7%C3%A3o/LPI/LPI%20-%20Aula%2001%20-%20Vari%C3%A1veis.ipynb#X50sZmlsZQ%3D%3D?line=0'>1</a>\u001b[0m \u001b[39m# O que vai acontecer se usar a função sum novamente?\u001b[39;00m\n\u001b[1;32m----> <a href='vscode-notebook-cell:/c%3A/Users/thiag/OneDrive/Desktop/Ada%20-%20L%C3%B3gica%20de%20Programa%C3%A7%C3%A3o/LPI/LPI%20-%20Aula%2001%20-%20Vari%C3%A1veis.ipynb#X50sZmlsZQ%3D%3D?line=2'>3</a>\u001b[0m \u001b[39msum\u001b[39;49m([\u001b[39m1\u001b[39;49m, \u001b[39m2\u001b[39;49m, \u001b[39m3\u001b[39;49m])\n",
      "\u001b[1;31mTypeError\u001b[0m: 'int' object is not callable"
     ]
    }
   ],
   "source": [
    "# O que vai acontecer se usar a função sum novamente?\n",
    "\n",
    "sum([1, 2, 3])"
   ]
  },
  {
   "cell_type": "code",
   "execution_count": 12,
   "metadata": {},
   "outputs": [],
   "source": [
    "# Podemos fazer isso (mas é sacanagem...)\n",
    "\n",
    "true = False \n",
    "false = True "
   ]
  },
  {
   "cell_type": "code",
   "execution_count": null,
   "metadata": {},
   "outputs": [],
   "source": [
    "true = verdadeiro"
   ]
  },
  {
   "cell_type": "code",
   "execution_count": null,
   "metadata": {},
   "outputs": [],
   "source": [
    "# Não podemos fazer isso \n",
    "False = True "
   ]
  },
  {
   "cell_type": "markdown",
   "metadata": {},
   "source": [
    "### 2. Tipos de variáveis\n",
    "\n",
    "Variáveis podem ter diferentes tipos. Alguns tipos são considerados tipos primitivos, ou seja, eles são tipos de dados mais básicos que podem ser utilizados para compor outros tipos mais complexos. Em Python esses tipos levam os seguintes nomes:\n",
    "\n",
    "* **int**: números inteiros, ou seja, números sem parte decimal: 0, 5, -1, 1000\n",
    "\n",
    "* **float**: números reais, ou seja, números com parte decimal: 1.0, -2.7, 3.14\n",
    "\n",
    "* **str**: cadeias de caracteres (strings), ou seja, dados textuais: 'Olá Mundo!', \"eu tenho 18 anos\"\n",
    "\n",
    "* **bool**: valores lógicos (booleanos), ou seja, apenas um entre dois valores possíveis: True ou False"
   ]
  },
  {
   "cell_type": "code",
   "execution_count": null,
   "metadata": {},
   "outputs": [],
   "source": [
    "# String \n",
    "Nome = 'José Diniz'\n",
    "\n",
    "# Inteiro \n",
    "idade = 30\n",
    "\n",
    "# Float \n",
    "altura = 1.80\n",
    "\n",
    "# Booleano\n",
    "verdadeiro = True"
   ]
  },
  {
   "cell_type": "code",
   "execution_count": 14,
   "metadata": {},
   "outputs": [
    {
     "ename": "SyntaxError",
     "evalue": "cannot assign to literal here. Maybe you meant '==' instead of '='? (1691072280.py, line 4)",
     "output_type": "error",
     "traceback": [
      "\u001b[1;36m  Input \u001b[1;32mIn [14]\u001b[1;36m\u001b[0m\n\u001b[1;33m    'Nome' = 'Thiago'\u001b[0m\n\u001b[1;37m    ^\u001b[0m\n\u001b[1;31mSyntaxError\u001b[0m\u001b[1;31m:\u001b[0m cannot assign to literal here. Maybe you meant '==' instead of '='?\n"
     ]
    }
   ],
   "source": [
    "# Não podemos fazer isso!\n",
    "# (Sintaxe de assign)\n",
    "\n",
    "'Nome' = 'Thiago'\n",
    "True = 'Meu nome é José Diniz'"
   ]
  },
  {
   "cell_type": "code",
   "execution_count": null,
   "metadata": {},
   "outputs": [],
   "source": [
    "nome = 'Zé'"
   ]
  },
  {
   "cell_type": "markdown",
   "metadata": {},
   "source": [
    "### 3. Comentários\n",
    "\n",
    "Note que nos exemplos acima, escrevemos textos no meio do código utilizando o símbolo #. Esses textos são comentários: quando utilizamos o símbolo #, o Python irá ignorar tudo o que vier em seguida (na mesma linha). Utilizamos comentários para explicar pedaços do nosso código para que nós mesmos ou outros colegas no futuro entendam o que fizemos e possam modificar ou corrigir o código com mais facilidade. Também podemos escrever comentários de múltiplas linhas utilizando aspas triplas - neste caso, as utilizamos para abrir e depois para fechar o bloco de comentários."
   ]
  },
  {
   "cell_type": "code",
   "execution_count": 17,
   "metadata": {},
   "outputs": [],
   "source": [
    "# Comentário 'normal'"
   ]
  },
  {
   "cell_type": "code",
   "execution_count": 16,
   "metadata": {},
   "outputs": [
    {
     "data": {
      "text/plain": [
       "'\\ndocstring \\n* Documentação de um código \\n* Comentário de várias linhas\\n'"
      ]
     },
     "execution_count": 16,
     "metadata": {},
     "output_type": "execute_result"
    }
   ],
   "source": [
    "'''\n",
    "docstring \n",
    "* Documentação de um código \n",
    "* Comentário de várias linhas\n",
    "'''"
   ]
  },
  {
   "cell_type": "markdown",
   "metadata": {},
   "source": [
    "### Have a break :-) \n",
    "(Exercícios de fixação)\n",
    "\n",
    "\n",
    "1. **Registro de Pedidos**: Imagine que você está desenvolvendo um sistema de registro de pedidos para o iFood. Crie variáveis que representem informações como o nome do restaurante, o nome do cliente, o valor do pedido e a data do pedido."
   ]
  },
  {
   "cell_type": "code",
   "execution_count": null,
   "metadata": {},
   "outputs": [],
   "source": [
    "#from datetime import datetime "
   ]
  },
  {
   "cell_type": "code",
   "execution_count": null,
   "metadata": {},
   "outputs": [],
   "source": [
    "restaurante_nome = 'Restaurante do Zé'\n",
    "restaurante_id = 1\n",
    "restaurante_endereco = 'Rua C, 1000'\n",
    "restaurante_aberto = True \n",
    "\n",
    "cliente_nome = 'José Diniz'\n",
    "cliente_data_pedido = '2020-01-01'\n",
    "cliente_endereco = 'Rua A, 123'\n",
    "\n",
    "pedido_valor = 100.00\n",
    "pedido_id = 1"
   ]
  },
  {
   "cell_type": "markdown",
   "metadata": {},
   "source": [
    "### 4. Saídas\n",
    "\n",
    "Chamamos de saídas do nosso programa todos os dados que são gerados pelo programa e serão fornecidos para o usuário. A função de saída em tela no Python é o print. Colocamos entre parênteses o dado que queremos que apareça.\n"
   ]
  },
  {
   "cell_type": "code",
   "execution_count": 18,
   "metadata": {},
   "outputs": [
    {
     "name": "stdout",
     "output_type": "stream",
     "text": [
      "olá mundo!\n"
     ]
    }
   ],
   "source": [
    "print('olá mundo!') # exibe a frase 'olá mundo' na tela"
   ]
  },
  {
   "cell_type": "code",
   "execution_count": 21,
   "metadata": {},
   "outputs": [
    {
     "name": "stdout",
     "output_type": "stream",
     "text": [
      "20\n"
     ]
    }
   ],
   "source": [
    "idade = 20\n",
    "# Usando o print com uma variável\n",
    "print(idade)"
   ]
  },
  {
   "cell_type": "code",
   "execution_count": 25,
   "metadata": {},
   "outputs": [
    {
     "name": "stdout",
     "output_type": "stream",
     "text": [
      "Oi, eu sou o Mario e eu programo em Python\n"
     ]
    }
   ],
   "source": [
    "nome = 'Mario'\n",
    "linguagem = 'Python'\n",
    "print('Oi, eu sou o', nome, 'e eu programo em', linguagem)"
   ]
  },
  {
   "cell_type": "code",
   "execution_count": 27,
   "metadata": {},
   "outputs": [
    {
     "name": "stdout",
     "output_type": "stream",
     "text": [
      "Oi, eu sou o.Mario***Eu programo em@Python\n"
     ]
    }
   ],
   "source": [
    "nome = 'Mario'\n",
    "linguagem = 'Python'\n",
    "print('Oi, eu sou o', nome, sep='.', end='***')\n",
    "print('Eu programo em', linguagem, sep='@')"
   ]
  },
  {
   "cell_type": "code",
   "execution_count": 35,
   "metadata": {},
   "outputs": [
    {
     "name": "stdout",
     "output_type": "stream",
     "text": [
      "Oi, eu sou o Mario e eu programo em Python com o preço de 100.01. Idade = 03\n"
     ]
    }
   ],
   "source": [
    "preco = 100.0050555434678\n",
    "idade = 3\n",
    "print(f'Oi, eu sou o {nome} e eu programo em {linguagem} com o preço de {preco:2.2f}. Idade = {idade:02d}')"
   ]
  },
  {
   "cell_type": "markdown",
   "metadata": {},
   "source": [
    "### 5. Entradas\n",
    "\n",
    "Assim como temos dados de saída - dados gerados pelo código e fornecidos para o usuário - também temos dados de entrada: informações que o usuário possui e deve fornecer ao código. Para receber entradas pelo teclado, utilizaremos a função input. Devemos levar uma variável a receber o valor capturado pelo input.\n",
    "\n"
   ]
  },
  {
   "cell_type": "code",
   "execution_count": 36,
   "metadata": {},
   "outputs": [
    {
     "name": "stdout",
     "output_type": "stream",
     "text": [
      "Olá Thiago\n"
     ]
    }
   ],
   "source": [
    "nome = input('Insira o teu nome')\n",
    "print('Olá', nome)"
   ]
  },
  {
   "cell_type": "markdown",
   "metadata": {},
   "source": [
    "O programa acima captura o nome do usuário e em seguida mostra a mensagem \"olá\" seguida do nome do usuário. Note que o programa fica parado em uma tela em branco com um cursor piscando aguardando a digitação pelo usuário. Isso pode ser confuso para o usuário, que não sabe o que o programa está esperando. Por isso, dentro dos parênteses do input podemos colocar uma mensagem simples informando o que o programa gostaria que ele fizesse:"
   ]
  },
  {
   "cell_type": "code",
   "execution_count": null,
   "metadata": {},
   "outputs": [],
   "source": [
    "nome = input('Qual é o seu nome?')\n",
    "print('Olá', nome)"
   ]
  },
  {
   "cell_type": "markdown",
   "metadata": {},
   "source": [
    "#### 5.1. Determinando o tipo da entrada\n",
    "\n",
    "Vamos imaginar um programa que informa quantos anos falta para que uma criança atinja a maioridade. Podemos ler a idade da criança pelo teclado (entrada), subtrair a idade do número 18 (processamento) e exibir o resultado da conta na tela (saída). Considere a solução abaixo:\n"
   ]
  },
  {
   "cell_type": "code",
   "execution_count": 37,
   "metadata": {},
   "outputs": [
    {
     "ename": "TypeError",
     "evalue": "unsupported operand type(s) for -: 'int' and 'str'",
     "output_type": "error",
     "traceback": [
      "\u001b[1;31m---------------------------------------------------------------------------\u001b[0m",
      "\u001b[1;31mTypeError\u001b[0m                                 Traceback (most recent call last)",
      "\u001b[1;32mc:\\Users\\thiag\\OneDrive\\Desktop\\Ada - Lógica de Programação\\LPI\\LPI - Aula 01 - Variáveis.ipynb Cell 37\u001b[0m line \u001b[0;36m<cell line: 2>\u001b[1;34m()\u001b[0m\n\u001b[0;32m      <a href='vscode-notebook-cell:/c%3A/Users/thiag/OneDrive/Desktop/Ada%20-%20L%C3%B3gica%20de%20Programa%C3%A7%C3%A3o/LPI/LPI%20-%20Aula%2001%20-%20Vari%C3%A1veis.ipynb#X30sZmlsZQ%3D%3D?line=0'>1</a>\u001b[0m idade \u001b[39m=\u001b[39m \u001b[39minput\u001b[39m(\u001b[39m'\u001b[39m\u001b[39mDigite a sua idade: \u001b[39m\u001b[39m'\u001b[39m)\n\u001b[1;32m----> <a href='vscode-notebook-cell:/c%3A/Users/thiag/OneDrive/Desktop/Ada%20-%20L%C3%B3gica%20de%20Programa%C3%A7%C3%A3o/LPI/LPI%20-%20Aula%2001%20-%20Vari%C3%A1veis.ipynb#X30sZmlsZQ%3D%3D?line=1'>2</a>\u001b[0m resto \u001b[39m=\u001b[39m \u001b[39m18\u001b[39;49m \u001b[39m-\u001b[39;49m idade\n\u001b[0;32m      <a href='vscode-notebook-cell:/c%3A/Users/thiag/OneDrive/Desktop/Ada%20-%20L%C3%B3gica%20de%20Programa%C3%A7%C3%A3o/LPI/LPI%20-%20Aula%2001%20-%20Vari%C3%A1veis.ipynb#X30sZmlsZQ%3D%3D?line=2'>3</a>\u001b[0m \u001b[39mprint\u001b[39m(\u001b[39m'\u001b[39m\u001b[39mFaltam\u001b[39m\u001b[39m'\u001b[39m, resto, \u001b[39m'\u001b[39m\u001b[39manos.\u001b[39m\u001b[39m'\u001b[39m)\n",
      "\u001b[1;31mTypeError\u001b[0m: unsupported operand type(s) for -: 'int' and 'str'"
     ]
    }
   ],
   "source": [
    "idade = input('Digite a sua idade: ')\n",
    "resto = 18 - idade\n",
    "print('Faltam', resto, 'anos.')"
   ]
  },
  {
   "cell_type": "code",
   "execution_count": 41,
   "metadata": {},
   "outputs": [
    {
     "name": "stdout",
     "output_type": "stream",
     "text": [
      "Faltam -21 anos.\n"
     ]
    }
   ],
   "source": [
    "idade = int(input('Digite a sua idade: '))\n",
    "resto = 18 - idade\n",
    "print('Faltam', resto, 'anos.')"
   ]
  },
  {
   "cell_type": "markdown",
   "metadata": {},
   "source": [
    "## Dúvida!\n",
    "\n",
    "Como podemos reformular o exercício de fixação para que o usuário consiga inserir as próprias informações?"
   ]
  },
  {
   "cell_type": "code",
   "execution_count": null,
   "metadata": {},
   "outputs": [],
   "source": []
  },
  {
   "cell_type": "markdown",
   "metadata": {},
   "source": [
    "### 6. Expressões aritméticas\n",
    "\n",
    "Como podemos observar no exemplo anterior, o Python faz operações aritméticas de maneira bastante intuitiva, similar ao que estamos acostumados. Os operadores aceitos são:\n",
    "\n",
    "* Soma: +\n",
    "\n",
    "* Subtração: -\n",
    " \n",
    "* Multiplicação: *\n",
    "\n",
    "* Divisão: /\n",
    "\n",
    "* Divisão inteira: //\n",
    "\n",
    "* Resto da divisão: %\n",
    "\n",
    "* Potência: **"
   ]
  },
  {
   "cell_type": "code",
   "execution_count": null,
   "metadata": {},
   "outputs": [],
   "source": [
    "numero1 = int(input('Digite um número: '))\n",
    "numero2 = int(input('Digite outro número:'))\n",
    "soma = numero1 + numero2\n",
    "subtracao = numero1 - numero2\n",
    "multiplicacao = numero1 * numero2\n",
    "divisao_real = numero1 / numero2\n",
    "divisao_inteira = numero1 // numero2\n",
    "resto = numero1 % numero2\n",
    "elevado = numero1 ** numero2\n",
    "print('Soma: ', soma)\n",
    "print('Subtração: ', subtracao)\n",
    "print('Multiplicação: ', multiplicacao)\n",
    "print('Divisão: ', divisao_real)\n",
    "print('Divisão inteira: ', divisao_inteira)\n",
    "print('Resto da divisão: ', resto)\n",
    "print('Potência: ', elevado)\n"
   ]
  },
  {
   "cell_type": "markdown",
   "metadata": {},
   "source": [
    "## Exercícios"
   ]
  },
  {
   "cell_type": "markdown",
   "metadata": {},
   "source": [
    "1. **Contagem de Pedidos**: Como você armazenaria a contagem de pedidos de vários restaurantes em um único dia? \n",
    "\n",
    "2. **Tempo de Entrega**: Suponha que você queira criar uma variável para armazenar o tempo médio de entrega de pedidos em minutos. Como você faria isso?\n",
    "\n",
    "3. **Descontos e Promoções**: Como você representaria descontos e promoções em um programa Python? Peça aos alunos para criar variáveis que armazenem informações sobre descontos e promoções em um pedido. Suponha que o usuário deve inserir o preço do pedido e também o desconto utilizado."
   ]
  },
  {
   "cell_type": "code",
   "execution_count": null,
   "metadata": {},
   "outputs": [],
   "source": []
  }
 ],
 "metadata": {
  "kernelspec": {
   "display_name": "Python 3",
   "language": "python",
   "name": "python3"
  },
  "language_info": {
   "codemirror_mode": {
    "name": "ipython",
    "version": 3
   },
   "file_extension": ".py",
   "mimetype": "text/x-python",
   "name": "python",
   "nbconvert_exporter": "python",
   "pygments_lexer": "ipython3",
   "version": "3.10.4"
  },
  "orig_nbformat": 4
 },
 "nbformat": 4,
 "nbformat_minor": 2
}
