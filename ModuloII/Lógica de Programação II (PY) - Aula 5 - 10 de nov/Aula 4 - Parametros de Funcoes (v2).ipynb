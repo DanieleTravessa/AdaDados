{
 "cells": [
  {
   "cell_type": "markdown",
   "id": "798301ac",
   "metadata": {},
   "source": [
    "# Parâmetros e retorno de funções\n",
    "\n",
    "Quando estudamos funções, aprendemos que elas podem receber dados (parâmetros) e podem fornecer uma resposta (retorno). Porém, o número de parâmetros era fixo para cada função: um dado para cada parâmetro que declaramos na definição da função. Da mesma forma, a função poderia retornar exatamente um resultado.\n",
    "\n",
    "Em alguns casos, mais flexibilidade seria útil. Utilizando tuplas e dicionários conseguimos essa flexibilidade."
   ]
  },
  {
   "cell_type": "markdown",
   "id": "8905a23b",
   "metadata": {},
   "source": [
    "### Breve revisão de funções e desempacotamento de coleções"
   ]
  },
  {
   "cell_type": "code",
   "execution_count": 1,
   "id": "3a0010a1",
   "metadata": {},
   "outputs": [
    {
     "name": "stdout",
     "output_type": "stream",
     "text": [
      "31/01/2000 : True\n",
      "31/02/2000 : False\n",
      "31/03/2000 : True\n",
      "31/04/2000 : False\n",
      "31/05/2000 : True\n",
      "31/06/2000 : False\n",
      "31/07/2000 : True\n",
      "31/08/2000 : True\n"
     ]
    }
   ],
   "source": [
    "def valida_data(data):\n",
    "    dia = int(data[0:2])\n",
    "    mes = int(data[3:5])\n",
    "    if dia > 31 or dia <1:\n",
    "        return False\n",
    "    if dia > 30 and (mes == 2 or mes == 4 or mes == 6 or mes == 9 or mes == 11):\n",
    "        return False\n",
    "    if dia > 28 and mes == 2:\n",
    "        return False\n",
    "    return True\n",
    "\n",
    "for data in [\"31/01/2000\", \"31/02/2000\", \"31/03/2000\", \"31/04/2000\", \"31/05/2000\", \"31/06/2000\", \"31/07/2000\", \"31/08/2000\"]:\n",
    "    print(data, valida_data(data), sep = ' : ')"
   ]
  },
  {
   "cell_type": "code",
   "execution_count": null,
   "id": "b1b2b7f1",
   "metadata": {},
   "outputs": [],
   "source": [
    "x, *y, z = ('Lista', 'Dicionário', 'Set', 'Tupla')"
   ]
  },
  {
   "cell_type": "code",
   "execution_count": null,
   "id": "dec23ba8",
   "metadata": {},
   "outputs": [],
   "source": []
  },
  {
   "cell_type": "markdown",
   "id": "99858fd4",
   "metadata": {},
   "source": [
    "## Funções com retorno múltiplo\n",
    "\n",
    "Vejamos um caso simples: uma função que retorna os valores máximo e mínimo de uma coleção, separados por vírgula.\n",
    "Vamos imprimir o resultado e verificar o que acontece."
   ]
  },
  {
   "cell_type": "code",
   "execution_count": 12,
   "id": "d5fc70ab",
   "metadata": {},
   "outputs": [
    {
     "data": {
      "text/plain": [
       "int"
      ]
     },
     "execution_count": 12,
     "metadata": {},
     "output_type": "execute_result"
    }
   ],
   "source": [
    "def min_max(colecao):\n",
    "    maior = max(colecao)\n",
    "    menor = min(colecao)\n",
    "    return maior, menor\n",
    "\n",
    "lista = [10, 2, 6, 8, 7]\n",
    "resultado = min_max(lista)\n",
    "type(resultado[1])"
   ]
  },
  {
   "cell_type": "markdown",
   "id": "44dd5a42",
   "metadata": {},
   "source": [
    "Se você executar o resultado acima, verá que o retorno da função é uma tupla. Lembre-se que expressões contendo valores separados por vírgula em Python, mesmo na ausência de parênteses, são tratadas como tuplas.\n",
    "\n",
    "No capítulo de tuplas, estudamos a operação de *desempacotamento de tuplas*. Sua aplicação neste caso pode ajudar a de fato lidar com essa função como sendo uma função que retorna múltiplos valores ao invés de simplesmente uma função que retorna uma tupla:"
   ]
  },
  {
   "cell_type": "code",
   "execution_count": 14,
   "id": "142da691",
   "metadata": {},
   "outputs": [
    {
     "data": {
      "text/plain": [
       "int"
      ]
     },
     "execution_count": 14,
     "metadata": {},
     "output_type": "execute_result"
    }
   ],
   "source": [
    "def min_max(colecao):\n",
    "    maior = max(colecao)\n",
    "    menor = min(colecao)\n",
    "    return maior, menor\n",
    "\n",
    "lista = [10, 2, 6, 8, 7]\n",
    "maior, menor = min_max(lista)\n",
    "type(maior)"
   ]
  },
  {
   "cell_type": "code",
   "execution_count": 16,
   "id": "1a47113c",
   "metadata": {},
   "outputs": [
    {
     "ename": "TypeError",
     "evalue": "min_max() missing 1 required positional argument: 'colecao'",
     "output_type": "error",
     "traceback": [
      "\u001b[1;31m---------------------------------------------------------------------------\u001b[0m",
      "\u001b[1;31mTypeError\u001b[0m                                 Traceback (most recent call last)",
      "Cell \u001b[1;32mIn[16], line 1\u001b[0m\n\u001b[1;32m----> 1\u001b[0m \u001b[43mmin_max\u001b[49m\u001b[43m(\u001b[49m\u001b[43m)\u001b[49m\n",
      "\u001b[1;31mTypeError\u001b[0m: min_max() missing 1 required positional argument: 'colecao'"
     ]
    }
   ],
   "source": [
    "min_max()"
   ]
  },
  {
   "cell_type": "markdown",
   "id": "f13983bc",
   "metadata": {},
   "source": [
    "Todas as variações de desempacotamento de tupla que já estudamos, incluindo o uso do operador **\\*** para agrupar e/ou descartar parte dos valores retornados podem ser empregadas aqui."
   ]
  },
  {
   "cell_type": "markdown",
   "id": "4fc53a97",
   "metadata": {},
   "source": [
    "## Parâmetros com valores padrão\n",
    "\n",
    "Uma primeira forma de trabalhar com a ideia de parâmetros opcionais é atribuir valores padrão para nossos parâmetros. Quando fazemos isso, quando a função for chamada, o parâmetro pode **ou** não ser passado. Caso ele não seja passado, é adotado o valor padrão.\n",
    "\n",
    "Devemos primeiro colocar os parâmetros \"comuns\" (conhecidos como _argumentos posicionais_) para depois colocar os argumentos com valor padrão. Imagine, por exemplo, uma função que padroniza _strings_ jogando todo seu conteúdo para upper ou lower. Podemos implementá-la da seguinte maneira:"
   ]
  },
  {
   "cell_type": "code",
   "execution_count": 18,
   "id": "ddb16128",
   "metadata": {},
   "outputs": [
    {
     "name": "stdout",
     "output_type": "stream",
     "text": [
      "eiiitaaa mainhaaa!! esse lorem ipsum é só na sacanageeem!! e que abundância meu irmão viuu!! assim você vai matar o papai. só digo uma coisa, domingo ela não vai! danadaa!! vem minha odalisca, agora faz essa cobra coral subir!!! pau que nasce torto, nunca se endireita. tchannn!! tchannn!! tu du du pááá! eu gostchu muitchu, heinn! danadinha! mainhaa! agora use meu lorem ipsum ordinária!!! olha o quibeee! rema, rema, ordinária!.\n"
     ]
    }
   ],
   "source": [
    "def padroniza_texto(texto, upper = True):\n",
    "    if upper:\n",
    "        return texto.upper()\n",
    "    else:\n",
    "        return texto.lower()\n",
    "    \n",
    "\n",
    "    \n",
    "print(padroniza_texto(\"\"\"Eiiitaaa Mainhaaa!! Esse Lorem ipsum é só na sacanageeem!! E que abundância meu irmão viuu!! Assim você vai matar o papai. Só digo uma coisa, Domingo ela não vai! Danadaa!! Vem minha odalisca, agora faz essa cobra coral subir!!! Pau que nasce torto, Nunca se endireita. Tchannn!! Tchannn!! Tu du du pááá! Eu gostchu muitchu, heinn! danadinha! Mainhaa! Agora use meu lorem ipsum ordinária!!! Olha o quibeee! rema, rema, ordinária!.\"\"\", upper = False))"
   ]
  },
  {
   "cell_type": "markdown",
   "id": "b63d0dac",
   "metadata": {},
   "source": [
    "## Funções com quantidade variável de parâmetros\n",
    "\n",
    "Talvez você já tenha notado que o _print_ é uma função. Se não notou, esse é um bom momento para pensar a respeito. Nós sempre usamos com parênteses, nós passamos informações dentro dos parênteses (os dados a serem impressos) e ele faz um monte de coisa automaticamente: converte todos os dados passados para _string_, concatena todas as _strings_ com um espaço entre elas e as escreve na tela.\n",
    "\n",
    "Algo que o _print_ tem que as nossas funções não tinham é a capacidade de receber uma quantidade variável de parâmetros. Nós podemos passar 0 dados (e, neste caso, ele apenas pulará uma linha), 1 dado, 2 dados, 3 dados... Quantos dados quisermos e ele funcionará para todos esses casos. Se temos que declarar todos os parâmetros, como fazer para que múltiplos dados possam ser passados?"
   ]
  },
  {
   "cell_type": "code",
   "execution_count": 40,
   "id": "e13a1039",
   "metadata": {},
   "outputs": [],
   "source": [
    "def somatorio(*numeros):\n",
    "    print(numeros)\n",
    "    print(type(numeros))\n",
    "    \n",
    "    soma = [0]\n",
    "    for numero in numeros:\n",
    "        soma = soma + numero\n",
    "    return soma"
   ]
  },
  {
   "cell_type": "code",
   "execution_count": 20,
   "id": "a798c5ba",
   "metadata": {},
   "outputs": [
    {
     "name": "stdout",
     "output_type": "stream",
     "text": [
      "(1, 2, 3)\n",
      "<class 'tuple'>\n"
     ]
    },
    {
     "data": {
      "text/plain": [
       "6"
      ]
     },
     "execution_count": 20,
     "metadata": {},
     "output_type": "execute_result"
    }
   ],
   "source": [
    "somatorio(1,2,3)"
   ]
  },
  {
   "cell_type": "code",
   "execution_count": 21,
   "id": "59ec8818",
   "metadata": {},
   "outputs": [
    {
     "name": "stdout",
     "output_type": "stream",
     "text": [
      "(6, 5, 4, 9, 8, 7, 1, 2, 3)\n",
      "<class 'tuple'>\n"
     ]
    },
    {
     "data": {
      "text/plain": [
       "45"
      ]
     },
     "execution_count": 21,
     "metadata": {},
     "output_type": "execute_result"
    }
   ],
   "source": [
    "somatorio(6,5,4,9,8,7,1,2,3)"
   ]
  },
  {
   "cell_type": "code",
   "execution_count": 24,
   "id": "8d651071",
   "metadata": {},
   "outputs": [
    {
     "name": "stdout",
     "output_type": "stream",
     "text": [
      "(1,)\n",
      "<class 'tuple'>\n"
     ]
    },
    {
     "data": {
      "text/plain": [
       "1"
      ]
     },
     "execution_count": 24,
     "metadata": {},
     "output_type": "execute_result"
    }
   ],
   "source": [
    "somatorio(1)"
   ]
  },
  {
   "cell_type": "code",
   "execution_count": 31,
   "id": "6789275e",
   "metadata": {},
   "outputs": [
    {
     "data": {
      "text/plain": [
       "('1',)"
      ]
     },
     "execution_count": 31,
     "metadata": {},
     "output_type": "execute_result"
    }
   ],
   "source": [
    "t = tuple('1')\n",
    "t"
   ]
  },
  {
   "cell_type": "code",
   "execution_count": 32,
   "id": "17fda2c4",
   "metadata": {},
   "outputs": [
    {
     "name": "stdout",
     "output_type": "stream",
     "text": [
      "()\n",
      "<class 'tuple'>\n"
     ]
    },
    {
     "data": {
      "text/plain": [
       "0"
      ]
     },
     "execution_count": 32,
     "metadata": {},
     "output_type": "execute_result"
    }
   ],
   "source": [
    "somatorio()"
   ]
  },
  {
   "cell_type": "code",
   "execution_count": 38,
   "id": "f7da5e14",
   "metadata": {},
   "outputs": [
    {
     "data": {
      "text/plain": [
       "(6, 5, 4, 9, 8, 7, 1, 2, 3)"
      ]
     },
     "execution_count": 38,
     "metadata": {},
     "output_type": "execute_result"
    }
   ],
   "source": [
    "tuple([6,5,4,9,8,7,1,2,3])"
   ]
  },
  {
   "cell_type": "code",
   "execution_count": 41,
   "id": "285c4285",
   "metadata": {},
   "outputs": [
    {
     "name": "stdout",
     "output_type": "stream",
     "text": [
      "([6, 5, 4, 9, 8, 7, 1, 2, 3],)\n",
      "<class 'tuple'>\n"
     ]
    },
    {
     "data": {
      "text/plain": [
       "[0, 6, 5, 4, 9, 8, 7, 1, 2, 3]"
      ]
     },
     "execution_count": 41,
     "metadata": {},
     "output_type": "execute_result"
    }
   ],
   "source": [
    "somatorio([6,5,4,9,8,7,1,2,3])"
   ]
  },
  {
   "cell_type": "markdown",
   "id": "1c4a24c3",
   "metadata": {},
   "source": [
    "### Agrupando parâmetros\n",
    "\n",
    "A solução é utilizar o operador **\\***.  Ao colocarmos o **\\*** ao lado do nome de um parâmetro na definição da função, estamos dizendo que aquele argumento será uma coleção. Mais especificamente, uma tupla. Porém, o usuário não irá passar uma tupla. Ele irá passar quantos argumentos ele quiser, separados por vírgula, e o Python automaticamente criará uma tupla.\n",
    "\n",
    "O exemplo abaixo cria uma função de somatório que pode receber uma quantidade arbitrária de números."
   ]
  },
  {
   "cell_type": "code",
   "execution_count": 36,
   "id": "ba6b646d",
   "metadata": {},
   "outputs": [
    {
     "ename": "SyntaxError",
     "evalue": "multiple starred expressions in assignment (2922483654.py, line 4)",
     "output_type": "error",
     "traceback": [
      "\u001b[1;36m  Cell \u001b[1;32mIn[36], line 4\u001b[1;36m\u001b[0m\n\u001b[1;33m    x, k1, *k2, *y, z = fun(6,5,4,9,8,7,1,2,3)\u001b[0m\n\u001b[1;37m    ^\u001b[0m\n\u001b[1;31mSyntaxError\u001b[0m\u001b[1;31m:\u001b[0m multiple starred expressions in assignment\n"
     ]
    }
   ],
   "source": [
    "def fun(*numeros):\n",
    "    return numeros\n",
    "\n",
    "x, *y, z = fun(6,5,4,9,8,7,1,2,3)\n",
    "print(x)\n",
    "print(y)\n",
    "print(z)"
   ]
  },
  {
   "cell_type": "markdown",
   "id": "16f2a804",
   "metadata": {},
   "source": [
    "### Expandindo uma coleção\n",
    "\n",
    "O exemplo acima funciona muito bem quando o usuário da função possui vários dados avulsos, pois ele os agrupa em uma coleção. Mas o que acontece quando os dados já estão agrupados?"
   ]
  },
  {
   "cell_type": "code",
   "execution_count": 48,
   "id": "33d59763",
   "metadata": {},
   "outputs": [],
   "source": [
    "def somatorio(*numeros):\n",
    "    print(numeros)\n",
    "    print(type(numeros))\n",
    "    \n",
    "    soma = 0\n",
    "    for numero in numeros:\n",
    "        soma = soma + numero\n",
    "    return soma"
   ]
  },
  {
   "cell_type": "code",
   "execution_count": 49,
   "id": "6bbf4b0a",
   "metadata": {},
   "outputs": [
    {
     "name": "stdout",
     "output_type": "stream",
     "text": [
      "(6, 5, 4, 9, 8, 7, 1, 2, 3)\n",
      "<class 'tuple'>\n"
     ]
    },
    {
     "data": {
      "text/plain": [
       "45"
      ]
     },
     "execution_count": 49,
     "metadata": {},
     "output_type": "execute_result"
    }
   ],
   "source": [
    "lista = [6,5,4,9,8,7,1,2,3]\n",
    "somatorio(*lista)"
   ]
  },
  {
   "cell_type": "markdown",
   "id": "99e0e368",
   "metadata": {},
   "source": [
    "### Regra geral\n",
    "\n",
    "Se tem * descompactando os valores<br>\n",
    "Se não tem *, os valores vão na forma que estiverem.\n"
   ]
  },
  {
   "cell_type": "markdown",
   "id": "97a84074",
   "metadata": {
    "ExecuteTime": {
     "end_time": "2022-10-08T17:56:46.044495Z",
     "start_time": "2022-10-08T17:56:46.031554Z"
    }
   },
   "source": [
    "Note que o programa dará erro, pois como os _print_ dentro da função ilustram, foi criada uma tupla, e na primeira posição da tupla foi armazenada a lista. Isso não funciona com a lógica que projetamos.\n",
    "\n",
    "Para casos assim, utilizaremos o operador **\\*** na chamada da função também. Na definição, o operador **\\*** indica que devemos agrupar itens avulsos em uma coleção. Na chamada, ele indica que uma coleção deve ser expandida em itens avulsos."
   ]
  },
  {
   "cell_type": "markdown",
   "id": "e866c567",
   "metadata": {},
   "source": [
    "No programa acima, a lista é expandida em 5 valores avulsos, e em seguida a função agrupa os 5 itens em uma tupla chamada \"numeros\". "
   ]
  },
  {
   "cell_type": "markdown",
   "id": "4cc37e98",
   "metadata": {},
   "source": [
    "## Parâmetros opcionais\n",
    "\n",
    "Outra possibilidade são funções com parâmetros opcionais. Note que isso é diferente de termos quantidade variável de parâmetros. \n",
    "\n",
    "No caso da quantidade variável, normalmente são diversos parâmetros com a mesma utilidade (números a serem somados, valores a serem exibidos, etc). \n",
    "\n",
    "Já os parâmetros opcionais são informações distintas que podem ou não ser passadas para a função. Você pode ou não passá-los, e sempre deve indicar o seu nome ao passá-los.\n",
    "\n",
    "Já estudamos uma forma de parâmetros opcionais utilizando valores padrão. Mas para funções com uma **grande** quantidade de parâmetros opcionais, existe outra forma utilizando dicionários, apelidada como `**kwargs`."
   ]
  },
  {
   "cell_type": "markdown",
   "id": "0d37cf6e",
   "metadata": {},
   "source": [
    "### Criando **kwargs (keywords arguments)\n",
    "\n",
    "Para criar parâmetros opcionais, usaremos **\\*\\***, e os parâmetros passados serão agrupados em um dicionário: o nome do parâmetro será uma chave, e o valor será... o valor.\n",
    "\n",
    "O exemplo abaixo simula o cadastro de usuários em uma base de dados. Um usuário pode fornecer seu nome, seu CPF ou ambos."
   ]
  },
  {
   "cell_type": "code",
   "execution_count": 51,
   "id": "3c7eb0ab",
   "metadata": {},
   "outputs": [],
   "source": [
    "def cadastro(**usuario):\n",
    "    if 'nome' in usuario and not 'cpf' in usuario:\n",
    "        print('Nenhum usuário!')\n",
    "    else:\n",
    "        if 'nome' in usuario:\n",
    "            print(usuario['nome'])\n",
    "        if 'cpf' in usuario:\n",
    "            print(usuario['cpf'])\n",
    "        print('Registro completo: ', usuario)\n",
    "        print('--------------------------------')"
   ]
  },
  {
   "cell_type": "code",
   "execution_count": 52,
   "id": "b6d1d73e",
   "metadata": {},
   "outputs": [
    {
     "name": "stdout",
     "output_type": "stream",
     "text": [
      "Registro completo:  {}\n",
      "--------------------------------\n"
     ]
    }
   ],
   "source": [
    "cadastro()"
   ]
  },
  {
   "cell_type": "code",
   "execution_count": 56,
   "id": "027679f4",
   "metadata": {},
   "outputs": [
    {
     "name": "stdout",
     "output_type": "stream",
     "text": [
      "Nenhum usuário!\n",
      "None\n",
      "123\n",
      "Registro completo:  {'cpf': 123}\n",
      "--------------------------------\n",
      "None\n",
      "Bruno\n",
      "123\n",
      "Registro completo:  {'nome': 'Bruno', 'cpf': 123}\n",
      "--------------------------------\n",
      "None\n"
     ]
    }
   ],
   "source": [
    "print(cadastro(nome='Bruno'))\n",
    "print(cadastro(cpf=123))\n",
    "print(cadastro(nome='Bruno', cpf=123))"
   ]
  },
  {
   "cell_type": "markdown",
   "id": "4269d0d8",
   "metadata": {},
   "source": [
    "### Expandindo um dicionário\n",
    "\n",
    "Analogamente ao caso dos parâmetros múltiplos, é possível que o usuário da função já tenha os dados organizados em um dicionário. Neste caso, basta usar **\\*\\*** na chamada da função para expandir o dicionário em vários parâmetros opcionais:"
   ]
  },
  {
   "cell_type": "code",
   "execution_count": 58,
   "id": "95df7d1b",
   "metadata": {},
   "outputs": [
    {
     "name": "stdout",
     "output_type": "stream",
     "text": [
      "gabriel\n",
      "12345\n",
      "Registro completo:  {'nome': 'gabriel', 'cpf': 12345, 'rg': 987654}\n",
      "--------------------------------\n"
     ]
    }
   ],
   "source": [
    "usuario={'nome':'gabriel', 'cpf':12345, 'rg':987654}\n",
    "cadastro(**usuario)"
   ]
  },
  {
   "cell_type": "code",
   "execution_count": null,
   "id": "1ade0bd8",
   "metadata": {},
   "outputs": [],
   "source": [
    "cadas"
   ]
  },
  {
   "cell_type": "code",
   "execution_count": null,
   "id": "806b256f",
   "metadata": {},
   "outputs": [],
   "source": []
  },
  {
   "cell_type": "markdown",
   "id": "c5eaed83",
   "metadata": {},
   "source": [
    "### Função com args e kwargs"
   ]
  },
  {
   "cell_type": "code",
   "execution_count": null,
   "id": "35081d54",
   "metadata": {},
   "outputs": [],
   "source": []
  },
  {
   "cell_type": "markdown",
   "id": "53bbba81",
   "metadata": {},
   "source": [
    "> **Ordem dos parâmetros**\n",
    ">\n",
    "> Caso sua função vá combinar múltiplos tipos de parâmetro, sempre siga a seguinte ordem: argumentos posicionais (os comuns), argumentos com asterisco (tupla), argumentos com valor padrão e argumentos com dois asteriscos (dicionário). Por exemplo, na função abaixo:\n",
    "> \n",
    "> `def funcao(a, b, *c, d=0, e=1, **f)`\n",
    "> \n",
    "> Quando ela for chamada, o Python fará o seguinte: \n",
    "> * os primeiros 2 valores serão atribuídos, respectivamente, para *a* e *b*.\n",
    "> * os próximos valores, independentes de quantos sejam, serão incluídos na tupla *c*.\n",
    "> * se os valores *d* e/ou *e* forem passados explicitamente pelo nome, os valores passados serão adotados, senão, serão adotados os valores padrão.\n",
    "> * quaisquer outros valores passados por nome serão incluídos no dicionário *f*.\n"
   ]
  },
  {
   "cell_type": "markdown",
   "id": "ae278ea5",
   "metadata": {},
   "source": [
    "1. Crie uma função que receba dados de um funcionario e de seus dependentes, caso ele tenha."
   ]
  },
  {
   "cell_type": "code",
   "execution_count": null,
   "id": "f7f1cbb3",
   "metadata": {},
   "outputs": [],
   "source": []
  },
  {
   "cell_type": "markdown",
   "id": "98ceb3a4",
   "metadata": {},
   "source": [
    "2. Crie uma função que recebe uma quantidade variável de argumentos numéricos e retorna a quantidade de números enviados e a soma deles;"
   ]
  },
  {
   "cell_type": "code",
   "execution_count": null,
   "id": "5b75f1c9",
   "metadata": {},
   "outputs": [],
   "source": []
  },
  {
   "cell_type": "markdown",
   "id": "3458b6a7",
   "metadata": {},
   "source": [
    "3. Crie uma função que recebe nome e idade, porém a idade *default* deve ser 99;"
   ]
  },
  {
   "cell_type": "code",
   "execution_count": null,
   "id": "9096fb25",
   "metadata": {},
   "outputs": [],
   "source": []
  },
  {
   "cell_type": "markdown",
   "id": "18aabb18",
   "metadata": {},
   "source": [
    "## Desafio"
   ]
  },
  {
   "cell_type": "markdown",
   "id": "3f850bfa",
   "metadata": {},
   "source": [
    "### Sistema de cadastro\n",
    "Faça um programa simples para realizar um cadastro de pessoas recebendo dados via `standard input`. O programa deve:\n",
    "```\n",
    "    - Cadastrar pessoas\n",
    "    - Consultar pessoas pelo CPF\n",
    "    - Atualizar cadastro\n",
    "    - Excluir cadastro\n",
    "\n",
    "Cada registro deve conter os seguintes dados pessoas:\n",
    "    - CPF (único para cada usuário)\n",
    "    - Nome completo\n",
    "    - Telefone\n",
    "    - Endereço\n",
    "```\n",
    "\n",
    "### Menu principal\n",
    "```\n",
    "Crie uma tela de boas-vindas com um menu informando ao usuário as opções do programa:\n",
    "Boas vindas ao nosso sistema:\n",
    "\n",
    "\n",
    "1 - Inserir usuário\n",
    "2 - Excluir usuário\n",
    "3 - Atualizar usuário\n",
    "4 - Informações de um usuário\n",
    "5 - Informações de todos os usuários\n",
    "6 - Sair\n",
    "```"
   ]
  },
  {
   "cell_type": "code",
   "execution_count": null,
   "id": "59ecfdb9",
   "metadata": {},
   "outputs": [],
   "source": []
  }
 ],
 "metadata": {
  "kernelspec": {
   "display_name": "Python 3 (ipykernel)",
   "language": "python",
   "name": "python3"
  },
  "language_info": {
   "codemirror_mode": {
    "name": "ipython",
    "version": 3
   },
   "file_extension": ".py",
   "mimetype": "text/x-python",
   "name": "python",
   "nbconvert_exporter": "python",
   "pygments_lexer": "ipython3",
   "version": "3.10.11"
  },
  "latex_envs": {
   "LaTeX_envs_menu_present": true,
   "autoclose": false,
   "autocomplete": true,
   "bibliofile": "biblio.bib",
   "cite_by": "apalike",
   "current_citInitial": 1,
   "eqLabelWithNumbers": true,
   "eqNumInitial": 1,
   "hotkeys": {
    "equation": "Ctrl-E",
    "itemize": "Ctrl-I"
   },
   "labels_anchors": false,
   "latex_user_defs": false,
   "report_style_numbering": false,
   "user_envs_cfg": false
  },
  "toc": {
   "base_numbering": 1,
   "nav_menu": {},
   "number_sections": true,
   "sideBar": true,
   "skip_h1_title": false,
   "title_cell": "Table of Contents",
   "title_sidebar": "Contents",
   "toc_cell": false,
   "toc_position": {},
   "toc_section_display": true,
   "toc_window_display": false
  },
  "varInspector": {
   "cols": {
    "lenName": 16,
    "lenType": 16,
    "lenVar": 40
   },
   "kernels_config": {
    "python": {
     "delete_cmd_postfix": "",
     "delete_cmd_prefix": "del ",
     "library": "var_list.py",
     "varRefreshCmd": "print(var_dic_list())"
    },
    "r": {
     "delete_cmd_postfix": ") ",
     "delete_cmd_prefix": "rm(",
     "library": "var_list.r",
     "varRefreshCmd": "cat(var_dic_list()) "
    }
   },
   "types_to_exclude": [
    "module",
    "function",
    "builtin_function_or_method",
    "instance",
    "_Feature"
   ],
   "window_display": false
  }
 },
 "nbformat": 4,
 "nbformat_minor": 5
}
