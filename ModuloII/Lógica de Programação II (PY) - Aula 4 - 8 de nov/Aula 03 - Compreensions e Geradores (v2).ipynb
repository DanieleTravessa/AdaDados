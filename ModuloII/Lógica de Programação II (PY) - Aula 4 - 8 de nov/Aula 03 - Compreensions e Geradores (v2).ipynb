{
 "cells": [
  {
   "cell_type": "markdown",
   "id": "1ef33cdb",
   "metadata": {},
   "source": [
    "## Loop padrão (FOR)"
   ]
  },
  {
   "cell_type": "code",
   "execution_count": 1,
   "id": "6643ff8d",
   "metadata": {
    "ExecuteTime": {
     "end_time": "2022-12-01T22:58:34.999426Z",
     "start_time": "2022-12-01T22:58:34.977545Z"
    }
   },
   "outputs": [
    {
     "name": "stdout",
     "output_type": "stream",
     "text": [
      "[1, 4, 9, 16, 25, 36, 49, 64, 81, 100]\n"
     ]
    }
   ],
   "source": [
    "lista = []\n",
    "\n",
    "for i in range(1,11):\n",
    "    lista.append(i**2)\n",
    "\n",
    "print(lista)"
   ]
  },
  {
   "cell_type": "markdown",
   "id": "5ccc3ad4",
   "metadata": {},
   "source": [
    "## List Compreension"
   ]
  },
  {
   "cell_type": "markdown",
   "id": "950042b8",
   "metadata": {},
   "source": [
    "![]()"
   ]
  },
  {
   "cell_type": "markdown",
   "id": "30222dfd",
   "metadata": {},
   "source": [
    "![](https://s3-sa-east-1.amazonaws.com/lcpi/fb6f8658-51e5-4fc8-a742-6eca85f6592e.png)"
   ]
  },
  {
   "cell_type": "markdown",
   "id": "2033afdf",
   "metadata": {},
   "source": [
    "```py\n",
    "lista = [expressao for item in colecao]\n",
    "\n",
    "# equivale a:\n",
    "\n",
    "for item in colecao:\n",
    "    lista.append(expressao)\n",
    "```    "
   ]
  },
  {
   "cell_type": "code",
   "execution_count": null,
   "id": "32a6ff84",
   "metadata": {},
   "outputs": [],
   "source": [
    "i = 10\n",
    "resultado = True if i % 2 == 0 else False\n",
    "resultado"
   ]
  },
  {
   "cell_type": "code",
   "execution_count": 2,
   "id": "32f03449",
   "metadata": {},
   "outputs": [
    {
     "name": "stdout",
     "output_type": "stream",
     "text": [
      "[1, 4, 9, 16, 25, 36, 49, 64, 81, 100]\n"
     ]
    }
   ],
   "source": [
    "lista = []\n",
    "\n",
    "#for i in range(1,11):\n",
    "#    lista.append(i**2)\n",
    "\n",
    "lista = [i**2 for i in range(1,11)]    \n",
    "    \n",
    "print(lista)"
   ]
  },
  {
   "cell_type": "markdown",
   "id": "86d49c68",
   "metadata": {},
   "source": [
    "### List compreension com if"
   ]
  },
  {
   "cell_type": "markdown",
   "id": "95921de4",
   "metadata": {},
   "source": [
    "![]()"
   ]
  },
  {
   "cell_type": "markdown",
   "id": "d9da7a52",
   "metadata": {},
   "source": [
    "![](https://s3-sa-east-1.amazonaws.com/lcpi/d048cd19-314f-4c3e-a16e-7b12c9c3bc73.png)"
   ]
  },
  {
   "cell_type": "markdown",
   "id": "6654331e",
   "metadata": {},
   "source": [
    "```py\n",
    "[expressao for item in colecao if condicao]\n",
    "\n",
    "# equivale a:\n",
    "\n",
    "for item in colecao:\n",
    "    if condicao:\n",
    "        lista.append(expressao)\n",
    "```        "
   ]
  },
  {
   "cell_type": "code",
   "execution_count": 3,
   "id": "95a059f3",
   "metadata": {},
   "outputs": [
    {
     "data": {
      "text/plain": [
       "[2, 4, 6, 8, 10]"
      ]
     },
     "execution_count": 3,
     "metadata": {},
     "output_type": "execute_result"
    }
   ],
   "source": [
    "lista = []\n",
    "\n",
    "for i in range(1,11):\n",
    "    if i%2==0:\n",
    "        lista.append(i)\n",
    "lista    "
   ]
  },
  {
   "cell_type": "code",
   "execution_count": 4,
   "id": "2f16ddcf",
   "metadata": {},
   "outputs": [
    {
     "name": "stdout",
     "output_type": "stream",
     "text": [
      "[2, 4, 6, 8, 10]\n"
     ]
    }
   ],
   "source": [
    "lista = [i for i in range(1,11) if i%2==0]    \n",
    "    \n",
    "print(lista)"
   ]
  },
  {
   "cell_type": "code",
   "execution_count": 5,
   "id": "9ba18251",
   "metadata": {},
   "outputs": [
    {
     "data": {
      "text/plain": [
       "[4, 16, 36, 64, 100]"
      ]
     },
     "execution_count": 5,
     "metadata": {},
     "output_type": "execute_result"
    }
   ],
   "source": [
    "lista2 = [i**2 for i in range(1,11) if i % 2 == 0]\n",
    "lista2"
   ]
  },
  {
   "cell_type": "code",
   "execution_count": 6,
   "id": "c1c953f9",
   "metadata": {},
   "outputs": [
    {
     "name": "stdout",
     "output_type": "stream",
     "text": [
      "[3, 6, 9]\n"
     ]
    }
   ],
   "source": [
    "lista = [i for i in range(1,11) if i%3==0]    \n",
    "    \n",
    "print(lista)"
   ]
  },
  {
   "cell_type": "code",
   "execution_count": 7,
   "id": "ba9dcbe6",
   "metadata": {},
   "outputs": [
    {
     "data": {
      "text/plain": [
       "True"
      ]
     },
     "execution_count": 7,
     "metadata": {},
     "output_type": "execute_result"
    }
   ],
   "source": []
  },
  {
   "cell_type": "code",
   "execution_count": null,
   "id": "c505971f",
   "metadata": {},
   "outputs": [],
   "source": []
  },
  {
   "cell_type": "code",
   "execution_count": null,
   "id": "58866ec0",
   "metadata": {},
   "outputs": [],
   "source": []
  },
  {
   "cell_type": "code",
   "execution_count": null,
   "id": "37e46a0c",
   "metadata": {},
   "outputs": [],
   "source": []
  },
  {
   "cell_type": "markdown",
   "id": "9bb2865a",
   "metadata": {},
   "source": [
    "### List compreension com if-else"
   ]
  },
  {
   "cell_type": "markdown",
   "id": "58cf20c9",
   "metadata": {},
   "source": [
    "![]()"
   ]
  },
  {
   "cell_type": "markdown",
   "id": "67c3e78d",
   "metadata": {},
   "source": [
    "![](https://s3-sa-east-1.amazonaws.com/lcpi/76f74253-1281-473c-925a-c6f9d3971775.png)"
   ]
  },
  {
   "cell_type": "markdown",
   "id": "fb89991d",
   "metadata": {},
   "source": [
    "```py\n",
    "[expressao if condicao else expressao_alternativa for item in colecao] \n",
    "\n",
    "# equivale a:\n",
    "\n",
    "for item in colecao:\n",
    "    if condicao:\n",
    "        lista.append(expressao)\n",
    "    else:\n",
    "        lista.append(expressao_alternativa)\n",
    "```        "
   ]
  },
  {
   "cell_type": "code",
   "execution_count": 9,
   "id": "a195056c",
   "metadata": {},
   "outputs": [
    {
     "data": {
      "text/plain": [
       "[False, True, False, True, False, True, False, True, False, True]"
      ]
     },
     "execution_count": 9,
     "metadata": {},
     "output_type": "execute_result"
    }
   ],
   "source": [
    "[True if x%2==0 else False for x in range(1, 11)]"
   ]
  },
  {
   "cell_type": "code",
   "execution_count": null,
   "id": "cae805ce",
   "metadata": {},
   "outputs": [],
   "source": []
  },
  {
   "cell_type": "code",
   "execution_count": null,
   "id": "66ab76ef",
   "metadata": {},
   "outputs": [],
   "source": []
  },
  {
   "cell_type": "code",
   "execution_count": null,
   "id": "da742ab2",
   "metadata": {},
   "outputs": [],
   "source": []
  },
  {
   "cell_type": "markdown",
   "id": "f57be7e5",
   "metadata": {},
   "source": [
    "### Compreensions Aninhadas"
   ]
  },
  {
   "cell_type": "code",
   "execution_count": null,
   "id": "a46b9685",
   "metadata": {},
   "outputs": [],
   "source": []
  },
  {
   "cell_type": "markdown",
   "id": "4c0c3b88",
   "metadata": {},
   "source": [
    "## Dict Compreension"
   ]
  },
  {
   "cell_type": "markdown",
   "id": "801057c8",
   "metadata": {},
   "source": [
    "![](https://s3-sa-east-1.amazonaws.com/lcpi/47cf1021-3557-4615-a17d-3314e6d891f7.png)"
   ]
  },
  {
   "cell_type": "markdown",
   "id": "f8d8a183",
   "metadata": {},
   "source": [
    "![]()"
   ]
  },
  {
   "cell_type": "markdown",
   "id": "2f54ee87",
   "metadata": {},
   "source": [
    "```py\n",
    "dicionario = {chave:valor for item in colecao}\n",
    "\n",
    "# equivale a:\n",
    "\n",
    "dicionario = {}\n",
    "for chave, valor in colecao:\n",
    "    dicionario[chave] = valor\n",
    "```   "
   ]
  },
  {
   "cell_type": "code",
   "execution_count": null,
   "id": "31c55a91",
   "metadata": {},
   "outputs": [],
   "source": []
  },
  {
   "cell_type": "code",
   "execution_count": null,
   "id": "42519dd9",
   "metadata": {},
   "outputs": [],
   "source": []
  },
  {
   "cell_type": "markdown",
   "id": "95c134cd",
   "metadata": {},
   "source": [
    "> \n",
    "> **Observação:** se você tentou fazer uma compreensão de dicionário e esqueceu de utilizar um par chave-valor, talvez você tenha se surpreendido ao notar que não gerou um erro. Isso ocorre porque existe *outra* estrutura de dados em Python que não estudamos no curso que utiliza os símbolos **{** e **}**: o `set` (conjunto). Ele é uma coleção **mutável** de elementos (como a lista), mas ele não possui índice (porque a ordem não importa) e ele não aceita elementos repetidos. Caso tenha curiosidade, segue material de referência com o básico de como trabalhar com conjuntos: https://www.programiz.com/python-programming/set\n",
    "> "
   ]
  },
  {
   "cell_type": "markdown",
   "id": "f06a1131",
   "metadata": {},
   "source": [
    "### Expressões geradoras"
   ]
  },
  {
   "cell_type": "code",
   "execution_count": 43,
   "id": "ea3d46bb",
   "metadata": {},
   "outputs": [
    {
     "data": {
      "text/plain": [
       "[0, 1, 2, 3, 4, 5, 6, 7, 8, 9, 10]"
      ]
     },
     "execution_count": 43,
     "metadata": {},
     "output_type": "execute_result"
    }
   ],
   "source": [
    "lista = [n for n in range(11)]\n",
    "lista"
   ]
  },
  {
   "cell_type": "code",
   "execution_count": 44,
   "id": "b2f7af3c",
   "metadata": {},
   "outputs": [
    {
     "data": {
      "text/plain": [
       "list"
      ]
     },
     "execution_count": 44,
     "metadata": {},
     "output_type": "execute_result"
    }
   ],
   "source": [
    "type(lista)"
   ]
  },
  {
   "cell_type": "code",
   "execution_count": 45,
   "id": "7c52743b",
   "metadata": {},
   "outputs": [
    {
     "data": {
      "text/plain": [
       "<generator object <genexpr> at 0x000001F878715510>"
      ]
     },
     "execution_count": 45,
     "metadata": {},
     "output_type": "execute_result"
    }
   ],
   "source": [
    "exp = (n for n in range(11))\n",
    "exp"
   ]
  },
  {
   "cell_type": "code",
   "execution_count": 46,
   "id": "3e4ef146",
   "metadata": {},
   "outputs": [
    {
     "data": {
      "text/plain": [
       "generator"
      ]
     },
     "execution_count": 46,
     "metadata": {},
     "output_type": "execute_result"
    }
   ],
   "source": [
    "type(exp)"
   ]
  },
  {
   "cell_type": "code",
   "execution_count": 47,
   "id": "23e5459b",
   "metadata": {},
   "outputs": [
    {
     "name": "stdout",
     "output_type": "stream",
     "text": [
      "0\n",
      "1\n",
      "2\n",
      "3\n",
      "4\n",
      "5\n",
      "6\n",
      "7\n",
      "8\n",
      "9\n",
      "10\n"
     ]
    }
   ],
   "source": [
    "for i in lista:\n",
    "    print(i)"
   ]
  },
  {
   "cell_type": "code",
   "execution_count": 50,
   "id": "dbd63527",
   "metadata": {},
   "outputs": [],
   "source": [
    "for i in exp:\n",
    "    print(i)"
   ]
  },
  {
   "cell_type": "markdown",
   "id": "ea1ce8c5",
   "metadata": {},
   "source": [
    "#### Converter um gerador em lista"
   ]
  },
  {
   "cell_type": "code",
   "execution_count": 51,
   "id": "1e3e6a9e",
   "metadata": {},
   "outputs": [
    {
     "data": {
      "text/plain": [
       "generator"
      ]
     },
     "execution_count": 51,
     "metadata": {},
     "output_type": "execute_result"
    }
   ],
   "source": [
    "gerador = (x for x in range(20) if x%2 == 0)\n",
    "type(gerador)"
   ]
  },
  {
   "cell_type": "code",
   "execution_count": 52,
   "id": "273ee445",
   "metadata": {},
   "outputs": [],
   "source": [
    "lista_gerador = list(gerador)"
   ]
  },
  {
   "cell_type": "code",
   "execution_count": 56,
   "id": "1acfed9c",
   "metadata": {},
   "outputs": [
    {
     "data": {
      "text/plain": [
       "[0, 2, 4, 6, 8, 10, 12, 14, 16, 18]"
      ]
     },
     "execution_count": 56,
     "metadata": {},
     "output_type": "execute_result"
    }
   ],
   "source": [
    "lista_gerador"
   ]
  },
  {
   "cell_type": "code",
   "execution_count": null,
   "id": "7c6807e5",
   "metadata": {},
   "outputs": [],
   "source": []
  },
  {
   "cell_type": "code",
   "execution_count": null,
   "id": "3ce10204",
   "metadata": {},
   "outputs": [],
   "source": []
  },
  {
   "cell_type": "markdown",
   "id": "70f9bab8",
   "metadata": {},
   "source": [
    "Para entender porque o resultado foi uma lista vazia, precisamos entender a diferença entre um **iterável** e um **iterador** em Python."
   ]
  },
  {
   "cell_type": "markdown",
   "id": "e87d95f3",
   "metadata": {},
   "source": [
    "### Iteráveis e iteradores\n",
    "\n",
    "**Importante** ⚠️\n",
    "\n",
    "Um **iterável** é um objeto que pode ser percorrido, isto é, acessado por índices.<br>\n",
    "Um **iterador** é um objeto que usamos para percorrer um objeto iterável."
   ]
  },
  {
   "cell_type": "markdown",
   "id": "2e875887",
   "metadata": {},
   "source": [
    "#### Analogia"
   ]
  },
  {
   "cell_type": "markdown",
   "id": "c90ecee7",
   "metadata": {},
   "source": [
    "![](https://s3-sa-east-1.amazonaws.com/lcpi/a50c3483-d1fe-407e-b873-bc4f8acd615f.png)"
   ]
  },
  {
   "cell_type": "markdown",
   "id": "30d8cccd",
   "metadata": {},
   "source": [
    "Na analogia, a vila de casas são um objeto iterável, sendo cada casa um índice que armazena um certo valor ou conteúdo. O carteiro é o objeto iterador. Ele pode percorrer cada casa em uma dada ordem. "
   ]
  },
  {
   "cell_type": "markdown",
   "id": "b34c4d7e",
   "metadata": {},
   "source": [
    "Um **iterável** é um objeto em Python que podemos percorrer utilizando um loop. Geralmente pensamos em iteráveis como algum tipo de coleção. Listas, tuplas, dicionários e strings são todos iteráveis.\n",
    "\n",
    "Porém, o que o loop realmente utiliza não é o iterável, mas o **iterador**. Quando tentamos percorrer um iterável, é criado um iterador a partir dele utilizando a função `iter`. Em cada passo da iteração (do loop), a função `next` é chamada, e ela irá retornar o próximo elemento. Quando os elementos são esgotados, ela irá lançar a exceção (uma espécie de erro sinalizado, que estudaremos em um capítulo futuro) `StopIteration`.\n",
    "\n",
    "Veja o exemplo abaixo:"
   ]
  },
  {
   "cell_type": "code",
   "execution_count": null,
   "id": "28037aa1",
   "metadata": {},
   "outputs": [],
   "source": []
  },
  {
   "cell_type": "markdown",
   "id": "5b77d78f",
   "metadata": {},
   "source": [
    "Uma diferença fundamental entre um **iterável** e um **iterador** é que o iterador já possui todos os exemplos salvos em algum lugar. O iterável não. Ele irá gerar/buscar cada elemento no momento que a função `next` é chamada, e ele não irá salvar os elementos anteriores.\n",
    "\n",
    "Uma expressão geradora não é um **iterável**, ela é um **iterador**. Uma lista é um **iterável**.\n",
    "\n",
    "Ou seja, quando nós fazemos uma compreensão de lista, a expressão é avaliada na mesma hora e todos os elementos são gerados e salvos na memória.\n",
    "\n",
    "Quando utilizamos uma expressão geradora, cada elemento é gerado apenas quando solicitado, e os elementos não ficam salvos."
   ]
  },
  {
   "cell_type": "markdown",
   "id": "4545d190",
   "metadata": {},
   "source": [
    "##### ⚠️ ` next()` só pode ser utilizado em iteradores, não em iteráveis."
   ]
  },
  {
   "cell_type": "markdown",
   "id": "0fa9c898",
   "metadata": {},
   "source": [
    "```py\n",
    "lista = [1, 3, 5]\n",
    "next(lista)\n",
    "\n",
    "---------------------------------------------------------------------------\n",
    "TypeError                                 Traceback (most recent call last)\n",
    "~\\AppData\\Local\\Temp\\ipykernel_28228\\2369686123.py in <module>\n",
    "      1 lista = [1, 3, 5]\n",
    "----> 2 next(lista)\n",
    "\n",
    "TypeError: 'list' object is not an iterator\n",
    "\n",
    "```\n"
   ]
  },
  {
   "cell_type": "markdown",
   "id": "ea75cb5f",
   "metadata": {},
   "source": [
    "### Por que e quando?\n",
    "\n",
    "**Por que** - para minimizar o tamanho dos dados a serem transportados na memória.\n",
    "\n",
    "**Quando** - o tamanho ou o pacote individual é grande e não pode ser quebrado mais sem criar viés, mas depois passá-los todos de uma vez irá sobrecarregar a memória.\n",
    "\n",
    "Podemos utilizar expressões geradoras quando:\n",
    "\n",
    "* Iremos trabalhar com uma base de dados tão grande que a geração da lista pode ser excessivamente lenta ou consumir memória demais.  \n",
    "* Quando desejamos obter dados infinitos (uma sequência numérica sem fim, ou então um *stream* de dados que pode estar chegando por um sensor ou pela internet, por exemplo).  \n",
    "* Quando sabemos com certeza absoluta que só precisaremos iterar uma única vez por cada elemento e não precisaremos deles posteriormente.  \n",
    "\n",
    "Caso você precise dos dados mais de uma vez, a expressão geradora deixa de ser atrativa e compensa mais utilizar compreensão de listas."
   ]
  },
  {
   "cell_type": "markdown",
   "id": "b4b83983",
   "metadata": {},
   "source": [
    "Podemos utilizar expressões geradoras quando:\n",
    "\n",
    "* Iremos trabalhar com uma base de dados tão grande que a geração da lista pode ser excessivamente lenta ou consumir memória demais.  \n",
    "* Quando desejamos obter dados infinitos (uma sequência numérica sem fim, ou então um *stream* de dados que pode estar chegando por um sensor ou pela internet, por exemplo).  \n",
    "* Quando sabemos com certeza absoluta que só precisaremos iterar uma única vez por cada elemento e não precisaremos deles posteriormente.  \n",
    "\n",
    "Caso você precise dos dados mais de uma vez, a expressão geradora deixa de ser atrativa e compensa mais utilizar compreensão de listas."
   ]
  },
  {
   "cell_type": "markdown",
   "id": "64ae9307",
   "metadata": {},
   "source": [
    "## Funções geradoras\n",
    "\n",
    "Expressões geradoras são uma forma compacta para criar iteradores. Uma forma alternativa é utilizar uma função geradora.\n",
    "\n",
    "Funções geradoras lembram bastante funções convencionais, mas ao invés de `return` elas utilizarão a palavra `yield`. \n",
    "\n",
    "A função irá retornar um iterador. Em seguida, utilizamos a função `next()` com o iterador para acessar o objeto iterável.\n",
    "\n",
    "Cada vez que o `next` for chamado, o iterador irá executar a função até encontrar o `yield`. O estado da função é salvo e o valor do `yield` é retornado. Quando chamarmos `next` novamente, a função irá executar do ponto que parou até encontrar novamente o `yield`. Quando não houver mais `yield`, a exceção `StopIteraction` será lançada."
   ]
  },
  {
   "cell_type": "markdown",
   "id": "1df29782",
   "metadata": {},
   "source": [
    "![](https://s3-sa-east-1.amazonaws.com/lcpi/b3f61380-84b4-48be-b390-85a63bef19d1.gif)"
   ]
  },
  {
   "cell_type": "markdown",
   "id": "28d32ebf",
   "metadata": {},
   "source": [
    "Vejamos um exemplo:"
   ]
  },
  {
   "cell_type": "code",
   "execution_count": null,
   "id": "a2dac6cf",
   "metadata": {},
   "outputs": [],
   "source": []
  },
  {
   "cell_type": "markdown",
   "id": "39f9ad2a",
   "metadata": {},
   "source": [
    "### Funções geradoras do python\n",
    "\n",
    "##### Filter\n",
    "A função `filter` retorna um iterador que acessa somente os itens validados pela função de teste.\n",
    "\n",
    "**Exemplo:** Defina uma tupla com pelo menos dez itens e crie uma nova tupla com apenas os itens de índice PAR da tupla original."
   ]
  },
  {
   "cell_type": "code",
   "execution_count": null,
   "id": "f608efda",
   "metadata": {},
   "outputs": [],
   "source": []
  },
  {
   "cell_type": "code",
   "execution_count": null,
   "id": "9a40daab",
   "metadata": {},
   "outputs": [],
   "source": []
  },
  {
   "cell_type": "markdown",
   "id": "f2f45cba",
   "metadata": {},
   "source": [
    "#### Map"
   ]
  },
  {
   "cell_type": "code",
   "execution_count": null,
   "id": "bc2c4c81",
   "metadata": {},
   "outputs": [],
   "source": []
  },
  {
   "cell_type": "code",
   "execution_count": null,
   "id": "d4a96680",
   "metadata": {},
   "outputs": [],
   "source": []
  },
  {
   "cell_type": "code",
   "execution_count": null,
   "id": "60d48937",
   "metadata": {},
   "outputs": [],
   "source": []
  },
  {
   "cell_type": "markdown",
   "id": "b59d13a3",
   "metadata": {},
   "source": [
    "**Referências**"
   ]
  },
  {
   "cell_type": "markdown",
   "id": "3c054dab",
   "metadata": {},
   "source": [
    "Caso tenha interesse em se aprofundar nos assuntos desta aula e ver alguns experimentos envolvendo tamanho e performance de cada um, segue algumas boas referências:\n",
    "\n",
    ">https://djangostars.com/blog/list-comprehensions-and-generator-expressions/\n",
    ">\n",
    ">https://towardsdatascience.com/comprehensions-and-generator-expression-in-python-2ae01c48fc50\n",
    ">\n",
    ">https://docs.python.org/3/howto/functional.html#generator-expressions-and-list-comprehensions"
   ]
  },
  {
   "cell_type": "markdown",
   "id": "5a65deb5",
   "metadata": {},
   "source": [
    "1. Coloque em uma lista todos os números entre 1 e 1000 que sejam divisiveis por N, sendo N um número recebido no *standard input*;"
   ]
  },
  {
   "cell_type": "markdown",
   "id": "79523bea",
   "metadata": {},
   "source": [
    "2. Coloque em uma lista todos os números entre 1 e 1000 que possuam um dígito N em sua composição, sendo N um número recebido no *standard input*;\n",
    "\n"
   ]
  },
  {
   "cell_type": "markdown",
   "id": "d77beaa7",
   "metadata": {},
   "source": [
    "3. Conte o número de espaços em branco em uma *string* recebida pelo *standard input*;\n",
    "\n"
   ]
  },
  {
   "cell_type": "markdown",
   "id": "14c11a21",
   "metadata": {},
   "source": [
    "4. Crie uma lista com todas as consoantes em uma frase (de pelo menos 10 palavras) recebidas pelo *standard input*;\n",
    "\n"
   ]
  },
  {
   "cell_type": "markdown",
   "id": "58f45c33",
   "metadata": {},
   "source": [
    "5. Pegue o índice e o valor, na forma de tupla, para os itens na lista: ['oi', 4, 8.99, 'mamao', ('t,b', 'n')]. O resultado seria semelhante a (indice, valor), (indice, valor);\n",
    "\n"
   ]
  },
  {
   "cell_type": "markdown",
   "id": "b6145370",
   "metadata": {},
   "source": [
    "6. Encontre os números em comum em duas listas (sem utilizar \"tupla\" ou \"set\"), sendo ambas as listas recebidas pelo *standard input* e com, pelo menos, 5 valores em cada;\n",
    "\n"
   ]
  },
  {
   "cell_type": "markdown",
   "id": "4516c6fd",
   "metadata": {},
   "source": [
    "7. Receba uma frase pelo *standard input* e salve apenas os números encontrados nesta frase em uma lista;\n",
    "\n"
   ]
  },
  {
   "cell_type": "markdown",
   "id": "f08c6858",
   "metadata": {},
   "source": [
    "8. Dado o  seguinte iterável: numeros = range(20), produza uma lista contendo as palavras 'par' e 'impar' caso o número daquela posição seja par/impar. Teremos, ao final, uma segunda lista com ['impar', 'par', 'impar', 'par', etc];\n",
    "\n"
   ]
  },
  {
   "cell_type": "markdown",
   "id": "b78b209b",
   "metadata": {},
   "source": [
    "9. Construa uma lista de tuplas que tenha apenas os números em comum entre duas listas, sendo: lista1 = [1, 2, 3, 4, 5, 6, 7, 8, 9] e lista2 = [2, 7, 1, 12] e o resultado deve ser algo do tipo: [(1,1), (2,2), etc];\n",
    "\n"
   ]
  },
  {
   "cell_type": "markdown",
   "id": "6a0683af",
   "metadata": {},
   "source": [
    "10. Encontre todas as palavras em uma *string*, que contenham menos de 4 letras;\n"
   ]
  },
  {
   "cell_type": "markdown",
   "id": "89b3d480",
   "metadata": {},
   "source": [
    "\n",
    "11. Use uma compreensão de lista aninhada para encontrar todos os números entre 1-1000 que sejam divisiveis por algum número entre 2-9."
   ]
  },
  {
   "cell_type": "code",
   "execution_count": null,
   "id": "bfd08154",
   "metadata": {},
   "outputs": [],
   "source": []
  }
 ],
 "metadata": {
  "kernelspec": {
   "display_name": "Python 3 (ipykernel)",
   "language": "python",
   "name": "python3"
  },
  "language_info": {
   "codemirror_mode": {
    "name": "ipython",
    "version": 3
   },
   "file_extension": ".py",
   "mimetype": "text/x-python",
   "name": "python",
   "nbconvert_exporter": "python",
   "pygments_lexer": "ipython3",
   "version": "3.10.11"
  }
 },
 "nbformat": 4,
 "nbformat_minor": 5
}
