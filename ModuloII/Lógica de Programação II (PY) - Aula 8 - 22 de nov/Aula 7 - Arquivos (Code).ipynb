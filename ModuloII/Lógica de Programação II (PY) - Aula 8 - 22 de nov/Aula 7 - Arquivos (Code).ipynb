{
 "cells": [
  {
   "cell_type": "markdown",
   "id": "ea1803e3",
   "metadata": {},
   "source": [
    "# Arquivos\n",
    "\n",
    "Uma característica que nenhum de nossos programas teve até agora é a **persistência** de dados. Sempre que nossos programas eram executados, eles exigiam que os usuários digitassem todos os dados de entrada, e após exibir os dados de saída na tela, o programa era fechado e esses dados eram perdidos para sempre.\n",
    "\n",
    "A persistência se dá através de **arquivos**: estruturas abstratas para armazenar dados em uma memória permanente, como o disco rígido, um _drive_ USB ou um servidor _web_."
   ]
  },
  {
   "cell_type": "markdown",
   "id": "a2bd939c",
   "metadata": {},
   "source": [
    "## Arquivos em Python\n",
    "\n",
    "O Python possui algumas funções prontas para manipular arquivos binários puros (onde, conhecendo a estrutura interna de qualquer formato, podemos salvar qualquer tipo de arquivo) e para manipular arquivos de texto (onde os binários são decodificados como _strings_).\n",
    "\n",
    "Focaremos no básico de manipulação de arquivo de texto pois, na prática, quando formos trabalhar com arquivos mais complexos, é provável que usaremos bibliotecas específicas para lidar com eles, e elas já terão funções próprias para ler e salvar esses arquivos da maneira correta."
   ]
  },
  {
   "cell_type": "markdown",
   "id": "06bd6a15",
   "metadata": {},
   "source": [
    "### Abrindo e fechando arquivos\n",
    "\n",
    "Podemos criar arquivos novos ou abrir arquivos já existentes utilizando a função _open_. Ela possui 2 argumentos: o caminho do arquivo e o modo de operação.\n",
    "\n",
    "| Modo   | Símbolo | Descrição                                                                                                                             |\n",
    "|--------|---------|---------------------------------------------------------------------------------------------------------------------------------------|\n",
    "| _read_   | r       | lê um arquivo existente                                                                                                               |\n",
    "| _write_  | w       | cria um novo arquivo                                                                                                                  |\n",
    "| _append_ | a       | abre um arquivo existente para adicionar informações ao seu final                                                                     |\n",
    "| _update_ | +       | ao ser combinado com outros modos, permite alteração de arquivo já existente (ex: r+ abre um arquivo existente e permite modificá-lo) |\n",
    "\n",
    "Após abrirmos (ou criarmos) um arquivo, podemos realizar diversas operações. Ao final de todas elas, devemos **fechar** o  arquivo usando a função _close_. Essa etapa é importante por 2 motivos:\n",
    "* 1. Se alteramos o arquivo mas não o fechamos, as alterações não serão salvas.\n",
    "* 2. Se esquecermos de fechar um arquivo, outros programas podem ter problemas de acesso a ele.\n",
    "\n",
    "A função _open_ retorna alguns dados de acesso ao arquivo que devem ser salvos em uma variável, para uso interno do Python.\n",
    "\n",
    "> **Atenção:** o modo 'w' sempre irá **criar um novo arquivo**. Caso você use esse modo para abrir um arquivo que já existe, o arquivo existente será substituído por um novo arquivo em branco, e seu conteúdo será perdido!"
   ]
  },
  {
   "cell_type": "markdown",
   "id": "49f7759e",
   "metadata": {},
   "source": [
    "### Escrevendo arquivos\n",
    "\n",
    "Para entender melhor o _open_ e o _close_, façamos um programinha que escreve algo em um arquivo. Além das duas funções que já vimos, também utilizaremos a função _write_, que escreve um texto em um arquivo. É quase como um _print_ mais simples, mas ele aceita apenas uma _string_."
   ]
  },
  {
   "cell_type": "code",
   "execution_count": 1,
   "id": "44f30a7f",
   "metadata": {
    "ExecuteTime": {
     "end_time": "2022-10-17T17:07:56.416835Z",
     "start_time": "2022-10-17T17:07:56.401829Z"
    }
   },
   "outputs": [],
   "source": [
    "arquivo = open('arquivo.txt', 'w')\n",
    "arquivo.write('meu novo arquivo')\n",
    "arquivo.close()"
   ]
  },
  {
   "cell_type": "markdown",
   "id": "aec84536",
   "metadata": {},
   "source": [
    "Após executar o código acima, abra a pasta onde seu código-fonte está salvo. Note que apareceu o arquivo `ola.txt` dentro dela. Abra-o e verifique seu conteúdo.\n",
    "\n",
    "> Por padrão, arquivos serão escritos na mesma pasta onde está nosso código-fonte. Você pode passar caminhos completos caso prefira acessar outras pastas. \n",
    "> Ao invés de escrever por extenso o caminho de um arquivo, é recomendável o uso de uma biblioteca para construir os endereços, tanto para lidar melhor com possíveis erros quanto para garantir que nosso programa funcionará bem em computadores diferentes ou mesmo em sistemas operacionais diferentes.\n",
    "> Um módulo bastante útil é o `os.path`, já instalado junto com o Python. [Aqui](https://linuxhint.com/os-path-module-python/) está um ótimo tutorial introdutório. Caso você precise se aprofundar, consulte a [documentação oficial](https://docs.python.org/pt-br/3.7/library/os.path.html)."
   ]
  },
  {
   "cell_type": "markdown",
   "id": "cd817003",
   "metadata": {},
   "source": [
    "### Lendo arquivos\n",
    "\n",
    "Para ler um arquivo existente, não basta usar o _open_ para abri-lo. É necessário carregar seu conteúdo para uma _string_, de modo que possamos trabalhar com o texto da mesma forma que sempre trabalhamos. A função _read_ faz o oposto da _write_: ela retorna o texto existente no arquivo.\n",
    "\n",
    "Execute o código abaixo:"
   ]
  },
  {
   "cell_type": "code",
   "execution_count": 2,
   "id": "5c978f25",
   "metadata": {},
   "outputs": [],
   "source": [
    "arquivo2 = open('arquivo.txt', 'r')\n",
    "conteudo = arquivo.read()"
   ]
  },
  {
   "cell_type": "code",
   "execution_count": 3,
   "id": "640aa40b",
   "metadata": {},
   "outputs": [
    {
     "name": "stdout",
     "output_type": "stream",
     "text": [
      "meu novo arquivo\n"
     ]
    }
   ],
   "source": [
    "print(conteudo)"
   ]
  },
  {
   "cell_type": "code",
   "execution_count": 4,
   "id": "049f7c35",
   "metadata": {},
   "outputs": [],
   "source": [
    "arquivo.close()"
   ]
  },
  {
   "cell_type": "markdown",
   "id": "ea0f046a",
   "metadata": {},
   "source": [
    "> Você pode estar se perguntando: nós aprendemos a criar um arquivo e escrever nele e aprendemos a ler o conteúdo de um arquivo já existente. Mas como realizamos modificações pontuais em um arquivo já existente?\n",
    "> Uma forma seria utilizar as funções de manipulação de ponteiro de arquivo `seek` e `tell`. Você pode ler mais sobre elas [aqui](https://pynative.com/python-file-seek/). Porém, isso pode ser bastante trabalhoso, e na prática, quase sempre que formos realizar manipulação de arquivos mais complexos, utilizaremos bibliotecas que nos protegerão da manipulação direta do arquivo.\n",
    "> Para manipular arquivos de texto simples, como estamos fazendo nesta aula, uma solução é sempre reescrever o arquivo inteiro: abra o arquivo em modo leitura (r) e carregue todo seu conteúdo em uma string. Faça as alterações desejadas na string, reabra o arquivo em modo de escrita (w) e escreva a string completa no arquivo."
   ]
  },
  {
   "cell_type": "markdown",
   "id": "e7a01ff9",
   "metadata": {},
   "source": [
    "## 1.4. Gerenciador de contexto\n",
    "\n",
    "Uma forma alternativa e \"mais segura\" de trabalhar com arquivos é utilizando um _gerenciador de contextos_. O gerenciador de contextos é, de maneira resumida, um pequeno bloco de código que realiza algumas tarefas e tratamentos de erro de maneira automatizada. \n",
    "\n",
    "Com ele, não precisamos nos preocupar em fechar o arquivo ao final da manipulação, pois ele faz isto automaticamente, ao final do bloco. "
   ]
  },
  {
   "cell_type": "code",
   "execution_count": null,
   "id": "a5c333f6",
   "metadata": {},
   "outputs": [],
   "source": [
    "arquivo = open('arquivo.txt', 'w')\n",
    "arquivo.write('meu novo arquivo')\n",
    "arquivo.close()"
   ]
  },
  {
   "cell_type": "code",
   "execution_count": 6,
   "id": "50b62dd3",
   "metadata": {},
   "outputs": [],
   "source": [
    "with open('arquivo.txt','r') as arquivo:\n",
    "    conteudo = arquivo.read()\n",
    "    print(conteudo.title())"
   ]
  },
  {
   "cell_type": "code",
   "execution_count": null,
   "id": "3a201f1c",
   "metadata": {},
   "outputs": [],
   "source": [
    "with open('arquivo.txt','w') as arquivo:\n",
    "    arquivo.write('Meu novo conteúdo')"
   ]
  },
  {
   "cell_type": "markdown",
   "id": "dfaf0fed",
   "metadata": {},
   "source": [
    "No restante dos exemplos seguiremos utilizando a primeira forma que aprendemos para enfatizar que, por dentro do programa, há **sempre** uma abertura e um fechamento de arquivo. Mas recomendamos utilizar sempre que possível o gerenciador de contexto para garantir uma segurança maior.\n",
    "\n",
    "> Você pode ler mais sobre gerenciadores de contexto e aprender a criar o seu próprio neste ótimo artigo do [RealPython](https://realpython.com/python-with-statement/)."
   ]
  },
  {
   "cell_type": "markdown",
   "id": "cdd269ed",
   "metadata": {},
   "source": [
    "## Arquivos CSV\n",
    "\n",
    "Muitos dados interessantes ou importantes estão disponíveis na forma de tabela. A capacidade de manipular planilhas foi determinante no sucesso dos computadores pessoais, dada sua importância para empresas e indivíduos.\n",
    "\n",
    "Aprenderemos a manipular dados utilizando um dos formatos de planilha mais amplamente utilizados na _web_: o formato CSV. Mas antes, como podemos representar tabelas em Python?"
   ]
  },
  {
   "cell_type": "markdown",
   "id": "820f9082",
   "metadata": {},
   "source": [
    "### Tabelas em Python\n",
    "\n",
    "Conforme já mencionamos, temos módulos prontos para realizar muitas tarefas para nós. Um dos módulos mais populares em Python é o _pandas_, que mesmo não vindo instalado por padrão é provavelmente o módulo mais usado para manipular planilhas. Porém, como este é um curso introdutório, convém entendermos um pouquinho de lógica de como manipular uma tabela para futuramente sermos capazes de trabalhar corretamente com os módulos prontos.\n",
    "\n",
    "Uma das formas mais simples de se representar uma tabela em Python seria através de uma lista de listas. Nossa lista principal seria a tabela como um todo, e cada lista interna seria uma linha da tabela. \n",
    "\n",
    "Para acessar um elemento individual, utilizamos 2 índices: o primeiro indica a lista interna (linha) e o segundo o elemento individual na lista (coluna). Para percorrer a tabela inteira, utilizamos 2 _for_ aninhados: o mais externo fixa uma linha e o mais interno percorre cada elemento daquela linha. Execute o código abaixo e verifique o resultado mostrado na tela."
   ]
  },
  {
   "cell_type": "code",
   "execution_count": 8,
   "id": "356df27b",
   "metadata": {},
   "outputs": [
    {
     "data": {
      "text/plain": [
       "[['Alunos', 'Nota 1', 'Nota 2', 'Presença'],\n",
       " ['Paulo', 6, 9, 8],\n",
       " ['Tiago', 6, 9, 8],\n",
       " ['Mayara', 6, 9, 8],\n",
       " ['Marilia', 6, 9, 8]]"
      ]
     },
     "execution_count": 8,
     "metadata": {},
     "output_type": "execute_result"
    }
   ],
   "source": [
    "tabela = [['Alunos', 'Nota 1', 'Nota 2', 'Presença'],\n",
    "          ['Paulo',   6,         9,          8      ],\n",
    "          ['Tiago',   6,         9,          8      ],\n",
    "          ['Mayara',   6,        9,          8     ],\n",
    "          ['Marilia',  6,        9,          8     ]]\n",
    "\n",
    "tabela"
   ]
  },
  {
   "cell_type": "markdown",
   "id": "9fd4db10",
   "metadata": {},
   "source": [
    "### O formato CSV\n",
    "\n",
    "A sigla CSV significa _Comma-Separated Values_, ou \"valores separados por vírgula\". Este formato é uma forma padrão de representar tabelas usando arquivos de texto simples: cada elemento é separado por uma vírgula, e cada linha é separada por uma quebra de linha. \n",
    "\n",
    "Na prática, nem sempre o padrão é seguido à risca: podemos utilizar outros símbolos para fazer a separação. Um bom motivo é o fato de a vírgula ser utilizada para representar casa decimal em algumas línguas, como a língua portuguesa. O importante é ser coerente: todos os elementos deverão ser separados pelo mesmo símbolo, e todas as linhas deverão ter o mesmo número de elementos.\n",
    "\n",
    "Cole o texto abaixo em um editor de texto puro (como o Bloco de Notas, do Windows) e salve-o com a extensão .csv."
   ]
  },
  {
   "cell_type": "markdown",
   "id": "3e02b167",
   "metadata": {},
   "source": [
    "```\n",
    "Aluno;Nota 1;Nota 2;Presenças\n",
    "Luke;7;9;15\n",
    "Han;4;7;10\n",
    "Leia;9;9;16\n",
    "```"
   ]
  },
  {
   "cell_type": "markdown",
   "id": "b36c1188",
   "metadata": {},
   "source": [
    "Caso você tenha um editor de planilha instalado, como o Excel, é provável que o ícone representando o arquivo seja o ícone do editor de planilhas, e não de um arquivo de texto. Abra-o com seu editor de planilha e observe como ele interpreta corretamente os dados!\n",
    "\n",
    "Devido ao fato de ser um formato aberto (ou seja, não é necessário pagar por propriedade intelectual para usar) e ser muito fácil de manipular, diversos programas diferentes possuem a opção de importar ou exportar dados em CSV, e diversas bases de dados na _web_ oferecem a opção de baixar os dados neste formato."
   ]
  },
  {
   "cell_type": "markdown",
   "id": "e33560db",
   "metadata": {},
   "source": [
    "### O módulo CSV em Python\n",
    "\n"
   ]
  },
  {
   "cell_type": "markdown",
   "id": "93b19f87",
   "metadata": {},
   "source": [
    "#### Escrevendo um CSV\n",
    "\n",
    "Para escrever um CSV utilizando o módulo, precisamos ter nossos dados representados como uma lista de listas. Criaremos (ou abriremos) um arquivo usando o _open_, como já fizemos antes, e utilizaremos um _CSV writer_ - uma estrutura que guardará as regrinhas para escrever nosso CSV. Execute o exemplo abaixo:"
   ]
  },
  {
   "cell_type": "code",
   "execution_count": 11,
   "id": "0291fb46",
   "metadata": {},
   "outputs": [],
   "source": [
    "import csv\n",
    "\n",
    "arquivo  = open('arquivo.csv', 'w')\n",
    "\n",
    "escritor = csv.writer(arquivo, delimiter=';', lineterminator='\\n')\n",
    "\n",
    "escritor.writerows(tabela)\n",
    "\n",
    "arquivo.close()"
   ]
  },
  {
   "cell_type": "markdown",
   "id": "102e4a5a",
   "metadata": {},
   "source": [
    "Após executar o programa acima, um arquivo _alunos.csv_ deverá surgir na mesma pasta em que se encontra o seu código-fonte, e seu editor de planilhas provavelmente o reconhecerá com sucesso. Se você abrí-lo com um editor de texto puro, verá os dados separados por **;**, assim como no arquivo que criamos anteriormente."
   ]
  },
  {
   "cell_type": "markdown",
   "id": "ab430bdf",
   "metadata": {},
   "source": [
    "#### Lendo um CSV\n",
    "\n",
    "O processo para ler o CSV é semelhante: utilizamos um _CSV reader_, com os mesmos parâmetros utilizados no _CSV writer_. A função _csv.reader_ retorna uma estrutura iterável (ou seja, que pode ser percorrida com _for_) contendo cada linha já organizada como lista."
   ]
  },
  {
   "cell_type": "code",
   "execution_count": 13,
   "id": "17865b7d",
   "metadata": {},
   "outputs": [
    {
     "name": "stdout",
     "output_type": "stream",
     "text": [
      "['Alunos', 'Nota 1', 'Nota 2', 'Presença']\n",
      "['Paulo', '6', '9', '8']\n",
      "['Tiago', '6', '9', '8']\n",
      "['Mayara', '6', '9', '8']\n",
      "['Marilia', '6', '9', '8']\n"
     ]
    }
   ],
   "source": [
    "arquivo = open('arquivo.csv','r')\n",
    "\n",
    "leitor = csv.reader(arquivo, delimiter = ';', lineterminator='\\n')\n",
    "\n",
    "for linha in leitor:\n",
    "    print(linha)\n",
    "\n",
    "\n",
    "arquivo.close()"
   ]
  },
  {
   "cell_type": "code",
   "execution_count": 15,
   "id": "8421017b",
   "metadata": {},
   "outputs": [],
   "source": [
    "base = open('part-00000-5668ac2c-b82e-4edb-993a-f8d3844f9ec1.c000.csv', 'r')\n",
    "planilha = csv.reader(base, delimiter = ';', lineterminator='\\n')\n"
   ]
  },
  {
   "cell_type": "code",
   "execution_count": 16,
   "id": "5dd964b5",
   "metadata": {},
   "outputs": [
    {
     "data": {
      "text/plain": [
       "_csv.reader"
      ]
     },
     "execution_count": 16,
     "metadata": {},
     "output_type": "execute_result"
    }
   ],
   "source": [
    "type(planilha)"
   ]
  },
  {
   "cell_type": "code",
   "execution_count": 17,
   "id": "cc57f762",
   "metadata": {},
   "outputs": [
    {
     "data": {
      "text/plain": [
       "['document_id',\n",
       " 'paciente_id',\n",
       " 'paciente_idade',\n",
       " 'paciente_dataNascimento',\n",
       " 'paciente_enumSexoBiologico',\n",
       " 'paciente_racaCor_codigo',\n",
       " 'paciente_racaCor_valor',\n",
       " 'paciente_endereco_coIbgeMunicipio',\n",
       " 'paciente_endereco_coPais',\n",
       " 'paciente_endereco_nmMunicipio',\n",
       " 'paciente_endereco_nmPais',\n",
       " 'paciente_endereco_uf',\n",
       " 'paciente_endereco_cep',\n",
       " 'paciente_nacionalidade_enumNacionalidade',\n",
       " 'estabelecimento_valor',\n",
       " 'estabelecimento_razaoSocial',\n",
       " 'estalecimento_noFantasia',\n",
       " 'estabelecimento_municipio_codigo',\n",
       " 'estabelecimento_municipio_nome',\n",
       " 'estabelecimento_uf',\n",
       " 'vacina_grupoAtendimento_codigo',\n",
       " 'vacina_grupoAtendimento_nome',\n",
       " 'vacina_categoria_codigo',\n",
       " 'vacina_categoria_nome',\n",
       " 'vacina_lote',\n",
       " 'vacina_fabricante_nome',\n",
       " 'vacina_fabricante_referencia',\n",
       " 'vacina_dataAplicacao',\n",
       " 'vacina_descricao_dose',\n",
       " 'vacina_codigo',\n",
       " 'vacina_nome',\n",
       " 'sistema_origem']"
      ]
     },
     "execution_count": 17,
     "metadata": {},
     "output_type": "execute_result"
    }
   ],
   "source": [
    "next(planilha)"
   ]
  },
  {
   "cell_type": "code",
   "execution_count": 18,
   "id": "8547c830",
   "metadata": {},
   "outputs": [
    {
     "data": {
      "text/plain": [
       "['89f9fac6-01b7-49bd-99c6-b06be0d449cc-i0b0',\n",
       " '0e11cafad2fe36561e258b78d75a15a7b7c03b6df478568308f4f08c8e5cc005',\n",
       " '36',\n",
       " '1985-10-08',\n",
       " 'F',\n",
       " '04',\n",
       " 'AMARELA',\n",
       " '230660',\n",
       " '10',\n",
       " 'ITATIRA',\n",
       " 'BRASIL',\n",
       " 'CE',\n",
       " '62725',\n",
       " 'B',\n",
       " '2528754',\n",
       " 'SMS SECRETARIA MUNICIPAL DE SAUDE FORTALEZA',\n",
       " 'UAPS ANASTACIO MAGALHAES',\n",
       " '230440',\n",
       " 'FORTALEZA',\n",
       " 'CE',\n",
       " '000926',\n",
       " 'Outros',\n",
       " '9',\n",
       " 'Trabalhadores de SaÃºde',\n",
       " '21OVCD307W',\n",
       " 'ASTRAZENECA/FIOCRUZ',\n",
       " 'OXFORD-ASTRAZENECA/33781055000135',\n",
       " '2022-05-13',\n",
       " 'ReforÃ§o',\n",
       " '85',\n",
       " 'COVID-19 ASTRAZENECA/FIOCRUZ - COVISHIELD',\n",
       " 'Fastmedic - FastSaude']"
      ]
     },
     "execution_count": 18,
     "metadata": {},
     "output_type": "execute_result"
    }
   ],
   "source": [
    "next(planilha)"
   ]
  },
  {
   "cell_type": "code",
   "execution_count": 21,
   "id": "23be92dc",
   "metadata": {},
   "outputs": [],
   "source": [
    "arquivo = open('arquivo.csv','r')\n",
    "\n",
    "leitor = csv.DictReader(arquivo, delimiter = ';', lineterminator='\\n')\n",
    "\n",
    "\n",
    "tabela2 = []\n",
    "for linha in leitor:\n",
    "    tabela2.append(linha)\n",
    "\n",
    "\n",
    "arquivo.close()"
   ]
  },
  {
   "cell_type": "code",
   "execution_count": 22,
   "id": "9cefe77e",
   "metadata": {},
   "outputs": [
    {
     "data": {
      "text/plain": [
       "[{'Alunos': 'Paulo', 'Nota 1': '6', 'Nota 2': '9', 'Presença': '8'},\n",
       " {'Alunos': 'Tiago', 'Nota 1': '6', 'Nota 2': '9', 'Presença': '8'},\n",
       " {'Alunos': 'Mayara', 'Nota 1': '6', 'Nota 2': '9', 'Presença': '8'},\n",
       " {'Alunos': 'Marilia', 'Nota 1': '6', 'Nota 2': '9', 'Presença': '8'}]"
      ]
     },
     "execution_count": 22,
     "metadata": {},
     "output_type": "execute_result"
    }
   ],
   "source": [
    "tabela2"
   ]
  },
  {
   "cell_type": "code",
   "execution_count": 24,
   "id": "e40549b0",
   "metadata": {},
   "outputs": [],
   "source": [
    "tabela = [{'Alunos': 'Paulo', 'Nota 1': '6', 'Nota 2': '9', 'Presença': '8'},\n",
    " {'Alunos': 'Tiago', 'Nota 1': '6', 'Nota 2': '9', 'Presença': '8'},\n",
    " {'Alunos': 'Mayara', 'Nota 1': '6', 'Nota 2': '9', 'Presença': '8'},\n",
    " {'Alunos': 'Marilia', 'Nota 1': '6', 'Nota 2': '9', 'Presença': '8'}]"
   ]
  },
  {
   "cell_type": "code",
   "execution_count": 25,
   "id": "e49dcf1d",
   "metadata": {},
   "outputs": [],
   "source": [
    "campos = list(tabela[0].keys())"
   ]
  },
  {
   "cell_type": "code",
   "execution_count": 26,
   "id": "a6d37e4d",
   "metadata": {},
   "outputs": [],
   "source": [
    "arquivo = open('aluno_dict.csv', 'w', newline='\\n')\n",
    "\n",
    "escritor = csv.DictWriter(arquivo, fieldnames = campos)\n",
    "escritor.writeheader()\n",
    "for linha in tabela:\n",
    "    escritor.writerow(linha)\n",
    "\n",
    "arquivo.close()"
   ]
  },
  {
   "cell_type": "code",
   "execution_count": null,
   "id": "374a29e9",
   "metadata": {},
   "outputs": [],
   "source": []
  },
  {
   "cell_type": "code",
   "execution_count": null,
   "id": "aa3eb571",
   "metadata": {},
   "outputs": [],
   "source": []
  },
  {
   "cell_type": "markdown",
   "id": "90dea446",
   "metadata": {},
   "source": [
    "Note que a estrutura **não é** uma lista, mas um objeto iterável. Vejamos o que acontece se tentarmos imprimi-lo diretamente:"
   ]
  },
  {
   "cell_type": "code",
   "execution_count": null,
   "id": "6101066c",
   "metadata": {},
   "outputs": [],
   "source": []
  },
  {
   "cell_type": "markdown",
   "id": "826bbb4c",
   "metadata": {},
   "source": [
    "Caso você precise de mais flexibilidade para trabalhar com a sua planilha - por exemplo, caso deseje editá-la, criar novas colunas etc, convém converter a estrutura para uma lista de verdade. É possível usar a função `list` no objeto para fazer a conversão:"
   ]
  },
  {
   "cell_type": "code",
   "execution_count": null,
   "id": "cf409863",
   "metadata": {},
   "outputs": [],
   "source": []
  },
  {
   "cell_type": "markdown",
   "id": "53813bda",
   "metadata": {},
   "source": [
    "> Tudo que vem do teclado é considerado `string` e, por isso, frequentemente utilizamos coerção de tipos para interpretar estes dados como `int` ou `float`. O mesmo ocorre com documentos de texto. É comum salvarmos números em nossas planilhas, mas ao carregar o CSV, todos os campos serão strings. Você pode utilizar loops, compreensões de lista ou funções como o `map` para gerar uma tabela contendo números a partir de um arquivo CSV."
   ]
  },
  {
   "cell_type": "markdown",
   "id": "fe65c7c0",
   "metadata": {},
   "source": [
    "## Arquivos JSON\n",
    "\n",
    "JSON é uma sigla para _JavaScript Object Notation_. O _JavaScript_ é uma linguagem muito utilizada em web, e assim como o Python, ela é uma linguagem orientada a objeto. Ocorre que a forma como objetos são representados nessa linguagem é bastante legível para seres humanos e fácil de decompor usando programação também.\n",
    "\n",
    "Veja um exemplo de como podemos representar, por exemplo, um estudante em JavaScript:"
   ]
  },
  {
   "cell_type": "markdown",
   "id": "fb786404",
   "metadata": {
    "ExecuteTime": {
     "end_time": "2022-10-17T17:16:16.068362Z",
     "start_time": "2022-10-17T17:16:15.568550Z"
    }
   },
   "source": [
    "```\n",
    "{\n",
    "    nome: 'Mario',\n",
    "    modulo: 2,\n",
    "    media: 9.5 \n",
    "}\n",
    "```"
   ]
  },
  {
   "cell_type": "markdown",
   "id": "d7dc780e",
   "metadata": {},
   "source": [
    "Parece familiar? É extremamente parecido com dicionários em Python. O Python possui um módulo já instalado chamado `json` que nos ajuda a realizar conversões entre uma _string_ contendo um JSON e um dicionário.\n",
    "\n",
    "> **Atenção:** No caso do JSON faremos *exatamente* como nos dicionários em Python: as chaves deverão vir entre aspas.\n",
    "\n",
    "Os valores de um JSON podem ser de vários tipos de dados: inteiros, reais, _strings_, booleanos, e até mesmo listas (representadas com colchetes) ou outros JSON/dicionários (representados por chaves). Por exemplo:"
   ]
  },
  {
   "cell_type": "markdown",
   "id": "d6ca936e",
   "metadata": {},
   "source": [
    "```\n",
    "{\n",
    "    'escola':\"Let's Code\",\n",
    "    'cursos':[{'nome':'Python Pro', 'duracao':2}, \n",
    "            {'nome':'Data Science', 'duracao':2},\n",
    "            {'nome':'Front-End', 'duracao':2}]\n",
    "}\n",
    "```"
   ]
  },
  {
   "cell_type": "markdown",
   "id": "ecda3e44",
   "metadata": {},
   "source": [
    "### JSON para dicionário\n",
    "\n",
    "O método `loads` recebe uma _string_ contendo um JSON e retorna um dicionário, o que torna bastante fácil o acesso a informações individuais:"
   ]
  },
  {
   "cell_type": "code",
   "execution_count": null,
   "id": "32bc31c4",
   "metadata": {},
   "outputs": [],
   "source": []
  },
  {
   "cell_type": "markdown",
   "id": "ba571257",
   "metadata": {},
   "source": [
    "### Dicionário para JSON\n",
    "\n",
    "Já o método `dumps` recebe um dicionário e retorna uma _string_ pronta para ser salva ou enviada como JSON:"
   ]
  },
  {
   "cell_type": "code",
   "execution_count": 27,
   "id": "c0495361",
   "metadata": {},
   "outputs": [
    {
     "data": {
      "text/plain": [
       "{'nome': 'caio', 'pontuacao': 100}"
      ]
     },
     "execution_count": 27,
     "metadata": {},
     "output_type": "execute_result"
    }
   ],
   "source": [
    "import json\n",
    "\n",
    "jogador = '{\"nome\":\"caio\", \"pontuacao\":100}'\n",
    "\n",
    "d = json.loads(jogador)\n",
    "d"
   ]
  },
  {
   "cell_type": "code",
   "execution_count": 28,
   "id": "49741e27",
   "metadata": {},
   "outputs": [
    {
     "data": {
      "text/plain": [
       "dict"
      ]
     },
     "execution_count": 28,
     "metadata": {},
     "output_type": "execute_result"
    }
   ],
   "source": [
    "type(d)"
   ]
  },
  {
   "cell_type": "markdown",
   "id": "cbda9a5d",
   "metadata": {},
   "source": [
    "O `dumps` possui um parâmetro opcional `indent` que recebe um número inteiro. Isso fará com que a string gerada seja indentada, e o valor desse parâmetro determinará quantos espaços irão ao início de cada \"nível\".\n",
    "\n",
    ">  Sabendo realizar a conversão de dicionário para string e vice-versa, basta utilizar as técnicas de manipulação de arquivo de texto para ler a string do arquivo JSON, convertê-la para dicionário, fazer as manipulações desejadas, converter novamente para string e escrever no arquivo."
   ]
  },
  {
   "cell_type": "code",
   "execution_count": 35,
   "id": "cc9c111f",
   "metadata": {},
   "outputs": [
    {
     "data": {
      "text/plain": [
       "'{\\n    \"nome\": [\\n        \"Caio\",\\n        \"Tiago\"\\n    ],\\n    \"game\": [\\n        \"Sonic\",\\n        \"LoL\"\\n    ]\\n}'"
      ]
     },
     "execution_count": 35,
     "metadata": {},
     "output_type": "execute_result"
    }
   ],
   "source": [
    "jogador = dict()\n",
    "\n",
    "jogador['nome'] = ['Caio', 'Tiago']\n",
    "jogador['game'] = ['Sonic','LoL']\n",
    "\n",
    "string_json = json.dumps(jogador, indent = 4)\n",
    "string_json"
   ]
  },
  {
   "cell_type": "markdown",
   "id": "14aaf2b8",
   "metadata": {},
   "source": [
    "### Arquivo JSON"
   ]
  },
  {
   "cell_type": "code",
   "execution_count": 36,
   "id": "34fedd4f",
   "metadata": {},
   "outputs": [],
   "source": [
    "with open('arquivo.json', 'w') as json_arquivo:\n",
    "    json_arquivo.write(string_json)"
   ]
  },
  {
   "cell_type": "code",
   "execution_count": null,
   "id": "e5c96508",
   "metadata": {},
   "outputs": [],
   "source": []
  }
 ],
 "metadata": {
  "kernelspec": {
   "display_name": "Python 3 (ipykernel)",
   "language": "python",
   "name": "python3"
  },
  "language_info": {
   "codemirror_mode": {
    "name": "ipython",
    "version": 3
   },
   "file_extension": ".py",
   "mimetype": "text/x-python",
   "name": "python",
   "nbconvert_exporter": "python",
   "pygments_lexer": "ipython3",
   "version": "3.7.15"
  },
  "latex_envs": {
   "LaTeX_envs_menu_present": true,
   "autoclose": false,
   "autocomplete": true,
   "bibliofile": "biblio.bib",
   "cite_by": "apalike",
   "current_citInitial": 1,
   "eqLabelWithNumbers": true,
   "eqNumInitial": 1,
   "hotkeys": {
    "equation": "Ctrl-E",
    "itemize": "Ctrl-I"
   },
   "labels_anchors": false,
   "latex_user_defs": false,
   "report_style_numbering": false,
   "user_envs_cfg": false
  },
  "toc": {
   "base_numbering": 1,
   "nav_menu": {},
   "number_sections": true,
   "sideBar": true,
   "skip_h1_title": false,
   "title_cell": "Table of Contents",
   "title_sidebar": "Contents",
   "toc_cell": false,
   "toc_position": {},
   "toc_section_display": true,
   "toc_window_display": false
  },
  "varInspector": {
   "cols": {
    "lenName": 16,
    "lenType": 16,
    "lenVar": 40
   },
   "kernels_config": {
    "python": {
     "delete_cmd_postfix": "",
     "delete_cmd_prefix": "del ",
     "library": "var_list.py",
     "varRefreshCmd": "print(var_dic_list())"
    },
    "r": {
     "delete_cmd_postfix": ") ",
     "delete_cmd_prefix": "rm(",
     "library": "var_list.r",
     "varRefreshCmd": "cat(var_dic_list()) "
    }
   },
   "types_to_exclude": [
    "module",
    "function",
    "builtin_function_or_method",
    "instance",
    "_Feature"
   ],
   "window_display": false
  }
 },
 "nbformat": 4,
 "nbformat_minor": 5
}
