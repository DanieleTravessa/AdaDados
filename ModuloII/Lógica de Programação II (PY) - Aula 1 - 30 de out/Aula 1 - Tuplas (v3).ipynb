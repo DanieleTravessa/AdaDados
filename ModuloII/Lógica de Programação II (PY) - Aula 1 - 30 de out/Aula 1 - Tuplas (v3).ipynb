{
 "cells": [
  {
   "cell_type": "markdown",
   "id": "4cc24c5d",
   "metadata": {},
   "source": [
    "# Tuplas\n",
    "\n",
    "Neste capítulo estudaremos uma estrutura de dados, ou seja, uma forma estruturada de armazenar múltiplos dados. Você provavelmente já estudou pelo menos outra estrutura de dados em Python: a **lista**.\n",
    "\n",
    "Vamos brevemente revisar os conceitos de lista, pois eles serão úteis para compreender nossa nova estrutura, a **tupla**.\n",
    "\n",
    "Focaremos em funcionalidades, não em funções prontas e métodos de lista."
   ]
  },
  {
   "cell_type": "markdown",
   "id": "4e798983",
   "metadata": {},
   "source": [
    "## Revisão de Listas\n",
    "\n",
    "### Criando uma Lista e Acessando Elementos\n",
    "\n",
    "A lista é uma coleção de objetos em Python. Criando uma única variável para representar a lista, podemos armazenar múltiplos valores. Internamente, esses valores são representados por seus **índices**: um número inteiro, iniciando em zero e incrementando com passo unitário. \n",
    "\n",
    "Podemos criar uma lista através da função ```list``` ou utilizando um par de colchetes:"
   ]
  },
  {
   "cell_type": "code",
   "execution_count": 6,
   "id": "a614fdf1",
   "metadata": {},
   "outputs": [],
   "source": [
    "lista = []\n",
    "lista = list()\n",
    "\n",
    "type(lista)\n",
    "\n",
    "lista = ['Python','Java','C#','ADVPL','R']\n",
    "\n",
    "dados = [3.14, 'python', ['html', 'css', [1, 2, 3]]]"
   ]
  },
  {
   "cell_type": "code",
   "execution_count": 7,
   "id": "43a73f23",
   "metadata": {},
   "outputs": [
    {
     "data": {
      "text/plain": [
       "2"
      ]
     },
     "execution_count": 7,
     "metadata": {},
     "output_type": "execute_result"
    }
   ],
   "source": [
    "dados[-1][-1][1]"
   ]
  },
  {
   "cell_type": "markdown",
   "id": "538e6640",
   "metadata": {},
   "source": [
    "### Iterando uma Lista"
   ]
  },
  {
   "cell_type": "code",
   "execution_count": 10,
   "id": "58601848",
   "metadata": {},
   "outputs": [
    {
     "name": "stdout",
     "output_type": "stream",
     "text": [
      "Python\n",
      "Java\n",
      "C#\n",
      "ADVPL\n",
      "R\n"
     ]
    }
   ],
   "source": [
    "for item in range(len(lista)):\n",
    "    print(lista[item])"
   ]
  },
  {
   "cell_type": "code",
   "execution_count": 13,
   "id": "4bd8d2c9",
   "metadata": {},
   "outputs": [
    {
     "name": "stdout",
     "output_type": "stream",
     "text": [
      "O elemento  2  é uma lista.\n"
     ]
    }
   ],
   "source": [
    "for n, item in enumerate(dados):\n",
    "    if type(item) == list:\n",
    "        print('O elemento ', n, ' é uma lista.')"
   ]
  },
  {
   "cell_type": "code",
   "execution_count": null,
   "id": "bba90d71",
   "metadata": {},
   "outputs": [],
   "source": [
    "for l1, l2 in zip(lista1, lista2):\n",
    "    print(n, '-', item)"
   ]
  },
  {
   "cell_type": "code",
   "execution_count": 15,
   "id": "ad2bbc41",
   "metadata": {},
   "outputs": [
    {
     "name": "stdout",
     "output_type": "stream",
     "text": [
      "O elemento 2 é uma lista.\n",
      "2 . 0   html\n",
      "2 . 1   css\n",
      "2 . 2   [1, 2]\n"
     ]
    }
   ],
   "source": [
    "dados = [ 3.14, 'python', ['html', 'css', [1,2]]]\n",
    "\n",
    "for n, item in enumerate(dados):\n",
    "    if type(item) == list: # tipos int, bool, float, str, list<<<<<<<<\n",
    "        print(f'O elemento {n} é uma lista.')\n",
    "        for i, elemento in enumerate(item):\n",
    "            print(n,'.',i, ' ', elemento)"
   ]
  },
  {
   "cell_type": "code",
   "execution_count": null,
   "id": "0cb10ea3",
   "metadata": {},
   "outputs": [],
   "source": [
    "tup = (n,'.',i, ' ', elemento)"
   ]
  },
  {
   "cell_type": "markdown",
   "id": "baf0f5e1",
   "metadata": {},
   "source": [
    "### *Slicing* de Listas\n",
    "\n",
    "Uma operação bastante comum em uma lista é extrair apenas uma parte dela. Para isso você deve informar, pelo menos, o índice inicial e o índice final, sendo que o índice final não irá entrar na conta - dizemos que ele é um valor \"exclusivo\", como se fosse um intervalo aberto naquele ponto."
   ]
  },
  {
   "cell_type": "markdown",
   "id": "466ca4ee",
   "metadata": {},
   "source": [
    "![](https://s3-sa-east-1.amazonaws.com/lcpi/37773811-c38d-496c-a810-c73fe072b684.png)"
   ]
  },
  {
   "cell_type": "code",
   "execution_count": 20,
   "id": "63958054",
   "metadata": {},
   "outputs": [
    {
     "data": {
      "text/plain": [
       "'s_C'"
      ]
     },
     "execution_count": 20,
     "metadata": {},
     "output_type": "execute_result"
    }
   ],
   "source": [
    "empresa = \"Let's_Code\"\n",
    "empresa[4:7]"
   ]
  },
  {
   "cell_type": "code",
   "execution_count": 24,
   "id": "a0a723af",
   "metadata": {},
   "outputs": [
    {
     "data": {
      "text/plain": [
       "\"edoC_s'teL\""
      ]
     },
     "execution_count": 24,
     "metadata": {},
     "output_type": "execute_result"
    }
   ],
   "source": [
    "#empresa[start:stop:step]\n",
    "empresa[::-1]"
   ]
  },
  {
   "cell_type": "code",
   "execution_count": 27,
   "id": "2e94329a",
   "metadata": {},
   "outputs": [
    {
     "data": {
      "text/plain": [
       "'tsCd'"
      ]
     },
     "execution_count": 27,
     "metadata": {},
     "output_type": "execute_result"
    }
   ],
   "source": [
    "empresa[2:10:2]"
   ]
  },
  {
   "cell_type": "markdown",
   "id": "74dce864",
   "metadata": {},
   "source": [
    "### Concatenação de Listas\n",
    "\n",
    "Uma operação útil em listas é a concatenação. Quando \"somamos\" duas listas, utilizando o operador **+**, teremos uma nova lista com os elementos das duas listas originais em ordem de aparição:"
   ]
  },
  {
   "cell_type": "code",
   "execution_count": 29,
   "id": "02d90560",
   "metadata": {},
   "outputs": [
    {
     "name": "stdout",
     "output_type": "stream",
     "text": [
      "['luciana', 'daniele', 'joão', 'wallace']\n"
     ]
    }
   ],
   "source": [
    "lista1 = ['luciana','daniele','joão', 'wallace']\n",
    "lista2 = lista1\n",
    "\n",
    "print(lista1)"
   ]
  },
  {
   "cell_type": "code",
   "execution_count": 30,
   "id": "e6d43563",
   "metadata": {},
   "outputs": [
    {
     "name": "stdout",
     "output_type": "stream",
     "text": [
      "['luciana', 'daniele', 'joão', 'wallace']\n"
     ]
    }
   ],
   "source": [
    "print(lista2)"
   ]
  },
  {
   "cell_type": "code",
   "execution_count": 31,
   "id": "eab32626",
   "metadata": {},
   "outputs": [
    {
     "data": {
      "text/plain": [
       "['luciana', 'daniele', 'joão', 'wallace', 'edson']"
      ]
     },
     "execution_count": 31,
     "metadata": {},
     "output_type": "execute_result"
    }
   ],
   "source": [
    "lista1.append('edson')\n",
    "lista1"
   ]
  },
  {
   "cell_type": "code",
   "execution_count": 32,
   "id": "52b71a5a",
   "metadata": {},
   "outputs": [
    {
     "data": {
      "text/plain": [
       "['luciana', 'daniele', 'joão', 'wallace', 'edson']"
      ]
     },
     "execution_count": 32,
     "metadata": {},
     "output_type": "execute_result"
    }
   ],
   "source": [
    "lista2"
   ]
  },
  {
   "cell_type": "code",
   "execution_count": 33,
   "id": "aec81c5e",
   "metadata": {},
   "outputs": [
    {
     "data": {
      "text/plain": [
       "2257102113408"
      ]
     },
     "execution_count": 33,
     "metadata": {},
     "output_type": "execute_result"
    }
   ],
   "source": [
    "id(lista1)"
   ]
  },
  {
   "cell_type": "code",
   "execution_count": 34,
   "id": "c8beb494",
   "metadata": {},
   "outputs": [
    {
     "data": {
      "text/plain": [
       "2257102113408"
      ]
     },
     "execution_count": 34,
     "metadata": {},
     "output_type": "execute_result"
    }
   ],
   "source": [
    "id(lista2)"
   ]
  },
  {
   "cell_type": "code",
   "execution_count": 35,
   "id": "865ca854",
   "metadata": {},
   "outputs": [
    {
     "data": {
      "text/plain": [
       "2257127047360"
      ]
     },
     "execution_count": 35,
     "metadata": {},
     "output_type": "execute_result"
    }
   ],
   "source": [
    "lista3 = lista1.copy()\n",
    "id(lista3)"
   ]
  },
  {
   "cell_type": "code",
   "execution_count": 36,
   "id": "c6d3afed",
   "metadata": {},
   "outputs": [
    {
     "data": {
      "text/plain": [
       "2257126971776"
      ]
     },
     "execution_count": 36,
     "metadata": {},
     "output_type": "execute_result"
    }
   ],
   "source": [
    "lista3 = lista1[:]\n",
    "id(lista3)"
   ]
  },
  {
   "cell_type": "code",
   "execution_count": 37,
   "id": "b45e144e",
   "metadata": {},
   "outputs": [
    {
     "ename": "SyntaxError",
     "evalue": "invalid syntax (434108102.py, line 1)",
     "output_type": "error",
     "traceback": [
      "\u001b[1;36m  Cell \u001b[1;32mIn[37], line 1\u001b[1;36m\u001b[0m\n\u001b[1;33m    lista3 = lista1[]\u001b[0m\n\u001b[1;37m                    ^\u001b[0m\n\u001b[1;31mSyntaxError\u001b[0m\u001b[1;31m:\u001b[0m invalid syntax\n"
     ]
    }
   ],
   "source": [
    "lista3 = lista1[]\n",
    "id(lista3)"
   ]
  },
  {
   "cell_type": "markdown",
   "id": "d0a0ac80",
   "metadata": {},
   "source": [
    "## Tuplas\n",
    "\n",
    "### Conceito \n",
    "##### Declaração e inicialização\n",
    "\n",
    "Assim como as listas, tuplas também são coleções de objetos. Elas podem armazenar diversos objetos de diferentes tipos. Elas também possuem índice, que se comporta da mesma maneira que os índices de uma lista. Podemos criar tuplas utilizando parênteses ou a função ```tuple```. Caso a tupla possua pelo menos 2 elementos, não precisamos dos parênteses, basta separar os valores por vírgula, apesar de ser **recomendável** utilizá-los para evitar ambiguidades:"
   ]
  },
  {
   "cell_type": "code",
   "execution_count": null,
   "id": "8ad29a15",
   "metadata": {},
   "outputs": [],
   "source": []
  },
  {
   "cell_type": "code",
   "execution_count": 39,
   "id": "d7f3b051",
   "metadata": {},
   "outputs": [
    {
     "data": {
      "text/plain": [
       "tuple"
      ]
     },
     "execution_count": 39,
     "metadata": {},
     "output_type": "execute_result"
    }
   ],
   "source": [
    "tup = tuple()\n",
    "tup = ()\n",
    "\n",
    "type(tup)"
   ]
  },
  {
   "cell_type": "code",
   "execution_count": 42,
   "id": "143793b4",
   "metadata": {},
   "outputs": [
    {
     "name": "stdout",
     "output_type": "stream",
     "text": [
      "JavaScript\n",
      "(True, 'Abacaxi')\n",
      "Lógica de Programação II\n"
     ]
    }
   ],
   "source": [
    "linguagens = ('Python', 'JavaScript', 'R')\n",
    "\n",
    "dadosVariados = (3.14, 1000, True, 'Abacaxi')\n",
    "\n",
    "tuplaDeTuplas = ( ('Curso', 'Módulo 1', 'Módulo 2'), ('Data Science', 'Lógica de Programação I', 'Lógica de Programação II'), ('Web Full Stack', 'Front End Estático', 'Front End Dinâmico'))\n",
    "\n",
    "print(linguagens[1])\n",
    "print(dadosVariados[2:])\n",
    "print(tuplaDeTuplas[1][2])"
   ]
  },
  {
   "cell_type": "markdown",
   "id": "cb3f5519",
   "metadata": {},
   "source": [
    "### Imutabilidade\n",
    "\n",
    "Listas possuem uma propriedade que a tupla **não** possui: **mutabilidade**. O código abaixo irá funcionar para a operação na lista, mas irá falhar para a operação na tupla:"
   ]
  },
  {
   "cell_type": "code",
   "execution_count": 43,
   "id": "d1da42e5",
   "metadata": {},
   "outputs": [
    {
     "ename": "TypeError",
     "evalue": "'tuple' object is not callable",
     "output_type": "error",
     "traceback": [
      "\u001b[1;31m---------------------------------------------------------------------------\u001b[0m",
      "\u001b[1;31mTypeError\u001b[0m                                 Traceback (most recent call last)",
      "Cell \u001b[1;32mIn[43], line 1\u001b[0m\n\u001b[1;32m----> 1\u001b[0m \u001b[43mlinguagens\u001b[49m\u001b[43m(\u001b[49m\u001b[38;5;241;43m2\u001b[39;49m\u001b[43m)\u001b[49m\n",
      "\u001b[1;31mTypeError\u001b[0m: 'tuple' object is not callable"
     ]
    }
   ],
   "source": [
    "linguagens(2)"
   ]
  },
  {
   "cell_type": "code",
   "execution_count": 49,
   "id": "5c765432",
   "metadata": {},
   "outputs": [
    {
     "data": {
      "text/plain": [
       "['luciana', 'alex', 'joão', 'wallace']"
      ]
     },
     "execution_count": 49,
     "metadata": {},
     "output_type": "execute_result"
    }
   ],
   "source": [
    "lista1 = ['luciana','daniele','joão', 'wallace']\n",
    "tupla1 = ('luciana','daniele','joão', 'wallace')\n",
    "\n",
    "lista1[1] = 'alex'\n",
    "lista1"
   ]
  },
  {
   "cell_type": "code",
   "execution_count": 51,
   "id": "faac3b2c",
   "metadata": {},
   "outputs": [
    {
     "data": {
      "text/plain": [
       "('luciana', 'daniele')"
      ]
     },
     "execution_count": 51,
     "metadata": {},
     "output_type": "execute_result"
    }
   ],
   "source": [
    "tupla1[:2] "
   ]
  },
  {
   "cell_type": "code",
   "execution_count": 52,
   "id": "8d5b1f9a",
   "metadata": {},
   "outputs": [
    {
     "data": {
      "text/plain": [
       "('joão', 'wallace')"
      ]
     },
     "execution_count": 52,
     "metadata": {},
     "output_type": "execute_result"
    }
   ],
   "source": [
    "tupla1[2:]"
   ]
  },
  {
   "cell_type": "code",
   "execution_count": 53,
   "id": "291d2579",
   "metadata": {},
   "outputs": [
    {
     "data": {
      "text/plain": [
       "('luciana', 'daniele', 'joão', 'wallace')"
      ]
     },
     "execution_count": 53,
     "metadata": {},
     "output_type": "execute_result"
    }
   ],
   "source": [
    "tupla1[:2] + tupla1[2:]"
   ]
  },
  {
   "cell_type": "code",
   "execution_count": null,
   "id": "f7d7182e",
   "metadata": {},
   "outputs": [],
   "source": []
  },
  {
   "cell_type": "code",
   "execution_count": 55,
   "id": "d34dc8cf",
   "metadata": {},
   "outputs": [
    {
     "data": {
      "text/plain": [
       "('luciana',\n",
       " 'daniele',\n",
       " 'joao',\n",
       " 'wallace',\n",
       " 'luciana',\n",
       " 'daniele',\n",
       " 'joao',\n",
       " 'wallace')"
      ]
     },
     "execution_count": 55,
     "metadata": {},
     "output_type": "execute_result"
    }
   ],
   "source": [
    "tupla_1 = ('luciana', 'daniele', 'joao', 'wallace')\n",
    "tupla_2 = ('luciana', 'daniele', 'joao', 'wallace')\n",
    "tupla_3 = tupla_1 + tupla_2\n",
    "tupla_3"
   ]
  },
  {
   "cell_type": "code",
   "execution_count": 65,
   "id": "5dd56bd7",
   "metadata": {},
   "outputs": [
    {
     "name": "stdout",
     "output_type": "stream",
     "text": [
      "2257128578752 ('alex', ['nome', 'CPF'])\n",
      "2257128578752 ('alex', ['nome', 'CPF', 'edson'])\n"
     ]
    },
    {
     "ename": "TypeError",
     "evalue": "'tuple' object does not support item assignment",
     "output_type": "error",
     "traceback": [
      "\u001b[1;31m---------------------------------------------------------------------------\u001b[0m",
      "\u001b[1;31mTypeError\u001b[0m                                 Traceback (most recent call last)",
      "Cell \u001b[1;32mIn[65], line 7\u001b[0m\n\u001b[0;32m      4\u001b[0m id_123[\u001b[38;5;241m1\u001b[39m]\u001b[38;5;241m.\u001b[39mappend(\u001b[38;5;124m'\u001b[39m\u001b[38;5;124medson\u001b[39m\u001b[38;5;124m'\u001b[39m)\n\u001b[0;32m      5\u001b[0m \u001b[38;5;28mprint\u001b[39m(\u001b[38;5;28mid\u001b[39m(id_123), id_123)\n\u001b[1;32m----> 7\u001b[0m \u001b[43mid_123\u001b[49m\u001b[43m[\u001b[49m\u001b[38;5;241;43m0\u001b[39;49m\u001b[43m]\u001b[49m \u001b[38;5;241m=\u001b[39m \u001b[38;5;124m'\u001b[39m\u001b[38;5;124mgabriel\u001b[39m\u001b[38;5;124m'\u001b[39m\n\u001b[0;32m      8\u001b[0m \u001b[38;5;28mprint\u001b[39m(\u001b[38;5;28mid\u001b[39m(id_123))\n",
      "\u001b[1;31mTypeError\u001b[0m: 'tuple' object does not support item assignment"
     ]
    }
   ],
   "source": [
    "id_123 = ('alex', ['nome', 'CPF'])\n",
    "print(id(id_123), id_123)\n",
    "\n",
    "id_123[1].append('edson')\n",
    "print(id(id_123), id_123)\n",
    "\n",
    "id_123[0] = 'gabriel'\n",
    "print(id(id_123))"
   ]
  },
  {
   "cell_type": "markdown",
   "id": "4e628ab3",
   "metadata": {},
   "source": [
    "Por que alguém escolheria uma estrutura imutável? Por que usar uma lista com _menos recursos_? O principal motivo é precisamente quando não convém alterar os dados. Em Python é muito difícil \"proibir\" algo: nada impede outro programador de transformar a tupla em uma lista, fazer alterações na lista e salvar a nova tupla \"por cima\" da velha, utilizando o mesmo nome para a nova. \n",
    "\n",
    "Porém, quando utilizamos uma tupla, estamos **sinalizando** que aqueles dados **não deveriam** ser alterados, e ninguém irá conseguir alterá-los por acidente. Para alterá-los será necessário realizar uma série de conversões de maneira intencional.\n",
    "\n",
    "Isso aumenta um pouco a segurança e confiabilidade de nosso código em certas situações, evitando a alteração indevida de dados que podem ser críticos para o bom funcionamento do nosso programa.\n",
    "\n",
    "Adicionalmente, em alguns contextos muito específicos - quantidades muito grandes de dados com uma grande quantidade de operações de **leitura** versus poucas ou nenhuma operação de **escrita** - a tupla pode oferecer desempenho significativamente superior à lista. São poucas as situações onde você sentirá essa diferença, seja porque para quantidades muito baixas de dados a lista possui uma série de otimizações que podem torná-la até mais veloz do que a tupla, seja porque para quantidades relativamente grandes de dados a lista ainda será razoavelmente rápida. "
   ]
  },
  {
   "cell_type": "markdown",
   "id": "9e735b47",
   "metadata": {},
   "source": [
    "### Desempacotamento de tupla"
   ]
  },
  {
   "cell_type": "code",
   "execution_count": 66,
   "id": "f86ec070",
   "metadata": {},
   "outputs": [
    {
     "name": "stdout",
     "output_type": "stream",
     "text": [
      "Lista\n",
      "Tupla\n",
      "Dicionário\n"
     ]
    }
   ],
   "source": [
    "x, y, z = ('Lista', 'Tupla', 'Dicionário')\n",
    "print(x)\n",
    "print(y)\n",
    "print(z)"
   ]
  },
  {
   "cell_type": "code",
   "execution_count": 69,
   "id": "b73952a5",
   "metadata": {},
   "outputs": [
    {
     "name": "stdout",
     "output_type": "stream",
     "text": [
      "Lista\n",
      "['Tupla', 'Dicionário', 'pandas']\n",
      "numpy\n"
     ]
    }
   ],
   "source": [
    "x, *y, z = ('Lista', 'Tupla', 'Dicionário', 'pandas', 'numpy')\n",
    "print(x)\n",
    "print(y)\n",
    "print(z)"
   ]
  },
  {
   "cell_type": "code",
   "execution_count": 74,
   "id": "acdd3e05",
   "metadata": {},
   "outputs": [
    {
     "name": "stdout",
     "output_type": "stream",
     "text": [
      "<class 'list'>\n",
      "D\n",
      "E\n"
     ]
    }
   ],
   "source": [
    "*x, y, z = ('A', 'B', 'C', 'D', 'E')\n",
    "print(type(x))\n",
    "print(y)\n",
    "print(z)"
   ]
  },
  {
   "cell_type": "code",
   "execution_count": null,
   "id": "89f0d11f",
   "metadata": {},
   "outputs": [],
   "source": []
  },
  {
   "cell_type": "code",
   "execution_count": null,
   "id": "6a1eefff",
   "metadata": {},
   "outputs": [],
   "source": []
  },
  {
   "cell_type": "markdown",
   "id": "bb914478",
   "metadata": {},
   "source": [
    "### Operações com tuplas"
   ]
  },
  {
   "cell_type": "markdown",
   "id": "e9906286",
   "metadata": {},
   "source": [
    "##### Atribuição"
   ]
  },
  {
   "cell_type": "code",
   "execution_count": null,
   "id": "ca9e91bb",
   "metadata": {},
   "outputs": [],
   "source": []
  },
  {
   "cell_type": "markdown",
   "id": "156bbc75",
   "metadata": {},
   "source": [
    "##### Adicionando elementos"
   ]
  },
  {
   "cell_type": "code",
   "execution_count": null,
   "id": "14c8e726",
   "metadata": {},
   "outputs": [],
   "source": []
  },
  {
   "cell_type": "markdown",
   "id": "8b7956aa",
   "metadata": {},
   "source": [
    "##### Removendo elementos"
   ]
  },
  {
   "cell_type": "code",
   "execution_count": null,
   "id": "b62cfea1",
   "metadata": {},
   "outputs": [],
   "source": []
  },
  {
   "cell_type": "markdown",
   "id": "2ce3848f",
   "metadata": {},
   "source": [
    "## Iteração"
   ]
  },
  {
   "cell_type": "markdown",
   "id": "978c3379",
   "metadata": {},
   "source": [
    "### Enumerate"
   ]
  },
  {
   "cell_type": "code",
   "execution_count": null,
   "id": "136f8b5f",
   "metadata": {},
   "outputs": [],
   "source": []
  },
  {
   "cell_type": "markdown",
   "id": "45ab281e",
   "metadata": {},
   "source": [
    "### Slice"
   ]
  },
  {
   "cell_type": "code",
   "execution_count": null,
   "id": "4150e0ec",
   "metadata": {},
   "outputs": [],
   "source": []
  },
  {
   "cell_type": "markdown",
   "id": "5dc5b25f",
   "metadata": {},
   "source": [
    "### Zip"
   ]
  },
  {
   "cell_type": "code",
   "execution_count": null,
   "id": "a45890d2",
   "metadata": {
    "ExecuteTime": {
     "end_time": "2022-10-04T00:14:55.921587Z",
     "start_time": "2022-10-04T00:14:55.899006Z"
    }
   },
   "outputs": [],
   "source": []
  },
  {
   "cell_type": "markdown",
   "id": "71451c2d",
   "metadata": {},
   "source": [
    "## Exercícios\n",
    "\n",
    "1. Defina duas tuplas: uma com nomes de comida (pelo menos 5 nomes) e outra com os preços das comidas - preservando a ordem. Mostre no *standard output* a relação de comida-preço.\n",
    "\n",
    "2. Agora, ainda com as tuplas acima, pegue apenas o nome e o preço das três comidas no meio da tupla. (considere \"meio da lista\" como sendo, por exemplo: ('A', 'B', 'C', 'D', 'E') --> ('B', 'C', 'D').\n",
    "\n",
    "3. Defina uma tupla com pelo menos cinco valores e mostre no *standar output* esta tupla invertida. (exemplo, (1, 2, 3, 4) --> (4, 3, 2, 1)\n",
    "\n",
    "4. Dada a seguinte tupla: (('a', 23),('b', 37),('c', 11), ('d',29)). Ordene esta tupla de acordo com o segundo item.\n",
    "\n",
    "5. Defina uma tupla com pelo menos dez itens e crie uma nova tupla com apenas os itens de índice PAR da tupla original.\n",
    "\n",
    "6. Defina uma tupla com pelo menos cinco valores e mostre quantas vezes cada elemento se repete.\n",
    "\n",
    "7. Defina uma tupla e calcule a soma de seus elementos.\n",
    "\n",
    "8. Considere a lista [(4, 5), (4, ), (8, 6, 7), (1, ), (3, 4, 6, 7)]. Faça um programa que remova as tuplas de tamanho K.  \n",
    "    "
   ]
  },
  {
   "cell_type": "markdown",
   "id": "1d6487ef",
   "metadata": {},
   "source": [
    "### Resoluções"
   ]
  },
  {
   "cell_type": "markdown",
   "id": "537f8e57",
   "metadata": {},
   "source": [
    "1. Defina duas tuplas: uma com nomes de comida (pelo menos 5 nomes) e outra com os preços das comidas - preservando a ordem. Mostre no standard output a relação de comida-preço."
   ]
  },
  {
   "cell_type": "code",
   "execution_count": 1,
   "id": "6eb3ebcc",
   "metadata": {},
   "outputs": [
    {
     "name": "stdout",
     "output_type": "stream",
     "text": [
      "sorvete - R$ 1.7\n",
      "chocolate - R$ 2.8\n",
      "pavê - R$ 6.5\n",
      "brigadeiro - R$ 8.4\n",
      "brownie - R$ 7.4\n"
     ]
    }
   ],
   "source": [
    "sobremesa = ('sorvete', 'chocolate', 'pavê', 'brigadeiro', 'brownie')\n",
    "preco_sobremesa = (1.7, 2.8, 6.5, 8.4, 7.4)\n",
    "\n",
    "for opcao, valor in zip(sobremesa, preco_sobremesa):\n",
    "    print(f'{opcao} - R$ {valor}')"
   ]
  },
  {
   "cell_type": "code",
   "execution_count": 4,
   "id": "dbc2c6ea",
   "metadata": {},
   "outputs": [
    {
     "name": "stdout",
     "output_type": "stream",
     "text": [
      "<class 'tuple'>\n",
      "<class 'tuple'>\n",
      "<class 'tuple'>\n",
      "<class 'tuple'>\n",
      "<class 'tuple'>\n"
     ]
    }
   ],
   "source": [
    "sobremesa = ('sorvete', 'chocolate', 'pavê', 'brigadeiro', 'brownie')\n",
    "preco_sobremesa = (1.7, 2.8, 6.5, 8.4, 7.4)\n",
    "\n",
    "for elemento in zip(sobremesa, preco_sobremesa):\n",
    "    print(type(elemento))"
   ]
  },
  {
   "cell_type": "code",
   "execution_count": 5,
   "id": "dcf7c2ef",
   "metadata": {},
   "outputs": [
    {
     "name": "stdout",
     "output_type": "stream",
     "text": [
      "Comida pão --> Preço 14.5\n",
      "Comida leite --> Preço 10.5\n",
      "Comida cafe --> Preço 8.9\n",
      "Comida queijo --> Preço 20\n",
      "Comida maçã --> Preço 15\n"
     ]
    }
   ],
   "source": [
    "comidas = ('pão', 'leite','cafe', 'queijo', 'maçã')\n",
    "preços = (14.5, 10.5, 8.9, 20, 15)\n",
    "\n",
    "for comida, preço in zip(comidas, preços):\n",
    "    print(f'Comida {comida} --> Preço {preço}')"
   ]
  },
  {
   "cell_type": "code",
   "execution_count": null,
   "id": "b18e9bfb",
   "metadata": {},
   "outputs": [],
   "source": []
  },
  {
   "cell_type": "markdown",
   "id": "c3de8d0f",
   "metadata": {},
   "source": [
    "2. Agora, ainda com as tuplas acima, pegue apenas o nome e o preço das três comidas no meio da tupla. (considere \"meio da lista\" como sendo, por exemplo: ('A', 'B', 'C', 'D', 'E') --> ('B', 'C', 'D')."
   ]
  },
  {
   "cell_type": "code",
   "execution_count": 6,
   "id": "0f91d8f7",
   "metadata": {},
   "outputs": [
    {
     "name": "stdout",
     "output_type": "stream",
     "text": [
      "('chocolate', 2.8)\n",
      "('pavê', 6.5)\n",
      "('brigadeiro', 8.4)\n"
     ]
    }
   ],
   "source": [
    "sobremesa = ('sorvete', 'chocolate', 'pavê', 'brigadeiro', 'brownie')\n",
    "preco_sobremesa = (1.7, 2.8, 6.5, 8.4, 7.4)\n",
    "\n",
    "#print(len(sobremesa))\n",
    "x, *y, z = sobremesa[:]\n",
    "a, *b, c = preco_sobremesa[:]\n",
    "\n",
    "for index in zip(y, b):\n",
    "    print(index)"
   ]
  },
  {
   "cell_type": "code",
   "execution_count": 7,
   "id": "9488f876",
   "metadata": {},
   "outputs": [
    {
     "name": "stdout",
     "output_type": "stream",
     "text": [
      "chocolate - R$ 2.8\n",
      "pavê - R$ 6.5\n",
      "brigadeiro - R$ 8.4\n"
     ]
    }
   ],
   "source": [
    "sobremesa = ('sorvete', 'chocolate', 'pavê', 'brigadeiro', 'brownie')\n",
    "preco_sobremesa = (1.7, 2.8, 6.5, 8.4, 7.4)\n",
    "#print(len(sobremesa))\n",
    "\n",
    "for opcao, valor in zip(sobremesa, preco_sobremesa):\n",
    "    if opcao != sobremesa[0] and opcao != sobremesa [-1]:\n",
    "        print(f'{opcao} - R$ {valor}')"
   ]
  },
  {
   "cell_type": "code",
   "execution_count": 8,
   "id": "8699af8e",
   "metadata": {},
   "outputs": [
    {
     "name": "stdout",
     "output_type": "stream",
     "text": [
      "Comida leite --> Preço 10.5\n",
      "Comida cafe --> Preço 8.9\n",
      "Comida queijo --> Preço 20\n"
     ]
    }
   ],
   "source": [
    "for comida, preço in zip(comidas[1:-1], preços[1:-1]):\n",
    "    print(f'Comida {comida} --> Preço {preço}')"
   ]
  },
  {
   "cell_type": "code",
   "execution_count": 9,
   "id": "0e44355c",
   "metadata": {},
   "outputs": [
    {
     "name": "stdout",
     "output_type": "stream",
     "text": [
      "Hambúrguer: R$8.99\n",
      "Sushi: R$19.99\n",
      "Salada: R$7.99\n"
     ]
    }
   ],
   "source": [
    "nomes_comidas = (\"Pizza\", \"Hambúrguer\", \"Sushi\", \"Salada\", \"Massa\")\n",
    "precos_comidas = (15.99, 8.99, 19.99, 7.99, 12.99)\n",
    "\n",
    "nomes_meio = nomes_comidas[1:4]\n",
    "precos_meio = precos_comidas[1:4]\n",
    "\n",
    "for nome, preco in zip(nomes_meio, precos_meio):\n",
    "    print(f\"{nome}: R${preco:.2f}\")"
   ]
  },
  {
   "cell_type": "markdown",
   "id": "be91ed0b",
   "metadata": {},
   "source": [
    "3. Defina uma tupla com pelo menos cinco valores e mostre no standar output esta tupla invertida. Exemplo, (1, 2, 3, 4) --> (4, 3, 2, 1)"
   ]
  },
  {
   "cell_type": "code",
   "execution_count": 11,
   "id": "e224eed1",
   "metadata": {},
   "outputs": [
    {
     "name": "stdout",
     "output_type": "stream",
     "text": [
      "('sorvete', 'chocolate', 'pavê', 'brigadeiro', 'brownie')\n",
      "('brownie', 'brigadeiro', 'pavê', 'chocolate', 'sorvete') invertida\n"
     ]
    }
   ],
   "source": [
    "sobremesa = ('sorvete', 'chocolate', 'pavê', 'brigadeiro', 'brownie')\n",
    "print(sobremesa[:])\n",
    "#sobremesa[start:stop:step]\n",
    "print(sobremesa[::-1], 'invertida')"
   ]
  },
  {
   "cell_type": "code",
   "execution_count": 14,
   "id": "807e8dfd",
   "metadata": {},
   "outputs": [
    {
     "data": {
      "text/plain": [
       "[19.99, 15.99, 12.99, 8.99, 7.99]"
      ]
     },
     "execution_count": 14,
     "metadata": {},
     "output_type": "execute_result"
    }
   ],
   "source": [
    "sorted(precos_comidas, reverse = True)"
   ]
  },
  {
   "cell_type": "markdown",
   "id": "6263bc79",
   "metadata": {},
   "source": [
    "4. Dada a seguinte tupla: (('a', 23),('b', 37),('c', 11), ('d',29)). Ordene esta tupla de acordo com o segundo item."
   ]
  },
  {
   "cell_type": "code",
   "execution_count": 15,
   "id": "d9688187",
   "metadata": {},
   "outputs": [
    {
     "data": {
      "text/plain": [
       "[('c', 11), ('a', 23), ('d', 29), ('b', 37)]"
      ]
     },
     "execution_count": 15,
     "metadata": {},
     "output_type": "execute_result"
    }
   ],
   "source": [
    "par_tupla = (('a', 23),('b', 37),('c', 11), ('d',29))\n",
    "\n",
    "sorted(par_tupla, key = lambda x: x[1])"
   ]
  },
  {
   "cell_type": "markdown",
   "id": "e0b4d348",
   "metadata": {},
   "source": [
    "5. Defina uma tupla com pelo menos dez itens e crie uma nova tupla com apenas os itens de índice PAR da tupla original."
   ]
  },
  {
   "cell_type": "code",
   "execution_count": 17,
   "id": "42f75b01",
   "metadata": {},
   "outputs": [
    {
     "data": {
      "text/plain": [
       "(23, 37, 11, 29, 29)"
      ]
     },
     "execution_count": 17,
     "metadata": {},
     "output_type": "execute_result"
    }
   ],
   "source": [
    "diversos = ('a', 23, 'b', 37, 'c', 11, 'd',29, 'e', 29)\n",
    "\n",
    "pares = (diversos[1:10:2])\n",
    "pares"
   ]
  },
  {
   "cell_type": "code",
   "execution_count": 21,
   "id": "51e8f152",
   "metadata": {},
   "outputs": [
    {
     "data": {
      "text/plain": [
       "<filter at 0x185c743d2d0>"
      ]
     },
     "execution_count": 21,
     "metadata": {},
     "output_type": "execute_result"
    }
   ],
   "source": [
    "tupla_completa = ('a', 'b', 'c', 'd', 'e', 'f', 'g', 'h', 'i', 'j')\n",
    "\n",
    "pares = filter(lambda x: x[0]%2==0, enumerate(tupla_completa))\n",
    "pares"
   ]
  },
  {
   "cell_type": "code",
   "execution_count": 20,
   "id": "51f9b261",
   "metadata": {},
   "outputs": [
    {
     "data": {
      "text/plain": [
       "<enumerate at 0x185c8740e40>"
      ]
     },
     "execution_count": 20,
     "metadata": {},
     "output_type": "execute_result"
    }
   ],
   "source": [
    "#índice, elemento = enumerate(tupla_completa)"
   ]
  },
  {
   "cell_type": "markdown",
   "id": "7646c001",
   "metadata": {},
   "source": [
    "6. Defina uma tupla com pelo menos cinco valores e mostre quantas vezes cada elemento se repete."
   ]
  },
  {
   "cell_type": "code",
   "execution_count": 22,
   "id": "ff78b836",
   "metadata": {},
   "outputs": [
    {
     "name": "stdout",
     "output_type": "stream",
     "text": [
      "O elemento a não se repete.\n",
      "O elemento 23 não se repete.\n",
      "O elemento b não se repete.\n",
      "O elemento 37 não se repete.\n",
      "O elemento c não se repete.\n",
      "O elemento 11 não se repete.\n",
      "O elemento d não se repete.\n",
      "O elemento 29 se repete por 2 vezes\n",
      "O elemento e não se repete.\n",
      "O elemento 29 se repete por 2 vezes\n"
     ]
    }
   ],
   "source": [
    "diversos =  ('a', 23, 'b', 37,'c', 11, 'd',29, 'e', 29)\n",
    "\n",
    "for i in diversos:\n",
    "    if diversos.count(i) > 1:\n",
    "        print(f'O elemento {i} se repete por {diversos.count(i)} vezes') \n",
    "    else:\n",
    "        print(f'O elemento {i} não se repete.')"
   ]
  },
  {
   "cell_type": "code",
   "execution_count": 24,
   "id": "e79bb26d",
   "metadata": {},
   "outputs": [
    {
     "name": "stdout",
     "output_type": "stream",
     "text": [
      "valor='a' --> frequencia 1\n",
      "valor=23 --> frequencia 1\n",
      "valor='b' --> frequencia 1\n",
      "valor=37 --> frequencia 1\n",
      "valor='c' --> frequencia 1\n",
      "valor=11 --> frequencia 1\n",
      "valor='d' --> frequencia 1\n",
      "valor=29 --> frequencia 2\n",
      "valor='e' --> frequencia 1\n",
      "valor=29 --> frequencia 2\n"
     ]
    }
   ],
   "source": [
    "for valor in diversos:\n",
    "    print(f'{valor=} --> frequencia {diversos.count(valor)}')"
   ]
  },
  {
   "cell_type": "code",
   "execution_count": 26,
   "id": "e2d0c82e",
   "metadata": {},
   "outputs": [
    {
     "name": "stdout",
     "output_type": "stream",
     "text": [
      "O elemento a se repete 1 vezes.\n",
      "O elemento 23 se repete 1 vezes.\n",
      "O elemento b se repete 1 vezes.\n",
      "O elemento 37 se repete 1 vezes.\n",
      "O elemento c se repete 1 vezes.\n",
      "O elemento 11 se repete 1 vezes.\n",
      "O elemento d se repete 1 vezes.\n",
      "O elemento 29 se repete 2 vezes.\n",
      "O elemento e se repete 1 vezes.\n"
     ]
    }
   ],
   "source": [
    "minha_tupla = ('a', 23, 'b', 37,'c', 11, 'd',29, 'e', 29)\n",
    "contagem_elementos = {}  \n",
    "\n",
    "for elemento in minha_tupla:\n",
    "    if elemento in contagem_elementos:\n",
    "        contagem_elementos[elemento] += 1\n",
    "    else:\n",
    "        contagem_elementos[elemento] = 1\n",
    "\n",
    "for elemento, contagem in contagem_elementos.items():\n",
    "    print(f'O elemento {elemento} se repete {contagem} vezes.')"
   ]
  },
  {
   "cell_type": "markdown",
   "id": "76625c11",
   "metadata": {},
   "source": [
    "7. Defina uma tupla e calcule a soma de seus elementos."
   ]
  },
  {
   "cell_type": "code",
   "execution_count": 27,
   "id": "bab80d2f",
   "metadata": {},
   "outputs": [
    {
     "data": {
      "text/plain": [
       "55"
      ]
     },
     "execution_count": 27,
     "metadata": {},
     "output_type": "execute_result"
    }
   ],
   "source": [
    "minha_tupla = (1, 2, 2, 3, 3, 3, 4, 4, 4, 4, 5, 5, 5, 5, 5)\n",
    "sum(minha_tupla)"
   ]
  },
  {
   "cell_type": "markdown",
   "id": "d5fb2425",
   "metadata": {},
   "source": [
    "8. Considere a lista [(4, 5), (4, ), (8, 6, 7), (1, ), (3, 4, 6, 7)]. Faça um programa que remova as tuplas de tamanho K.  \n"
   ]
  },
  {
   "cell_type": "code",
   "execution_count": 29,
   "id": "79a6118d",
   "metadata": {},
   "outputs": [
    {
     "data": {
      "text/plain": [
       "[(4, 5), (8, 6, 7), (3, 4, 6, 7)]"
      ]
     },
     "execution_count": 29,
     "metadata": {},
     "output_type": "execute_result"
    }
   ],
   "source": [
    "lista = [(4, 5), (4, ), (8, 6, 7), (1, ), (3, 4, 6, 7)]\n",
    "\n",
    "K = 1\n",
    "  \n",
    "resultado = []\n",
    "for elemento in lista: \n",
    "    if len(elemento) != K:\n",
    "        resultado.append(elemento)\n",
    "        \n",
    "resultado"
   ]
  },
  {
   "cell_type": "code",
   "execution_count": null,
   "id": "2e742c95",
   "metadata": {},
   "outputs": [],
   "source": []
  }
 ],
 "metadata": {
  "kernelspec": {
   "display_name": "Python 3 (ipykernel)",
   "language": "python",
   "name": "python3"
  },
  "language_info": {
   "codemirror_mode": {
    "name": "ipython",
    "version": 3
   },
   "file_extension": ".py",
   "mimetype": "text/x-python",
   "name": "python",
   "nbconvert_exporter": "python",
   "pygments_lexer": "ipython3",
   "version": "3.10.11"
  },
  "latex_envs": {
   "LaTeX_envs_menu_present": true,
   "autoclose": false,
   "autocomplete": true,
   "bibliofile": "biblio.bib",
   "cite_by": "apalike",
   "current_citInitial": 1,
   "eqLabelWithNumbers": true,
   "eqNumInitial": 1,
   "hotkeys": {
    "equation": "Ctrl-E",
    "itemize": "Ctrl-I"
   },
   "labels_anchors": false,
   "latex_user_defs": false,
   "report_style_numbering": false,
   "user_envs_cfg": false
  },
  "toc": {
   "base_numbering": 1,
   "nav_menu": {},
   "number_sections": true,
   "sideBar": true,
   "skip_h1_title": false,
   "title_cell": "Table of Contents",
   "title_sidebar": "Contents",
   "toc_cell": false,
   "toc_position": {},
   "toc_section_display": true,
   "toc_window_display": false
  },
  "varInspector": {
   "cols": {
    "lenName": 16,
    "lenType": 16,
    "lenVar": 40
   },
   "kernels_config": {
    "python": {
     "delete_cmd_postfix": "",
     "delete_cmd_prefix": "del ",
     "library": "var_list.py",
     "varRefreshCmd": "print(var_dic_list())"
    },
    "r": {
     "delete_cmd_postfix": ") ",
     "delete_cmd_prefix": "rm(",
     "library": "var_list.r",
     "varRefreshCmd": "cat(var_dic_list()) "
    }
   },
   "types_to_exclude": [
    "module",
    "function",
    "builtin_function_or_method",
    "instance",
    "_Feature"
   ],
   "window_display": false
  }
 },
 "nbformat": 4,
 "nbformat_minor": 5
}
