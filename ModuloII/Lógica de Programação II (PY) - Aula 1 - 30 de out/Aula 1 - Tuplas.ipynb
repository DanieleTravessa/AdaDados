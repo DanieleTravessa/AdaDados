{
 "cells": [
  {
   "cell_type": "markdown",
   "id": "4cc24c5d",
   "metadata": {},
   "source": [
    "# Tuplas\n",
    "\n",
    "Neste capítulo estudaremos uma estrutura de dados, ou seja, uma forma estruturada de armazenar múltiplos dados. Você provavelmente já estudou pelo menos outra estrutura de dados em Python: a **lista**.\n",
    "\n",
    "Vamos brevemente revisar os conceitos de lista, pois eles serão úteis para compreender nossa nova estrutura, a **tupla**.\n",
    "\n",
    "Focaremos em funcionalidades, não em funções prontas e métodos de lista."
   ]
  },
  {
   "cell_type": "markdown",
   "id": "4e798983",
   "metadata": {},
   "source": [
    "## Revisão de Listas\n",
    "\n",
    "### Criando uma Lista e Acessando Elementos\n",
    "\n",
    "A lista é uma coleção de objetos em Python. Criando uma única variável para representar a lista, podemos armazenar múltiplos valores. Internamente, esses valores são representados por seus **índices**: um número inteiro, iniciando em zero e incrementando com passo unitário. \n",
    "\n",
    "Podemos criar uma lista através da função ```list``` ou utilizando um par de colchetes:"
   ]
  },
  {
   "cell_type": "code",
   "execution_count": null,
   "id": "43a73f23",
   "metadata": {},
   "outputs": [],
   "source": []
  },
  {
   "cell_type": "markdown",
   "id": "538e6640",
   "metadata": {},
   "source": [
    "### Iterando uma Lista"
   ]
  },
  {
   "cell_type": "code",
   "execution_count": null,
   "id": "58601848",
   "metadata": {},
   "outputs": [],
   "source": []
  },
  {
   "cell_type": "markdown",
   "id": "baf0f5e1",
   "metadata": {},
   "source": [
    "### *Slicing* de Listas\n",
    "\n",
    "Uma operação bastante comum em uma lista é extrair apenas uma parte dela. Para isso você deve informar, pelo menos, o índice inicial e o índice final, sendo que o índice final não irá entrar na conta - dizemos que ele é um valor \"exclusivo\", como se fosse um intervalo aberto naquele ponto."
   ]
  },
  {
   "cell_type": "markdown",
   "id": "466ca4ee",
   "metadata": {},
   "source": [
    "![](https://s3-sa-east-1.amazonaws.com/lcpi/37773811-c38d-496c-a810-c73fe072b684.png)"
   ]
  },
  {
   "cell_type": "code",
   "execution_count": null,
   "id": "63958054",
   "metadata": {},
   "outputs": [],
   "source": []
  },
  {
   "cell_type": "markdown",
   "id": "74dce864",
   "metadata": {},
   "source": [
    "### Concatenação de Listas\n",
    "\n",
    "Uma operação útil em listas é a concatenação. Quando \"somamos\" duas listas, utilizando o operador **+**, teremos uma nova lista com os elementos das duas listas originais em ordem de aparição:"
   ]
  },
  {
   "cell_type": "code",
   "execution_count": null,
   "id": "e6d43563",
   "metadata": {},
   "outputs": [],
   "source": []
  },
  {
   "cell_type": "markdown",
   "id": "d0a0ac80",
   "metadata": {},
   "source": [
    "## Tuplas\n",
    "\n",
    "### Conceito \n",
    "##### Declaração e inicialização\n",
    "\n",
    "Assim como as listas, tuplas também são coleções de objetos. Elas podem armazenar diversos objetos de diferentes tipos. Elas também possuem índice, que se comporta da mesma maneira que os índices de uma lista. Podemos criar tuplas utilizando parênteses ou a função ```tuple```. Caso a tupla possua pelo menos 2 elementos, não precisamos dos parênteses, basta separar os valores por vírgula, apesar de ser **recomendável** utilizá-los para evitar ambiguidades:"
   ]
  },
  {
   "cell_type": "code",
   "execution_count": null,
   "id": "d7f3b051",
   "metadata": {},
   "outputs": [],
   "source": []
  },
  {
   "cell_type": "markdown",
   "id": "cb3f5519",
   "metadata": {},
   "source": [
    "### Imutabilidade\n",
    "\n",
    "Listas possuem uma propriedade que a tupla **não** possui: **mutabilidade**. O código abaixo irá funcionar para a operação na lista, mas irá falhar para a operação na tupla:"
   ]
  },
  {
   "cell_type": "code",
   "execution_count": null,
   "id": "df4f6234",
   "metadata": {},
   "outputs": [],
   "source": []
  },
  {
   "cell_type": "markdown",
   "id": "4e628ab3",
   "metadata": {},
   "source": [
    "Por que alguém escolheria uma estrutura imutável? Por que usar uma lista com _menos recursos_? O principal motivo é precisamente quando não convém alterar os dados. Em Python é muito difícil \"proibir\" algo: nada impede outro programador de transformar a tupla em uma lista, fazer alterações na lista e salvar a nova tupla \"por cima\" da velha, utilizando o mesmo nome para a nova. \n",
    "\n",
    "Porém, quando utilizamos uma tupla, estamos **sinalizando** que aqueles dados **não deveriam** ser alterados, e ninguém irá conseguir alterá-los por acidente. Para alterá-los será necessário realizar uma série de conversões de maneira intencional.\n",
    "\n",
    "Isso aumenta um pouco a segurança e confiabilidade de nosso código em certas situações, evitando a alteração indevida de dados que podem ser críticos para o bom funcionamento do nosso programa.\n",
    "\n",
    "Adicionalmente, em alguns contextos muito específicos - quantidades muito grandes de dados com uma grande quantidade de operações de **leitura** versus poucas ou nenhuma operação de **escrita** - a tupla pode oferecer desempenho significativamente superior à lista. São poucas as situações onde você sentirá essa diferença, seja porque para quantidades muito baixas de dados a lista possui uma série de otimizações que podem torná-la até mais veloz do que a tupla, seja porque para quantidades relativamente grandes de dados a lista ainda será razoavelmente rápida. "
   ]
  },
  {
   "cell_type": "markdown",
   "id": "9e735b47",
   "metadata": {},
   "source": [
    "### Desempacotamento de tupla"
   ]
  },
  {
   "cell_type": "code",
   "execution_count": null,
   "id": "207a34c6",
   "metadata": {
    "ExecuteTime": {
     "end_time": "2022-10-03T23:39:49.205167Z",
     "start_time": "2022-10-03T23:39:49.189990Z"
    }
   },
   "outputs": [],
   "source": []
  },
  {
   "cell_type": "markdown",
   "id": "bb914478",
   "metadata": {},
   "source": [
    "### Operações com tuplas"
   ]
  },
  {
   "cell_type": "markdown",
   "id": "e9906286",
   "metadata": {},
   "source": [
    "##### Atribuição"
   ]
  },
  {
   "cell_type": "code",
   "execution_count": null,
   "id": "ca9e91bb",
   "metadata": {},
   "outputs": [],
   "source": []
  },
  {
   "cell_type": "markdown",
   "id": "156bbc75",
   "metadata": {},
   "source": [
    "##### Adicionando elementos"
   ]
  },
  {
   "cell_type": "code",
   "execution_count": null,
   "id": "14c8e726",
   "metadata": {},
   "outputs": [],
   "source": []
  },
  {
   "cell_type": "markdown",
   "id": "8b7956aa",
   "metadata": {},
   "source": [
    "##### Removendo elementos"
   ]
  },
  {
   "cell_type": "code",
   "execution_count": null,
   "id": "b62cfea1",
   "metadata": {},
   "outputs": [],
   "source": []
  },
  {
   "cell_type": "markdown",
   "id": "2ce3848f",
   "metadata": {},
   "source": [
    "## Iteração"
   ]
  },
  {
   "cell_type": "markdown",
   "id": "978c3379",
   "metadata": {},
   "source": [
    "### Enumerate"
   ]
  },
  {
   "cell_type": "code",
   "execution_count": null,
   "id": "136f8b5f",
   "metadata": {},
   "outputs": [],
   "source": []
  },
  {
   "cell_type": "markdown",
   "id": "45ab281e",
   "metadata": {},
   "source": [
    "### Slice"
   ]
  },
  {
   "cell_type": "code",
   "execution_count": null,
   "id": "4150e0ec",
   "metadata": {},
   "outputs": [],
   "source": []
  },
  {
   "cell_type": "markdown",
   "id": "5dc5b25f",
   "metadata": {},
   "source": [
    "### Zip"
   ]
  },
  {
   "cell_type": "code",
   "execution_count": null,
   "id": "a45890d2",
   "metadata": {
    "ExecuteTime": {
     "end_time": "2022-10-04T00:14:55.921587Z",
     "start_time": "2022-10-04T00:14:55.899006Z"
    }
   },
   "outputs": [],
   "source": []
  },
  {
   "cell_type": "markdown",
   "id": "71451c2d",
   "metadata": {},
   "source": [
    "## Exercícios\n",
    "\n",
    "1. Defina duas tuplas: uma com nomes de comida (pelo menos 5 nomes) e outra com os preços das comidas - preservando a ordem. Mostre no *standard output* a relação de comida-preço.\n",
    "\n",
    "2. Agora, ainda com as tuplas acima, pegue apenas o nome e o preço das três comidas no meio da tupla. (considere \"meio da lista\" como sendo, por exemplo: ('A', 'B', 'C', 'D', 'E') --> ('B', 'C', 'D').\n",
    "\n",
    "3. Defina uma tupla com pelo menos cinco valores e mostre no *standar output* esta tupla invertida. (exemplo, (1, 2, 3, 4) --> (4, 3, 2, 1)\n",
    "\n",
    "4. Dada a seguinte tupla: (('a', 23),('b', 37),('c', 11), ('d',29)). Ordene esta tupla de acordo com o segundo item.\n",
    "\n",
    "5. Defina uma tupla com pelo menos dez itens e crie uma nova tupla com apenas os itens de índice PAR da tupla original.\n",
    "\n",
    "6. Defina uma tupla com pelo menos cinco valores e mostre quantas vezes cada elemento se repete.\n",
    "\n",
    "7. Defina uma tupla e calcule a soma de seus elementos.\n",
    "\n",
    "8. Considere a lista [(4, 5), (4, ), (8, 6, 7), (1, ), (3, 4, 6, 7)]. Faça um programa que remova as tuplas de tamanho K.  \n",
    "    "
   ]
  },
  {
   "cell_type": "markdown",
   "id": "1d6487ef",
   "metadata": {},
   "source": [
    "### Resoluções"
   ]
  },
  {
   "cell_type": "markdown",
   "id": "537f8e57",
   "metadata": {},
   "source": [
    "1. Defina duas tuplas: uma com nomes de comida (pelo menos 5 nomes) e outra com os preços das comidas - preservando a ordem. Mostre no standard output a relação de comida-preço."
   ]
  },
  {
   "cell_type": "code",
   "execution_count": null,
   "id": "6eb3ebcc",
   "metadata": {},
   "outputs": [],
   "source": []
  },
  {
   "cell_type": "markdown",
   "id": "c3de8d0f",
   "metadata": {},
   "source": [
    "2. Agora, ainda com as tuplas acima, pegue apenas o nome e o preço das três comidas no meio da tupla. (considere \"meio da lista\" como sendo, por exemplo: ('A', 'B', 'C', 'D', 'E') --> ('B', 'C', 'D')."
   ]
  },
  {
   "cell_type": "code",
   "execution_count": null,
   "id": "0f91d8f7",
   "metadata": {},
   "outputs": [],
   "source": []
  },
  {
   "cell_type": "markdown",
   "id": "be91ed0b",
   "metadata": {},
   "source": [
    "3. Defina uma tupla com pelo menos cinco valores e mostre no standar output esta tupla invertida. Exemplo, (1, 2, 3, 4) --> (4, 3, 2, 1)"
   ]
  },
  {
   "cell_type": "code",
   "execution_count": null,
   "id": "e224eed1",
   "metadata": {},
   "outputs": [],
   "source": []
  },
  {
   "cell_type": "markdown",
   "id": "6263bc79",
   "metadata": {},
   "source": [
    "4. Dada a seguinte tupla: (('a', 23),('b', 37),('c', 11), ('d',29)). Ordene esta tupla de acordo com o segundo item."
   ]
  },
  {
   "cell_type": "code",
   "execution_count": null,
   "id": "d9688187",
   "metadata": {},
   "outputs": [],
   "source": []
  },
  {
   "cell_type": "markdown",
   "id": "e0b4d348",
   "metadata": {},
   "source": [
    "5. Defina uma tupla com pelo menos dez itens e crie uma nova tupla com apenas os itens de índice PAR da tupla original."
   ]
  },
  {
   "cell_type": "code",
   "execution_count": null,
   "id": "42f75b01",
   "metadata": {},
   "outputs": [],
   "source": []
  },
  {
   "cell_type": "markdown",
   "id": "7646c001",
   "metadata": {},
   "source": [
    "6. Defina uma tupla com pelo menos cinco valores e mostre quantas vezes cada elemento se repete."
   ]
  },
  {
   "cell_type": "code",
   "execution_count": null,
   "id": "ff78b836",
   "metadata": {},
   "outputs": [],
   "source": []
  },
  {
   "cell_type": "markdown",
   "id": "76625c11",
   "metadata": {},
   "source": [
    "7. Defina uma tupla e calcule a soma de seus elementos."
   ]
  },
  {
   "cell_type": "code",
   "execution_count": null,
   "id": "bab80d2f",
   "metadata": {},
   "outputs": [],
   "source": []
  },
  {
   "cell_type": "markdown",
   "id": "d5fb2425",
   "metadata": {},
   "source": [
    "8. Considere a lista [(4, 5), (4, ), (8, 6, 7), (1, ), (3, 4, 6, 7)]. Faça um programa que remova as tuplas de tamanho K.  \n"
   ]
  },
  {
   "cell_type": "code",
   "execution_count": null,
   "id": "79a6118d",
   "metadata": {},
   "outputs": [],
   "source": []
  }
 ],
 "metadata": {
  "kernelspec": {
   "display_name": "Python 3 (ipykernel)",
   "language": "python",
   "name": "python3"
  },
  "language_info": {
   "codemirror_mode": {
    "name": "ipython",
    "version": 3
   },
   "file_extension": ".py",
   "mimetype": "text/x-python",
   "name": "python",
   "nbconvert_exporter": "python",
   "pygments_lexer": "ipython3",
   "version": "3.10.11"
  },
  "latex_envs": {
   "LaTeX_envs_menu_present": true,
   "autoclose": false,
   "autocomplete": true,
   "bibliofile": "biblio.bib",
   "cite_by": "apalike",
   "current_citInitial": 1,
   "eqLabelWithNumbers": true,
   "eqNumInitial": 1,
   "hotkeys": {
    "equation": "Ctrl-E",
    "itemize": "Ctrl-I"
   },
   "labels_anchors": false,
   "latex_user_defs": false,
   "report_style_numbering": false,
   "user_envs_cfg": false
  },
  "toc": {
   "base_numbering": 1,
   "nav_menu": {},
   "number_sections": true,
   "sideBar": true,
   "skip_h1_title": false,
   "title_cell": "Table of Contents",
   "title_sidebar": "Contents",
   "toc_cell": false,
   "toc_position": {},
   "toc_section_display": true,
   "toc_window_display": false
  },
  "varInspector": {
   "cols": {
    "lenName": 16,
    "lenType": 16,
    "lenVar": 40
   },
   "kernels_config": {
    "python": {
     "delete_cmd_postfix": "",
     "delete_cmd_prefix": "del ",
     "library": "var_list.py",
     "varRefreshCmd": "print(var_dic_list())"
    },
    "r": {
     "delete_cmd_postfix": ") ",
     "delete_cmd_prefix": "rm(",
     "library": "var_list.r",
     "varRefreshCmd": "cat(var_dic_list()) "
    }
   },
   "types_to_exclude": [
    "module",
    "function",
    "builtin_function_or_method",
    "instance",
    "_Feature"
   ],
   "window_display": false
  }
 },
 "nbformat": 4,
 "nbformat_minor": 5
}
