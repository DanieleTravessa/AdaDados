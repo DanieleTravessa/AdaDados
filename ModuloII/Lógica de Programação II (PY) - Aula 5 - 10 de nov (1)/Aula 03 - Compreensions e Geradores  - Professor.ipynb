{
 "cells": [
  {
   "cell_type": "markdown",
   "id": "1ef33cdb",
   "metadata": {},
   "source": [
    "## Loop padrão (FOR)"
   ]
  },
  {
   "cell_type": "code",
   "execution_count": 1,
   "id": "6643ff8d",
   "metadata": {
    "ExecuteTime": {
     "end_time": "2022-12-01T21:47:37.971893Z",
     "start_time": "2022-12-01T21:47:37.949007Z"
    }
   },
   "outputs": [
    {
     "name": "stdout",
     "output_type": "stream",
     "text": [
      "[1, 4, 9, 16, 25, 36, 49, 64, 81, 100]\n"
     ]
    }
   ],
   "source": [
    "quadrados = []\n",
    "\n",
    "for x in range(1, 11):\n",
    "    quadrados.append(x**2)\n",
    "\n",
    "print(quadrados)"
   ]
  },
  {
   "cell_type": "markdown",
   "id": "eb98b586",
   "metadata": {},
   "source": [
    "```mermaid\n",
    "sequenceDiagram\n",
    "Alice ->> Bob: Hello Bob, how are you?\n",
    "Bob-->>John: How about you John?\n",
    "Bob--x Alice: I am good thanks!\n",
    "Bob-x John: I am good thanks!\n",
    "Note right of John: Bob thinks a long<br/>long time, so long<br/>that the text does<br/>not fit on a row.\n",
    "\n",
    "Bob-->Alice: Checking with John...\n",
    "Alice->John: Yes... John, how are you?\n",
    "```"
   ]
  },
  {
   "cell_type": "markdown",
   "id": "5ccc3ad4",
   "metadata": {},
   "source": [
    "## List Compreension"
   ]
  },
  {
   "cell_type": "markdown",
   "id": "950042b8",
   "metadata": {},
   "source": [
    "![](https://s3-sa-east-1.amazonaws.com/lcpi/fb6f8658-51e5-4fc8-a742-6eca85f6592e.png)"
   ]
  },
  {
   "cell_type": "markdown",
   "id": "2033afdf",
   "metadata": {},
   "source": [
    "```py\n",
    "lista = [expressao for item in colecao]\n",
    "\n",
    "# equivale a:\n",
    "\n",
    "for item in colecao:\n",
    "    lista.append(expressao)\n",
    "```    "
   ]
  },
  {
   "cell_type": "code",
   "execution_count": 2,
   "id": "d4ebc046",
   "metadata": {
    "ExecuteTime": {
     "end_time": "2022-12-01T21:47:37.987057Z",
     "start_time": "2022-12-01T21:47:37.975142Z"
    }
   },
   "outputs": [],
   "source": [
    "quadrados_compreensao = []\n",
    "for num in range(1, 11):\n",
    "    quadrados_compreensao.append(num**2)"
   ]
  },
  {
   "cell_type": "code",
   "execution_count": 3,
   "id": "21a92c71",
   "metadata": {
    "ExecuteTime": {
     "end_time": "2022-12-01T21:47:38.003252Z",
     "start_time": "2022-12-01T21:47:37.988210Z"
    }
   },
   "outputs": [
    {
     "name": "stdout",
     "output_type": "stream",
     "text": [
      "[1, 4, 9, 16, 25, 36, 49, 64, 81, 100]\n"
     ]
    }
   ],
   "source": [
    "quadrados_compreensao = [num**2 for num in range(1, 11)]\n",
    "\n",
    "print(quadrados_compreensao)"
   ]
  },
  {
   "cell_type": "markdown",
   "id": "86d49c68",
   "metadata": {},
   "source": [
    "### List compreension com if"
   ]
  },
  {
   "cell_type": "markdown",
   "id": "95921de4",
   "metadata": {},
   "source": [
    "![](https://s3-sa-east-1.amazonaws.com/lcpi/d048cd19-314f-4c3e-a16e-7b12c9c3bc73.png)"
   ]
  },
  {
   "cell_type": "markdown",
   "id": "6654331e",
   "metadata": {},
   "source": [
    "```py\n",
    "[expressao for item in colecao if condicao]\n",
    "\n",
    "# equivale a:\n",
    "\n",
    "for item in colecao:\n",
    "    if condicao:\n",
    "        lista.append(expressao)\n",
    "```        "
   ]
  },
  {
   "cell_type": "code",
   "execution_count": 4,
   "id": "eeba1788",
   "metadata": {
    "ExecuteTime": {
     "end_time": "2022-12-01T21:47:38.018409Z",
     "start_time": "2022-12-01T21:47:38.006776Z"
    }
   },
   "outputs": [
    {
     "name": "stdout",
     "output_type": "stream",
     "text": [
      "[2, 4, 6, 8, 10]\n"
     ]
    }
   ],
   "source": [
    "pares_compreensao = []\n",
    "for num in range(1, 11):\n",
    "    if num%2 == 0:\n",
    "        pares_compreensao.append(num)\n",
    "\n",
    "print(pares_compreensao)"
   ]
  },
  {
   "cell_type": "code",
   "execution_count": 5,
   "id": "f8a1faf0",
   "metadata": {
    "ExecuteTime": {
     "end_time": "2022-12-01T21:47:38.033948Z",
     "start_time": "2022-12-01T21:47:38.019712Z"
    }
   },
   "outputs": [
    {
     "name": "stdout",
     "output_type": "stream",
     "text": [
      "[2, 4, 6, 8, 10]\n"
     ]
    }
   ],
   "source": [
    "pares_compreensao = [num for num in range(1, 11) if num%2 == 0]\n",
    "\n",
    "print(pares_compreensao)"
   ]
  },
  {
   "cell_type": "markdown",
   "id": "9bb2865a",
   "metadata": {},
   "source": [
    "### List compreension com if-else"
   ]
  },
  {
   "cell_type": "markdown",
   "id": "58cf20c9",
   "metadata": {},
   "source": [
    "![](https://s3-sa-east-1.amazonaws.com/lcpi/76f74253-1281-473c-925a-c6f9d3971775.png)"
   ]
  },
  {
   "cell_type": "markdown",
   "id": "fb89991d",
   "metadata": {},
   "source": [
    "```py\n",
    "[expressao if condicao else expressao_alternativa for item in colecao] \n",
    "\n",
    "# equivale a:\n",
    "\n",
    "for item in colecao:\n",
    "    if condicao:\n",
    "        lista.append(expressao)\n",
    "    else:\n",
    "        lista.append(expressao_alternativa)\n",
    "```        "
   ]
  },
  {
   "cell_type": "code",
   "execution_count": 6,
   "id": "55288dbf",
   "metadata": {
    "ExecuteTime": {
     "end_time": "2022-12-01T21:47:38.049938Z",
     "start_time": "2022-12-01T21:47:38.035156Z"
    }
   },
   "outputs": [],
   "source": [
    "numeros = [1, 2, 3, 4, 5, 6, 7, 8, 9, 10]"
   ]
  },
  {
   "cell_type": "code",
   "execution_count": 7,
   "id": "6072830a",
   "metadata": {
    "ExecuteTime": {
     "end_time": "2022-12-01T21:47:38.065341Z",
     "start_time": "2022-12-01T21:47:38.052017Z"
    }
   },
   "outputs": [
    {
     "name": "stdout",
     "output_type": "stream",
     "text": [
      "[2, 4, 6, 8, 10]\n"
     ]
    }
   ],
   "source": [
    "pares_compreensao = []\n",
    "for numero in numeros:\n",
    "    if numero%2 == 0:\n",
    "        pares_compreensao.append(numero) \n",
    "    else:\n",
    "        None \n",
    "\n",
    "print(pares_compreensao)"
   ]
  },
  {
   "cell_type": "code",
   "execution_count": 8,
   "id": "d0f9bbc6",
   "metadata": {
    "ExecuteTime": {
     "end_time": "2022-12-01T21:47:38.081832Z",
     "start_time": "2022-12-01T21:47:38.067642Z"
    }
   },
   "outputs": [
    {
     "name": "stdout",
     "output_type": "stream",
     "text": [
      "[None, 2, None, 4, None, 6, None, 8, None, 10]\n"
     ]
    }
   ],
   "source": [
    "pares_compreensao = [numero if numero%2 == 0 else None for numero in numeros]\n",
    "\n",
    "print(pares_compreensao)"
   ]
  },
  {
   "cell_type": "markdown",
   "id": "f57be7e5",
   "metadata": {},
   "source": [
    "### Compreensions Aninhadas"
   ]
  },
  {
   "cell_type": "code",
   "execution_count": 9,
   "id": "b5fa3b5e",
   "metadata": {
    "ExecuteTime": {
     "end_time": "2022-12-01T21:47:38.097418Z",
     "start_time": "2022-12-01T21:47:38.083005Z"
    }
   },
   "outputs": [],
   "source": [
    "nomes = ['Ana', 'Bruno', 'Carla', 'Daniel', 'Emília']\n",
    "sobrenomes = ['Silva', 'Oliveira']\n",
    "combinacoes = []"
   ]
  },
  {
   "cell_type": "code",
   "execution_count": 10,
   "id": "0af8e99e",
   "metadata": {
    "ExecuteTime": {
     "end_time": "2022-12-01T21:47:38.113533Z",
     "start_time": "2022-12-01T21:47:38.101803Z"
    }
   },
   "outputs": [
    {
     "data": {
      "text/plain": [
       "['Ana Silva',\n",
       " 'Ana Oliveira',\n",
       " 'Bruno Silva',\n",
       " 'Bruno Oliveira',\n",
       " 'Carla Silva',\n",
       " 'Carla Oliveira',\n",
       " 'Daniel Silva',\n",
       " 'Daniel Oliveira',\n",
       " 'Emília Silva',\n",
       " 'Emília Oliveira']"
      ]
     },
     "execution_count": 10,
     "metadata": {},
     "output_type": "execute_result"
    }
   ],
   "source": [
    "for nome in nomes:\n",
    "    for sobrenome in sobrenomes:\n",
    "        combinacoes.append(nome + ' ' + sobrenome)\n",
    "        \n",
    "combinacoes        "
   ]
  },
  {
   "cell_type": "code",
   "execution_count": 11,
   "id": "6a0bfdb1",
   "metadata": {
    "ExecuteTime": {
     "end_time": "2022-12-01T21:47:38.128862Z",
     "start_time": "2022-12-01T21:47:38.114570Z"
    }
   },
   "outputs": [
    {
     "name": "stdout",
     "output_type": "stream",
     "text": [
      "['Ana Silva', 'Ana Oliveira', 'Bruno Silva', 'Bruno Oliveira', 'Carla Silva', 'Carla Oliveira', 'Daniel Silva', 'Daniel Oliveira', 'Emília Silva', 'Emília Oliveira']\n"
     ]
    }
   ],
   "source": [
    "combinacoes = [nome + ' ' + sobrenome for nome in nomes for sobrenome in sobrenomes]\n",
    "print(combinacoes)"
   ]
  },
  {
   "cell_type": "code",
   "execution_count": null,
   "id": "87abd884",
   "metadata": {},
   "outputs": [],
   "source": []
  },
  {
   "cell_type": "markdown",
   "id": "715ce7af",
   "metadata": {},
   "source": [
    "Podemos utilizar essa forma para trabalhar com matrizes. O exemplo abaixo lê pelo teclado a quantidade de vitórias, empates e derrotas para cada time em um grupo:"
   ]
  },
  {
   "cell_type": "code",
   "execution_count": null,
   "id": "7b8359a9",
   "metadata": {
    "ExecuteTime": {
     "end_time": "2022-12-01T21:49:50.837837Z",
     "start_time": "2022-12-01T21:47:38.130870Z"
    }
   },
   "outputs": [],
   "source": [
    "times = ['Atlético Python', 'JavaScript United', 'C Seniors', 'Javeiros do Norte']\n",
    "entradas = ['V', 'E', 'D']\n",
    "\n",
    "tabela = [[int(input(f'Digite a quantidade de {tipo} do time {time}: ')) for tipo in entradas] for time in times]\n",
    "\n",
    "print(tabela)"
   ]
  },
  {
   "cell_type": "code",
   "execution_count": null,
   "id": "a46b9685",
   "metadata": {},
   "outputs": [],
   "source": []
  },
  {
   "cell_type": "markdown",
   "id": "4c0c3b88",
   "metadata": {},
   "source": [
    "## Dict Compreension"
   ]
  },
  {
   "cell_type": "markdown",
   "id": "f8d8a183",
   "metadata": {},
   "source": [
    "![](https://s3-sa-east-1.amazonaws.com/lcpi/47cf1021-3557-4615-a17d-3314e6d891f7.png)"
   ]
  },
  {
   "cell_type": "markdown",
   "id": "2f54ee87",
   "metadata": {},
   "source": [
    "```py\n",
    "dicionario = {chave:valor for item in colecao}\n",
    "\n",
    "# equivale a:\n",
    "\n",
    "dicionario = {}\n",
    "for chave, valor in colecao:\n",
    "    dicionario[chave] = valor\n",
    "```   "
   ]
  },
  {
   "cell_type": "code",
   "execution_count": 2,
   "id": "08b86410",
   "metadata": {
    "ExecuteTime": {
     "end_time": "2022-12-02T00:02:28.777997Z",
     "start_time": "2022-12-02T00:02:28.758201Z"
    }
   },
   "outputs": [
    {
     "name": "stdout",
     "output_type": "stream",
     "text": [
      "{'Ana': 9.0, 'Bruno': 8.0, 'Carla': 8.0}\n"
     ]
    }
   ],
   "source": [
    "alunos = ['Ana', 'Bruno', 'Carla', 'Daniel', 'Emília']\n",
    "medias = [9.0, 8.0, 8.0, 6.5, 7.0]\n",
    "\n",
    "cadastro = {alunos[i]:medias[i] for i in range(len(alunos)) if medias[i]>7}\n",
    "\n",
    "print(cadastro)"
   ]
  },
  {
   "cell_type": "code",
   "execution_count": null,
   "id": "f79c7625",
   "metadata": {},
   "outputs": [],
   "source": []
  },
  {
   "cell_type": "code",
   "execution_count": 14,
   "id": "a7bb6c4d",
   "metadata": {
    "ExecuteTime": {
     "end_time": "2022-12-01T21:49:59.706034Z",
     "start_time": "2022-12-01T21:49:59.699666Z"
    }
   },
   "outputs": [
    {
     "name": "stdout",
     "output_type": "stream",
     "text": [
      "{'Ana': 9.0, 'Bruno': 8.0, 'Carla': 8.0, 'Daniel': 6.5, 'Emília': 7.0}\n"
     ]
    }
   ],
   "source": [
    "alunos = ['Ana', 'Bruno', 'Carla', 'Daniel', 'Emília']\n",
    "medias = [9.0, 8.0, 8.0, 6.5, 7.0]\n",
    "\n",
    "cadastro = {aluno:media for aluno, media in zip(alunos, medias)}\n",
    "\n",
    "print(cadastro)"
   ]
  },
  {
   "cell_type": "markdown",
   "id": "95c134cd",
   "metadata": {},
   "source": [
    "> \n",
    "> **Observação:** se você tentou fazer uma compreensão de dicionário e esqueceu de utilizar um par chave-valor, talvez você tenha se surpreendido ao notar que não gerou um erro. Isso ocorre porque existe *outra* estrutura de dados em Python que não estudamos no curso que utiliza os símbolos **{** e **}**: o `set` (conjunto). Ele é uma coleção **mutável** de elementos (como a lista), mas ele não possui índice (porque a ordem não importa) e ele não aceita elementos repetidos. Caso tenha curiosidade, segue material de referência com o básico de como trabalhar com conjuntos: https://www.programiz.com/python-programming/set\n",
    "> "
   ]
  },
  {
   "cell_type": "markdown",
   "id": "f06a1131",
   "metadata": {},
   "source": [
    "### Expressões geradoras"
   ]
  },
  {
   "cell_type": "code",
   "execution_count": 1,
   "id": "6a30abee",
   "metadata": {
    "ExecuteTime": {
     "end_time": "2022-12-01T21:50:00.296944Z",
     "start_time": "2022-12-01T21:50:00.283267Z"
    }
   },
   "outputs": [],
   "source": [
    "colchetes = [x for x in range(10)]\n",
    "\n",
    "parenteses = (x for x in range(10))"
   ]
  },
  {
   "cell_type": "code",
   "execution_count": 2,
   "id": "0510a122",
   "metadata": {
    "ExecuteTime": {
     "end_time": "2022-12-01T21:50:00.530504Z",
     "start_time": "2022-12-01T21:50:00.525385Z"
    }
   },
   "outputs": [
    {
     "name": "stdout",
     "output_type": "stream",
     "text": [
      "<class 'list'>\n",
      "[0, 1, 2, 3, 4, 5, 6, 7, 8, 9]\n"
     ]
    }
   ],
   "source": [
    "print(type(colchetes))\n",
    "print(colchetes)"
   ]
  },
  {
   "cell_type": "code",
   "execution_count": 3,
   "id": "f3f6189f",
   "metadata": {
    "ExecuteTime": {
     "end_time": "2022-12-01T21:50:00.809123Z",
     "start_time": "2022-12-01T21:50:00.800053Z"
    }
   },
   "outputs": [
    {
     "name": "stdout",
     "output_type": "stream",
     "text": [
      "<class 'generator'>\n",
      "<generator object <genexpr> at 0x000001AB080CE9E0>\n"
     ]
    }
   ],
   "source": [
    "print(type(parenteses))\n",
    "print(parenteses)"
   ]
  },
  {
   "cell_type": "code",
   "execution_count": 4,
   "id": "60954982",
   "metadata": {},
   "outputs": [
    {
     "name": "stdout",
     "output_type": "stream",
     "text": [
      "0\n",
      "1\n",
      "2\n",
      "3\n",
      "4\n",
      "5\n",
      "6\n",
      "7\n",
      "8\n",
      "9\n"
     ]
    }
   ],
   "source": [
    "for i in colchetes:\n",
    "    print(i)"
   ]
  },
  {
   "cell_type": "code",
   "execution_count": 6,
   "id": "4e77066b",
   "metadata": {
    "ExecuteTime": {
     "end_time": "2022-12-01T21:50:01.259033Z",
     "start_time": "2022-12-01T21:50:01.250462Z"
    }
   },
   "outputs": [],
   "source": [
    "for i in parenteses:\n",
    "    print(i)"
   ]
  },
  {
   "cell_type": "code",
   "execution_count": 20,
   "id": "855aa2ca",
   "metadata": {
    "ExecuteTime": {
     "end_time": "2022-12-01T21:50:01.491692Z",
     "start_time": "2022-12-01T21:50:01.473662Z"
    }
   },
   "outputs": [
    {
     "name": "stdout",
     "output_type": "stream",
     "text": [
      "0\n",
      "1\n",
      "4\n",
      "9\n",
      "16\n",
      "25\n",
      "36\n",
      "49\n",
      "64\n",
      "81\n"
     ]
    }
   ],
   "source": [
    "gerador_quadrados = (x**2 for x in range(10))\n",
    "\n",
    "for quadrado in gerador_quadrados:\n",
    "    print(quadrado)"
   ]
  },
  {
   "cell_type": "markdown",
   "id": "2090627d",
   "metadata": {},
   "source": [
    "Também podemos convertê-las em listas"
   ]
  },
  {
   "cell_type": "code",
   "execution_count": 21,
   "id": "9ffba7b2",
   "metadata": {
    "ExecuteTime": {
     "end_time": "2022-12-01T21:50:02.113178Z",
     "start_time": "2022-12-01T21:50:02.108305Z"
    }
   },
   "outputs": [
    {
     "name": "stdout",
     "output_type": "stream",
     "text": [
      "[1, 3, 5, 7, 9, 11, 13, 15, 17, 19]\n"
     ]
    }
   ],
   "source": [
    "gerador_impares = (x for x in range(20) if x % 2 == 1)\n",
    "\n",
    "lista_impares = list(gerador_impares)\n",
    "\n",
    "print(lista_impares)"
   ]
  },
  {
   "cell_type": "markdown",
   "id": "70f9bab8",
   "metadata": {},
   "source": [
    "Para entender porque o resultado foi uma lista vazia, precisamos entender a diferença entre um **iterável** e um **iterador** em Python.\n",
    "\n",
    "### Iteráveis e iteradores\n",
    "\n",
    "**Importante** ⚠️\n",
    "\n",
    "Um **iterável** é um objeto que pode ser percorrido, isto é, acessado por índices.<br>\n",
    "Um **iterador** é um objeto que usamos para percorrer um objeto iterável."
   ]
  },
  {
   "cell_type": "markdown",
   "id": "2e875887",
   "metadata": {},
   "source": [
    "#### Diferença entre itrador e iterável"
   ]
  },
  {
   "cell_type": "code",
   "execution_count": null,
   "id": "bc43fdc6",
   "metadata": {},
   "outputs": [],
   "source": []
  },
  {
   "cell_type": "markdown",
   "id": "c90ecee7",
   "metadata": {},
   "source": [
    "![](https://s3-sa-east-1.amazonaws.com/lcpi/a50c3483-d1fe-407e-b873-bc4f8acd615f.png)"
   ]
  },
  {
   "cell_type": "markdown",
   "id": "30d8cccd",
   "metadata": {},
   "source": [
    "Na analogia, a vila de casas são um objeto iterável, sendo cada casa um índice que armazena um certo valor ou conteúdo. O carteiro é o objeto iterador. Ele pode percorrer cada casa em uma dada ordem. "
   ]
  },
  {
   "cell_type": "markdown",
   "id": "b34c4d7e",
   "metadata": {},
   "source": [
    "Um **iterável** é um objeto em Python que podemos percorrer utilizando um loop. Geralmente pensamos em iteráveis como algum tipo de coleção. Listas, tuplas, dicionários e strings são todos iteráveis.\n",
    "\n",
    "Porém, o que o loop realmente utiliza não é o iterável, mas o **iterador**. Quando tentamos percorrer um iterável, é criado um iterador a partir dele utilizando a função `iter`. Em cada passo da iteração (do loop), a função `next` é chamada, e ela irá retornar o próximo elemento. Quando os elementos são esgotados, ela irá lançar a exceção (uma espécie de erro sinalizado, que estudaremos em um capítulo futuro) `StopIteration`."
   ]
  },
  {
   "cell_type": "markdown",
   "id": "fd793e57",
   "metadata": {},
   "source": [
    "Veja o exemplo abaixo:"
   ]
  },
  {
   "cell_type": "code",
   "execution_count": 9,
   "id": "2d481b8f",
   "metadata": {},
   "outputs": [
    {
     "data": {
      "text/plain": [
       "list_iterator"
      ]
     },
     "execution_count": 9,
     "metadata": {},
     "output_type": "execute_result"
    }
   ],
   "source": [
    "lista = [1, 3, 5]\n",
    "\n",
    "iterador = iter(lista)\n",
    "type(iterador)"
   ]
  },
  {
   "cell_type": "code",
   "execution_count": 22,
   "id": "2fcc722e",
   "metadata": {
    "ExecuteTime": {
     "end_time": "2022-12-01T21:50:03.690800Z",
     "start_time": "2022-12-01T21:50:03.684741Z"
    }
   },
   "outputs": [
    {
     "name": "stdout",
     "output_type": "stream",
     "text": [
      "<list_iterator object at 0x000002427C72DA60>\n",
      "1\n",
      "3\n",
      "5\n"
     ]
    }
   ],
   "source": [
    "lista = [1, 3, 5]\n",
    "\n",
    "iterador = iter(lista)\n",
    "\n",
    "print(iterador)\n",
    "\n",
    "print(next(iterador))\n",
    "print(next(iterador))\n",
    "print(next(iterador))\n",
    "# print(next(iterador)) # Erro: StopIteration"
   ]
  },
  {
   "cell_type": "markdown",
   "id": "e493b2a2",
   "metadata": {},
   "source": [
    "##### ⚠️ ` next()` só pode ser utilizado em iteradores, não em iteráveis."
   ]
  },
  {
   "cell_type": "markdown",
   "id": "94d5b3be",
   "metadata": {
    "ExecuteTime": {
     "end_time": "2022-12-01T21:50:03.956273Z",
     "start_time": "2022-12-01T21:50:03.938333Z"
    }
   },
   "source": [
    "```py\n",
    "lista = [1, 3, 5]\n",
    "next(lista)\n",
    "\n",
    "---------------------------------------------------------------------------\n",
    "TypeError                                 Traceback (most recent call last)\n",
    "~\\AppData\\Local\\Temp\\ipykernel_28228\\2369686123.py in <module>\n",
    "      1 lista = [1, 3, 5]\n",
    "----> 2 next(lista)\n",
    "\n",
    "TypeError: 'list' object is not an iterator\n",
    "\n",
    "```\n"
   ]
  },
  {
   "cell_type": "markdown",
   "id": "5b77d78f",
   "metadata": {},
   "source": [
    "Uma diferença fundamental entre um **iterável** e um **iterador** é que o iterador já possui todos os exemplos salvos em algum lugar. O iterável não. Ele irá gerar/buscar cada elemento no momento que a função `next` é chamada, e ele não irá salvar os elementos anteriores.\n",
    "\n",
    "Uma expressão geradora não é um **iterável**, ela é um **iterador**. Uma lista é um **iterável**.\n",
    "\n",
    "Ou seja, quando nós fazemos uma compreensão de lista, a expressão é avaliada na mesma hora e todos os elementos são gerados e salvos na memória.\n",
    "\n",
    "Quando utilizamos uma expressão geradora, cada elemento é gerado apenas quando solicitado, e os elementos não ficam salvos."
   ]
  },
  {
   "cell_type": "code",
   "execution_count": 14,
   "id": "54ff45c5",
   "metadata": {
    "ExecuteTime": {
     "end_time": "2022-12-01T21:50:04.759970Z",
     "start_time": "2022-12-01T21:50:04.741351Z"
    }
   },
   "outputs": [
    {
     "name": "stdout",
     "output_type": "stream",
     "text": [
      "0\n",
      "1\n",
      "2\n",
      "3\n",
      "4\n"
     ]
    }
   ],
   "source": [
    "gerador = (x for x in range(5))\n",
    "\n",
    "print(next(gerador))\n",
    "print(next(gerador))\n",
    "print(next(gerador))\n",
    "print(next(gerador))\n",
    "print(next(gerador))\n",
    "# print(next(gerador)) # Erro: StopIteration"
   ]
  },
  {
   "cell_type": "markdown",
   "id": "bb07dbcd",
   "metadata": {},
   "source": [
    "ou de um modo mais `pythonic`"
   ]
  },
  {
   "cell_type": "code",
   "execution_count": 38,
   "id": "e5f63825",
   "metadata": {},
   "outputs": [
    {
     "name": "stdout",
     "output_type": "stream",
     "text": [
      "0\n",
      "1\n",
      "2\n",
      "3\n",
      "4\n"
     ]
    },
    {
     "ename": "KeyboardInterrupt",
     "evalue": "",
     "output_type": "error",
     "traceback": [
      "\u001b[1;31m---------------------------------------------------------------------------\u001b[0m",
      "\u001b[1;31mKeyboardInterrupt\u001b[0m                         Traceback (most recent call last)",
      "\u001b[1;32m~\\AppData\\Local\\Temp\\ipykernel_28228\\3378379238.py\u001b[0m in \u001b[0;36m<module>\u001b[1;34m\u001b[0m\n\u001b[0;32m      2\u001b[0m \u001b[1;33m\u001b[0m\u001b[0m\n\u001b[0;32m      3\u001b[0m \u001b[1;32mwhile\u001b[0m \u001b[1;32mTrue\u001b[0m\u001b[1;33m:\u001b[0m\u001b[1;33m\u001b[0m\u001b[1;33m\u001b[0m\u001b[0m\n\u001b[1;32m----> 4\u001b[1;33m     \u001b[1;32mtry\u001b[0m\u001b[1;33m:\u001b[0m\u001b[1;33m\u001b[0m\u001b[1;33m\u001b[0m\u001b[0m\n\u001b[0m\u001b[0;32m      5\u001b[0m         \u001b[0mprint\u001b[0m\u001b[1;33m(\u001b[0m\u001b[0mnext\u001b[0m\u001b[1;33m(\u001b[0m\u001b[0mgerador\u001b[0m\u001b[1;33m)\u001b[0m\u001b[1;33m)\u001b[0m\u001b[1;33m\u001b[0m\u001b[1;33m\u001b[0m\u001b[0m\n\u001b[0;32m      6\u001b[0m     \u001b[1;32mexcept\u001b[0m \u001b[0mException\u001b[0m\u001b[1;33m:\u001b[0m\u001b[1;33m\u001b[0m\u001b[1;33m\u001b[0m\u001b[0m\n",
      "\u001b[1;31mKeyboardInterrupt\u001b[0m: "
     ]
    }
   ],
   "source": [
    "gerador = (x for x in range(5))\n",
    "\n",
    "while True:\n",
    "    try:\n",
    "        print(next(gerador))\n",
    "    except Exception:\n",
    "        pass"
   ]
  },
  {
   "cell_type": "markdown",
   "id": "a2fc51cd",
   "metadata": {},
   "source": [
    "### Por que e quando?\n",
    "\n",
    "**Por que** - para minimizar o tamanho dos dados a serem transportados na memória.\n",
    "\n",
    "**Quando** - o tamanho ou o pacote individual é grande e não pode ser quebrado mais sem criar viés, mas depois passá-los todos de uma vez irá sobrecarregar a memória.\n",
    "\n",
    "Podemos utilizar expressões geradoras quando:\n",
    "\n",
    "* Iremos trabalhar com uma base de dados tão grande que a geração da lista pode ser excessivamente lenta ou consumir memória demais.  \n",
    "* Quando desejamos obter dados infinitos (uma sequência numérica sem fim, ou então um *stream* de dados que pode estar chegando por um sensor ou pela internet, por exemplo).  \n",
    "* Quando sabemos com certeza absoluta que só precisaremos iterar uma única vez por cada elemento e não precisaremos deles posteriormente.  \n",
    "\n",
    "Caso você precise dos dados mais de uma vez, a expressão geradora deixa de ser atrativa e compensa mais utilizar compreensão de listas."
   ]
  },
  {
   "cell_type": "markdown",
   "id": "4445e31e",
   "metadata": {},
   "source": [
    "## Funções geradoras\n",
    "\n",
    "Expressões geradoras são uma forma compacta para criar iteradores. Uma forma alternativa é utilizar uma função geradora.\n",
    "\n",
    "Funções geradoras lembram bastante funções convencionais, mas ao invés de `return` elas utilizarão a palavra `yield`. \n",
    "\n",
    "A função irá retornar um iterador. Em seguida, utilizamos a função `next()` com o iterador para acessar o objeto iterável.\n",
    "\n",
    "Cada vez que o `next` for chamado, o iterador irá executar a função até encontrar o `yield`. O estado da função é salvo e o valor do `yield` é retornado. Quando chamarmos `next` novamente, a função irá executar do ponto que parou até encontrar novamente o `yield`. Quando não houver mais `yield`, a exceção `StopIteraction` será lançada."
   ]
  },
  {
   "cell_type": "markdown",
   "id": "317cfa4e",
   "metadata": {},
   "source": [
    "![](https://s3-sa-east-1.amazonaws.com/lcpi/b3f61380-84b4-48be-b390-85a63bef19d1.gif)"
   ]
  },
  {
   "cell_type": "code",
   "execution_count": null,
   "id": "4a0d063b",
   "metadata": {},
   "outputs": [],
   "source": [
    "Vejamos um exemplo:"
   ]
  },
  {
   "cell_type": "code",
   "execution_count": 25,
   "id": "dc2e3252",
   "metadata": {
    "ExecuteTime": {
     "end_time": "2022-12-01T21:50:06.159273Z",
     "start_time": "2022-12-01T21:50:06.150199Z"
    }
   },
   "outputs": [
    {
     "name": "stdout",
     "output_type": "stream",
     "text": [
      "1\n",
      "3\n",
      "5\n"
     ]
    }
   ],
   "source": [
    "def funcao_geradora():\n",
    "    yield 1\n",
    "    yield 3\n",
    "    yield 5\n",
    "\n",
    "meu_gerador = funcao_geradora()\n",
    "\n",
    "print(next(meu_gerador))\n",
    "print(next(meu_gerador))\n",
    "print(next(meu_gerador))\n",
    "# print(next(meu_gerador)) # erro: StopIteration"
   ]
  },
  {
   "cell_type": "code",
   "execution_count": 5,
   "id": "c6f0c169",
   "metadata": {
    "ExecuteTime": {
     "end_time": "2022-12-01T21:50:06.364384Z",
     "start_time": "2022-12-01T21:50:06.353057Z"
    }
   },
   "outputs": [],
   "source": [
    "def gerador_de_sequencia(limite:int):\n",
    "    contador = 0\n",
    "    while contador < limite:\n",
    "        yield contador\n",
    "        contador += 1"
   ]
  },
  {
   "cell_type": "code",
   "execution_count": 6,
   "id": "cf023fd3",
   "metadata": {
    "ExecuteTime": {
     "end_time": "2022-12-01T21:50:06.580173Z",
     "start_time": "2022-12-01T21:50:06.568090Z"
    }
   },
   "outputs": [],
   "source": [
    "iterador_sequencia = gerador_de_sequencia(5)"
   ]
  },
  {
   "cell_type": "code",
   "execution_count": 7,
   "id": "b1cbc08f",
   "metadata": {},
   "outputs": [
    {
     "data": {
      "text/plain": [
       "generator"
      ]
     },
     "execution_count": 7,
     "metadata": {},
     "output_type": "execute_result"
    }
   ],
   "source": [
    "type(iterador_sequencia)"
   ]
  },
  {
   "cell_type": "code",
   "execution_count": 8,
   "id": "926c97d3",
   "metadata": {
    "ExecuteTime": {
     "end_time": "2022-12-01T21:50:06.829578Z",
     "start_time": "2022-12-01T21:50:06.820070Z"
    }
   },
   "outputs": [
    {
     "name": "stdout",
     "output_type": "stream",
     "text": [
      "0\n",
      "1\n",
      "2\n",
      "3\n",
      "4\n"
     ]
    }
   ],
   "source": [
    "for x in iterador_sequencia:\n",
    "    print(x)"
   ]
  },
  {
   "cell_type": "markdown",
   "id": "b8b1aa3d",
   "metadata": {},
   "source": [
    "### Funções geradoras do python\n",
    "\n",
    "##### Filter\n",
    "A função `filter` retorna um iterador que acessa somente os itens validados pela função de teste.\n",
    "\n",
    "**Exemplo:** Defina uma tupla com pelo menos dez itens e crie uma nova tupla com apenas os itens de índice PAR da tupla original."
   ]
  },
  {
   "cell_type": "code",
   "execution_count": 3,
   "id": "ab55e67a",
   "metadata": {
    "ExecuteTime": {
     "end_time": "2022-12-01T21:50:08.386567Z",
     "start_time": "2022-12-01T21:50:08.371547Z"
    }
   },
   "outputs": [],
   "source": [
    "tupla = (1, 2, 3, 4, 5, 6, 7, 8)\n",
    "\n",
    "def verifica_pares(numero):\n",
    "    if numero%2==0:\n",
    "        return x\n",
    "\n",
    "pares = filter(verifica_pares , tupla)"
   ]
  },
  {
   "cell_type": "code",
   "execution_count": 40,
   "id": "ed5a3619",
   "metadata": {
    "ExecuteTime": {
     "end_time": "2022-12-01T21:50:08.713975Z",
     "start_time": "2022-12-01T21:50:08.696133Z"
    }
   },
   "outputs": [
    {
     "data": {
      "text/plain": [
       "[2, 4, 6, 8]"
      ]
     },
     "execution_count": 40,
     "metadata": {},
     "output_type": "execute_result"
    }
   ],
   "source": [
    "[par for par in pares]"
   ]
  },
  {
   "cell_type": "markdown",
   "id": "281331ea",
   "metadata": {},
   "source": [
    "##### Map"
   ]
  },
  {
   "cell_type": "code",
   "execution_count": 1,
   "id": "d7a86ed1",
   "metadata": {
    "ExecuteTime": {
     "end_time": "2022-12-01T21:50:09.229847Z",
     "start_time": "2022-12-01T21:50:09.215620Z"
    }
   },
   "outputs": [],
   "source": [
    "colecao = [1, 2, 3, 4, 5, 6, 7, 8]\n",
    "\n",
    "def calcula_quadrados(numero):\n",
    "    return numero ** 2\n",
    "\n",
    "quadrados = map(calcula_quadrados , colecao)"
   ]
  },
  {
   "cell_type": "code",
   "execution_count": 42,
   "id": "3dc17cea",
   "metadata": {
    "ExecuteTime": {
     "end_time": "2022-12-01T21:50:09.479155Z",
     "start_time": "2022-12-01T21:50:09.470777Z"
    }
   },
   "outputs": [
    {
     "data": {
      "text/plain": [
       "[1, 4, 9, 16, 25, 36, 49, 64]"
      ]
     },
     "execution_count": 42,
     "metadata": {},
     "output_type": "execute_result"
    }
   ],
   "source": [
    "[quadrado for quadrado in quadrados]"
   ]
  },
  {
   "cell_type": "code",
   "execution_count": 43,
   "id": "6fe927d3",
   "metadata": {
    "ExecuteTime": {
     "end_time": "2022-12-01T21:50:09.713445Z",
     "start_time": "2022-12-01T21:50:09.700313Z"
    }
   },
   "outputs": [
    {
     "data": {
      "text/plain": [
       "[1, 2, 3, 4, 5, 6, 7, 8]"
      ]
     },
     "execution_count": 43,
     "metadata": {},
     "output_type": "execute_result"
    }
   ],
   "source": [
    "colecao"
   ]
  },
  {
   "cell_type": "markdown",
   "id": "b59d13a3",
   "metadata": {},
   "source": [
    "**Referências**"
   ]
  },
  {
   "cell_type": "markdown",
   "id": "3c054dab",
   "metadata": {},
   "source": [
    "Caso tenha interesse em se aprofundar nos assuntos desta aula e ver alguns experimentos envolvendo tamanho e performance de cada um, segue algumas boas referências:\n",
    "\n",
    ">https://djangostars.com/blog/list-comprehensions-and-generator-expressions/\n",
    ">\n",
    ">https://towardsdatascience.com/comprehensions-and-generator-expression-in-python-2ae01c48fc50\n",
    ">\n",
    ">https://docs.python.org/3/howto/functional.html#generator-expressions-and-list-comprehensions"
   ]
  },
  {
   "cell_type": "markdown",
   "id": "5a65deb5",
   "metadata": {},
   "source": [
    "1. Coloque em uma lista todos os números entre 1 e 1000 que sejam divisiveis por N, sendo N um número recebido no *standard input*;"
   ]
  },
  {
   "cell_type": "code",
   "execution_count": 20,
   "id": "eb69e7c0",
   "metadata": {
    "ExecuteTime": {
     "end_time": "2022-12-01T21:49:50.864147Z",
     "start_time": "2022-12-01T21:49:50.864147Z"
    }
   },
   "outputs": [
    {
     "name": "stdout",
     "output_type": "stream",
     "text": [
      "Insira um número inteiro: 360\n",
      "[360, 720]\n"
     ]
    }
   ],
   "source": [
    "# Exercício 1\n",
    "\n",
    "N = int(input('Insira um número inteiro: '))\n",
    "\n",
    "divN = [n for n in range(1, 1001) if n % N == 0]\n",
    "print(divN)"
   ]
  },
  {
   "cell_type": "markdown",
   "id": "79523bea",
   "metadata": {},
   "source": [
    "2. Coloque em uma lista todos os números entre 1 e 1000 que possuam um dígito N em sua composição, sendo N um número recebido no *standard input*;\n",
    "\n"
   ]
  },
  {
   "cell_type": "code",
   "execution_count": 21,
   "id": "50415b73",
   "metadata": {
    "ExecuteTime": {
     "end_time": "2022-12-01T21:49:50.865147Z",
     "start_time": "2022-12-01T21:49:50.865147Z"
    }
   },
   "outputs": [
    {
     "name": "stdout",
     "output_type": "stream",
     "text": [
      "Insira um número inteiro: 15\n",
      "[15, 115, 150, 151, 152, 153, 154, 155, 156, 157, 158, 159, 215, 315, 415, 515, 615, 715, 815, 915]\n"
     ]
    }
   ],
   "source": [
    "# Exercício 2\n",
    "\n",
    "N = input('Insira um número inteiro: ')\n",
    "\n",
    "acheN = [n for n in range(1,1001) if N in str(n)]\n",
    "print(acheN)"
   ]
  },
  {
   "cell_type": "markdown",
   "id": "d77beaa7",
   "metadata": {},
   "source": [
    "3. Conte o número de espaços em branco em uma *string* recebida pelo *standard input*;\n",
    "\n"
   ]
  },
  {
   "cell_type": "code",
   "execution_count": 22,
   "id": "69e27fd5",
   "metadata": {
    "ExecuteTime": {
     "end_time": "2022-12-01T21:49:50.866148Z",
     "start_time": "2022-12-01T21:49:50.866148Z"
    }
   },
   "outputs": [
    {
     "name": "stdout",
     "output_type": "stream",
     "text": [
      "7\n"
     ]
    }
   ],
   "source": [
    "# Exercício 3\n",
    "\n",
    "algumaString = 'Oi, tudo bom? Estamos na aula de Python.'\n",
    "espaco = [s for s in algumaString if s == ' ']\n",
    "print(len(espaco))"
   ]
  },
  {
   "cell_type": "markdown",
   "id": "14c11a21",
   "metadata": {},
   "source": [
    "4. Crie uma lista com todas as consoantes em uma frase (de pelo menos 10 palavras) recebidas pelo *standard input*;\n",
    "\n"
   ]
  },
  {
   "cell_type": "code",
   "execution_count": 30,
   "id": "3ca29598",
   "metadata": {
    "ExecuteTime": {
     "end_time": "2022-12-01T21:49:50.867149Z",
     "start_time": "2022-12-01T21:49:50.867149Z"
    }
   },
   "outputs": [
    {
     "name": "stdout",
     "output_type": "stream",
     "text": [
      "['t', 'd', 'b', 'm', 's', 't', 'm', 's', 'n', 'l', 'd', 'P', 'y', 't', 'h', 'n', 'm', 't', 'l', 'g', 'l']\n"
     ]
    }
   ],
   "source": [
    "# Exercício 4\n",
    "\n",
    "frase = \"Oi, tudo bom? Estamos na aula de Python. É muito legal!1000\"\n",
    "consoantes = 'a,e,i,o,u, \" \", ?, ., !, E, Y, É, O'\n",
    "resultado = [letra for letra in frase if (letra.isalpha()) & (letra not in consoantes)]\n",
    "print(resultado)"
   ]
  },
  {
   "cell_type": "markdown",
   "id": "58f45c33",
   "metadata": {},
   "source": [
    "5. Pegue o índice e o valor, na forma de tupla, para os itens na lista: ['oi', 4, 8.99, 'mamao', ('t,b', 'n')]. O resultado seria semelhante a (indice, valor), (indice, valor);\n",
    "\n"
   ]
  },
  {
   "cell_type": "code",
   "execution_count": 31,
   "id": "a05ab57d",
   "metadata": {
    "ExecuteTime": {
     "end_time": "2022-12-01T21:49:50.868148Z",
     "start_time": "2022-12-01T21:49:50.868148Z"
    }
   },
   "outputs": [
    {
     "name": "stdout",
     "output_type": "stream",
     "text": [
      "[(0, 'oi'), (1, 4), (2, 8.99), (3, 'mamao'), (4, ('t,b', 'n'))]\n"
     ]
    }
   ],
   "source": [
    "# Exercício 5\n",
    "\n",
    "itens =  ['oi', 4, 8.99, 'mamao', ('t,b', 'n')]\n",
    "resultado = [(indice, item) for indice, item in enumerate(itens)]\n",
    "print(resultado)"
   ]
  },
  {
   "cell_type": "markdown",
   "id": "b6145370",
   "metadata": {},
   "source": [
    "6. Encontre os números em comum em duas listas (sem utilizar \"tupla\" ou \"set\"), sendo ambas as listas recebidas pelo *standard input* e com, pelo menos, 5 valores em cada;\n",
    "\n"
   ]
  },
  {
   "cell_type": "code",
   "execution_count": 32,
   "id": "9ea8fde5",
   "metadata": {
    "ExecuteTime": {
     "end_time": "2022-12-01T21:49:50.869249Z",
     "start_time": "2022-12-01T21:49:50.869249Z"
    }
   },
   "outputs": [
    {
     "name": "stdout",
     "output_type": "stream",
     "text": [
      "[2, 3, 4]\n"
     ]
    }
   ],
   "source": [
    "# Exercício 6\n",
    "\n",
    "lista1 = [1, 2, 3, 4]\n",
    "lista2 = [2, 3, 4, 5]\n",
    "\n",
    "comum = [a for a in lista1 if a in lista2]\n",
    "print(comum)"
   ]
  },
  {
   "cell_type": "markdown",
   "id": "4516c6fd",
   "metadata": {},
   "source": [
    "7. Receba uma frase pelo *standard input* e salve apenas os números encontrados nesta frase em uma lista;\n",
    "\n"
   ]
  },
  {
   "cell_type": "code",
   "execution_count": 33,
   "id": "e2ecde58",
   "metadata": {
    "ExecuteTime": {
     "end_time": "2022-12-01T21:49:50.870603Z",
     "start_time": "2022-12-01T21:49:50.870603Z"
    }
   },
   "outputs": [
    {
     "name": "stdout",
     "output_type": "stream",
     "text": [
      "['1984', '13', '1000']\n"
     ]
    }
   ],
   "source": [
    "# Exercício 7\n",
    "\n",
    "frase = 'In 1984 there were 13 instances of a protest with over 1000 people attending'\n",
    "\n",
    "palavras = frase.split()\n",
    "resultado = [numero for numero in palavras if not numero.isalpha()]\n",
    "print(resultado)"
   ]
  },
  {
   "cell_type": "markdown",
   "id": "f08c6858",
   "metadata": {},
   "source": [
    "8. Dado o  seguinte iterável: numeros = range(20), produza uma lista contendo as palavras 'par' e 'impar' caso o número daquela posição seja par/impar. Teremos, ao final, uma segunda lista com ['impar', 'par', 'par', 'impar', etc];\n",
    "\n"
   ]
  },
  {
   "cell_type": "code",
   "execution_count": 34,
   "id": "5f84b60d",
   "metadata": {
    "ExecuteTime": {
     "end_time": "2022-12-01T21:49:50.871608Z",
     "start_time": "2022-12-01T21:49:50.871608Z"
    }
   },
   "outputs": [
    {
     "name": "stdout",
     "output_type": "stream",
     "text": [
      "['impar', 'par', 'impar', 'par', 'impar', 'par', 'impar', 'par', 'impar', 'par', 'impar', 'par', 'impar', 'par', 'impar', 'par', 'impar', 'par', 'impar', 'par']\n",
      "\n",
      "['impar', 'par', 'impar', 'par', 'impar', 'par', 'impar', 'par', 'impar', 'par', 'impar', 'par', 'impar', 'par', 'impar', 'par', 'impar', 'par', 'impar', 'par']\n"
     ]
    }
   ],
   "source": [
    "# Exercício 8\n",
    "\n",
    "resultado = ['par' if n%2 == 0 else 'impar' for n in range(1,21)]\n",
    "print(resultado, end='\\n\\n')\n",
    "\n",
    "resultado2 = []\n",
    "for n in range(1,21):\n",
    "    if n % 2 == 0:\n",
    "        resultado2.append('par')\n",
    "    else:\n",
    "        resultado2.append('impar')\n",
    "print(resultado2)"
   ]
  },
  {
   "cell_type": "markdown",
   "id": "b78b209b",
   "metadata": {},
   "source": [
    "9. Construa uma lista de tuplas que tenha apenas os números em comum entre duas listas, sendo: lista1 = [1, 2, 3, 4, 5, 6, 7, 8, 9] e lista2 = [2, 7, 1, 12] e o resultado deve ser algo do tipo: [(1,1), (2,2), etc];\n",
    "\n"
   ]
  },
  {
   "cell_type": "code",
   "execution_count": 35,
   "id": "8c8417fb",
   "metadata": {
    "ExecuteTime": {
     "end_time": "2022-12-01T21:49:50.872608Z",
     "start_time": "2022-12-01T21:49:50.872608Z"
    }
   },
   "outputs": [
    {
     "name": "stdout",
     "output_type": "stream",
     "text": [
      "[(1, 1), (2, 2), (7, 7)]\n"
     ]
    }
   ],
   "source": [
    "# Exercício 9\n",
    "\n",
    "lista1 = [1, 2, 3, 4, 5, 6, 7, 8, 9]\n",
    "lista2 = [2, 7, 1, 12]\n",
    "\n",
    "resultado = [(a, b) for a in lista1 for b in lista2 if a == b]\n",
    "print(resultado)"
   ]
  },
  {
   "cell_type": "markdown",
   "id": "6a0683af",
   "metadata": {},
   "source": [
    "10. Encontre todas as palavras em uma *string*, que contenham menos de 4 letras;\n"
   ]
  },
  {
   "cell_type": "code",
   "execution_count": 36,
   "id": "126a29f0",
   "metadata": {
    "ExecuteTime": {
     "end_time": "2022-12-01T21:49:50.873608Z",
     "start_time": "2022-12-01T21:49:50.873608Z"
    }
   },
   "outputs": [
    {
     "name": "stdout",
     "output_type": "stream",
     "text": [
      "['On', 'a', 'day', 'in', 'the', 'sun', 'and', 'his', 'red']\n"
     ]
    }
   ],
   "source": [
    "# Exercício 10\n",
    "\n",
    "\n",
    "frase = 'On a summer day somner smith went simming in the sun and his red skin stung'\n",
    "examinar = frase.split()\n",
    "\n",
    "resultado = [palavra for palavra in examinar if len(palavra) <4]\n",
    "print(resultado)"
   ]
  },
  {
   "cell_type": "markdown",
   "id": "89b3d480",
   "metadata": {},
   "source": [
    "\n",
    "11. Use uma compreensão de lista aninhada para encontrar todos os números entre 1-1000 que sejam divisiveis por algum número entre 2-9."
   ]
  },
  {
   "cell_type": "code",
   "execution_count": 37,
   "id": "7d3672d8",
   "metadata": {
    "ExecuteTime": {
     "end_time": "2022-12-01T21:49:50.874608Z",
     "start_time": "2022-12-01T21:49:50.874608Z"
    }
   },
   "outputs": [
    {
     "name": "stdout",
     "output_type": "stream",
     "text": [
      "[2, 3, 4, 5, 6, 7, 8, 9, 10, 12, 14, 15, 16, 18, 20, 21, 22, 24, 25, 26, 27, 28, 30, 32, 33, 34, 35, 36, 38, 39, 40, 42, 44, 45, 46, 48, 49, 50, 51, 52, 54, 55, 56, 57, 58, 60, 62, 63, 64, 65, 66, 68, 69, 70, 72, 74, 75, 76, 77, 78, 80, 81, 82, 84, 85, 86, 87, 88, 90, 91, 92, 93, 94, 95, 96, 98, 99, 100]\n",
      "\n",
      "[2, 3, 4, 5, 6, 7, 8, 9, 10, 12, 14, 15, 16, 18, 20, 21, 22, 24, 25, 26, 27, 28, 30, 32, 33, 34, 35, 36, 38, 39, 40, 42, 44, 45, 46, 48, 49, 50, 51, 52, 54, 55, 56, 57, 58, 60, 62, 63, 64, 65, 66, 68, 69, 70, 72, 74, 75, 76, 77, 78, 80, 81, 82, 84, 85, 86, 87, 88, 90, 91, 92, 93, 94, 95, 96, 98, 99, 100]\n"
     ]
    }
   ],
   "source": [
    "# Exercício 11\n",
    "\n",
    "resultado = [numero for numero in range(1,101) if True in [True for x in range(2,10) if numero % x == 0]]\n",
    "print(resultado, end='\\n\\n')\n",
    "\n",
    "semResto = set()\n",
    "for n in range(1, 101):\n",
    "    for x in range(2,10):\n",
    "        if n % x == 0:\n",
    "            semResto.add(n)\n",
    "print(list(semResto))"
   ]
  },
  {
   "cell_type": "code",
   "execution_count": null,
   "id": "5b5da008",
   "metadata": {},
   "outputs": [],
   "source": []
  }
 ],
 "metadata": {
  "kernelspec": {
   "display_name": "Python 3 (ipykernel)",
   "language": "python",
   "name": "python3"
  },
  "language_info": {
   "codemirror_mode": {
    "name": "ipython",
    "version": 3
   },
   "file_extension": ".py",
   "mimetype": "text/x-python",
   "name": "python",
   "nbconvert_exporter": "python",
   "pygments_lexer": "ipython3",
   "version": "3.10.11"
  }
 },
 "nbformat": 4,
 "nbformat_minor": 5
}
