{
 "cells": [
  {
   "cell_type": "markdown",
   "id": "798301ac",
   "metadata": {},
   "source": [
    "# Parâmetros e retorno de funções\n",
    "\n",
    "Quando estudamos funções, aprendemos que elas podem receber dados (parâmetros) e podem fornecer uma resposta (retorno). Porém, o número de parâmetros era fixo para cada função: um dado para cada parâmetro que declaramos na definição da função. Da mesma forma, a função poderia retornar exatamente um resultado.\n",
    "\n",
    "Em alguns casos, mais flexibilidade seria útil. Utilizando tuplas e dicionários conseguimos essa flexibilidade."
   ]
  },
  {
   "cell_type": "markdown",
   "id": "8905a23b",
   "metadata": {},
   "source": [
    "### Breve revisão de funções e desempacotamento de coleções"
   ]
  },
  {
   "cell_type": "code",
   "execution_count": 19,
   "id": "1a7a8b63",
   "metadata": {},
   "outputs": [
    {
     "data": {
      "text/plain": [
       "30"
      ]
     },
     "execution_count": 19,
     "metadata": {},
     "output_type": "execute_result"
    }
   ],
   "source": [
    "def soma(x, y):\n",
    "    return x+y\n",
    "\n",
    "soma(10, 20)"
   ]
  },
  {
   "cell_type": "code",
   "execution_count": null,
   "id": "33472d28",
   "metadata": {},
   "outputs": [],
   "source": [
    "x, *y, z = ('Lista', 'Tupla', 'Dicionario')\n",
    "print(x)\n",
    "print(y)\n",
    "print(z)"
   ]
  },
  {
   "cell_type": "markdown",
   "id": "99858fd4",
   "metadata": {},
   "source": [
    "## Funções com retorno múltiplo\n",
    "\n",
    "Vejamos um caso simples: uma função que retorna os valores máximo e mínimo de uma coleção, separados por vírgula.\n",
    "Vamos imprimir o resultado e verificar o que acontece."
   ]
  },
  {
   "cell_type": "code",
   "execution_count": 5,
   "id": "185b1b41",
   "metadata": {
    "ExecuteTime": {
     "end_time": "2022-10-08T17:55:09.098628Z",
     "start_time": "2022-10-08T17:55:09.079404Z"
    }
   },
   "outputs": [
    {
     "name": "stdout",
     "output_type": "stream",
     "text": [
      "(9, 1)\n",
      "<class 'tuple'>\n"
     ]
    }
   ],
   "source": [
    "def max_min(colecao):\n",
    "    maior = max(colecao)\n",
    "    menor = min(colecao)\n",
    "    return maior, menor\n",
    "\n",
    "numeros = [3, 1, 4, 1, 5, 9, 2]\n",
    "\n",
    "maximo, minimo = max_min(numeros)\n",
    "print(resposta)\n",
    "print(type(resposta)) # mostra o tipo da variável resposta\n",
    "\n",
    "maior = resposta[0]\n",
    "menor = resposta[1]"
   ]
  },
  {
   "cell_type": "markdown",
   "id": "44dd5a42",
   "metadata": {},
   "source": [
    "Se você executar o resultado acima, verá que o retorno da função é uma tupla. Lembre-se que expressões contendo valores separados por vírgula em Python, mesmo na ausência de parênteses, são tratadas como tuplas.\n",
    "\n",
    "No capítulo de tuplas, estudamos a operação de *desempacotamento de tuplas*. Sua aplicação neste caso pode ajudar a de fato lidar com essa função como sendo uma função que retorna múltiplos valores ao invés de simplesmente uma função que retorna uma tupla:"
   ]
  },
  {
   "cell_type": "code",
   "execution_count": 6,
   "id": "ba9219c7",
   "metadata": {
    "ExecuteTime": {
     "end_time": "2022-10-08T17:55:10.504117Z",
     "start_time": "2022-10-08T17:55:10.494371Z"
    }
   },
   "outputs": [
    {
     "name": "stdout",
     "output_type": "stream",
     "text": [
      "9\n",
      "1\n"
     ]
    }
   ],
   "source": [
    "def max_min(colecao):\n",
    "    maior = max(colecao)\n",
    "    menor = min(colecao)\n",
    "    return maior, menor\n",
    "\n",
    "numeros = [3, 1, 4, 1, 5, 9, 2]\n",
    "\n",
    "maior_num, menor_num = max_min(numeros)\n",
    "print(maior_num)\n",
    "print(menor_num)"
   ]
  },
  {
   "cell_type": "markdown",
   "id": "f13983bc",
   "metadata": {},
   "source": [
    "Todas as variações de desempacotamento de tupla que já estudamos, incluindo o uso do operador **\\*** para agrupar e/ou descartar parte dos valores retornados podem ser empregadas aqui."
   ]
  },
  {
   "cell_type": "markdown",
   "id": "4fc53a97",
   "metadata": {},
   "source": [
    "## Parâmetros com valores padrão\n",
    "\n",
    "Uma primeira forma de trabalhar com a ideia de parâmetros opcionais é atribuir valores padrão para nossos parâmetros. Quando fazemos isso, quando a função for chamada, o parâmetro pode **ou** não ser passado. Caso ele não seja passado, é adotado o valor padrão.\n",
    "\n",
    "Devemos primeiro colocar os parâmetros \"comuns\" (conhecidos como _argumentos posicionais_) para depois colocar os argumentos com valor padrão. Imagine, por exemplo, uma função que padroniza _strings_ jogando todo seu conteúdo para upper ou lower. Podemos implementá-la da seguinte maneira:"
   ]
  },
  {
   "cell_type": "code",
   "execution_count": 5,
   "id": "5bb5b72a",
   "metadata": {
    "ExecuteTime": {
     "end_time": "2022-10-08T17:55:34.088570Z",
     "start_time": "2022-10-08T17:55:34.079186Z"
    }
   },
   "outputs": [
    {
     "name": "stdout",
     "output_type": "stream",
     "text": [
      "sem passar o segundo argumento\n",
      "passando segundo argumento true\n",
      "PASSANDO SEGUNDO ARGUMENTO FALSE\n"
     ]
    }
   ],
   "source": [
    "def padroniza_string(texto, lower=True):\n",
    "    if lower:\n",
    "        return texto.lower()\n",
    "    else:\n",
    "        return texto.upper()\n",
    "\n",
    "print(padroniza_string('Sem passar o SEGUNDO argumento'))\n",
    "print(padroniza_string('Passando SEGUNDO argumento True', lower=True))\n",
    "print(padroniza_string('Passando SEGUNDO argumento False', lower=False))"
   ]
  },
  {
   "cell_type": "markdown",
   "id": "b63d0dac",
   "metadata": {},
   "source": [
    "## Funções com quantidade variável de parâmetros\n",
    "\n",
    "Talvez você já tenha notado que o _print_ é uma função. Se não notou, esse é um bom momento para pensar a respeito. Nós sempre usamos com parênteses, nós passamos informações dentro dos parênteses (os dados a serem impressos) e ele faz um monte de coisa automaticamente: converte todos os dados passados para _string_, concatena todas as _strings_ com um espaço entre elas e as escreve na tela.\n",
    "\n",
    "Algo que o _print_ tem que as nossas funções não tinham é a capacidade de receber uma quantidade variável de parâmetros. Nós podemos passar 0 dados (e, neste caso, ele apenas pulará uma linha), 1 dado, 2 dados, 3 dados... Quantos dados quisermos e ele funcionará para todos esses casos. Se temos que declarar todos os parâmetros, como fazer para que múltiplos dados possam ser passados?"
   ]
  },
  {
   "cell_type": "code",
   "execution_count": null,
   "id": "56471296",
   "metadata": {},
   "outputs": [],
   "source": [
    "print()"
   ]
  },
  {
   "cell_type": "markdown",
   "id": "1c4a24c3",
   "metadata": {},
   "source": [
    "### Agrupando parâmetros\n",
    "\n",
    "A solução é utilizar o operador **\\***.  Ao colocarmos o **\\*** ao lado do nome de um parâmetro na definição da função, estamos dizendo que aquele argumento será uma coleção. Mais especificamente, uma tupla. Porém, o usuário não irá passar uma tupla. Ele irá passar quantos argumentos ele quiser, separados por vírgula, e o Python automaticamente criará uma tupla.\n",
    "\n",
    "O exemplo abaixo cria uma função de somatório que pode receber uma quantidade arbitrária de números."
   ]
  },
  {
   "cell_type": "code",
   "execution_count": 8,
   "id": "5f2d4b84",
   "metadata": {
    "ExecuteTime": {
     "end_time": "2022-10-08T17:56:13.593685Z",
     "start_time": "2022-10-08T17:56:13.572095Z"
    }
   },
   "outputs": [
    {
     "name": "stdout",
     "output_type": "stream",
     "text": [
      "(5, 3, 1)\n",
      "<class 'tuple'>\n",
      "(2, 4, 6, 8, 10)\n",
      "<class 'tuple'>\n",
      "(1, 2, 3, 4, 5, 6, 7, 8, 9, 10)\n",
      "<class 'tuple'>\n",
      "9 30 55\n"
     ]
    }
   ],
   "source": [
    "def somatorio(*numeros):\n",
    "    # remova o símbolo de comentário das linhas abaixo para entender melhor o parâmetro\n",
    "    print (numeros)\n",
    "    print(type(numeros))\n",
    "    soma = 0\n",
    "    for n in numeros:\n",
    "        soma = soma + n\n",
    "    return soma\n",
    "\n",
    "s1 = somatorio(5, 3, 1)\n",
    "s2 = somatorio(2, 4, 6, 8, 10)\n",
    "s3 = somatorio(1, 2, 3, 4, 5, 6, 7, 8, 9, 10)\n",
    "print(s1, s2, s3)"
   ]
  },
  {
   "cell_type": "markdown",
   "id": "16f2a804",
   "metadata": {},
   "source": [
    "### Expandindo uma coleção\n",
    "\n",
    "O exemplo acima funciona muito bem quando o usuário da função possui vários dados avulsos, pois ele os agrupa em uma coleção. Mas o que acontece quando os dados já estão agrupados?"
   ]
  },
  {
   "cell_type": "code",
   "execution_count": 4,
   "id": "2e3c2cdb",
   "metadata": {},
   "outputs": [
    {
     "name": "stdout",
     "output_type": "stream",
     "text": [
      "([1, 2, 3, 4, 5],)\n",
      "<class 'tuple'>\n"
     ]
    },
    {
     "ename": "TypeError",
     "evalue": "unsupported operand type(s) for +: 'int' and 'list'",
     "output_type": "error",
     "traceback": [
      "\u001b[1;31m---------------------------------------------------------------------------\u001b[0m",
      "\u001b[1;31mTypeError\u001b[0m                                 Traceback (most recent call last)",
      "\u001b[1;32m~\\AppData\\Local\\Temp\\ipykernel_57720\\3339741977.py\u001b[0m in \u001b[0;36m<module>\u001b[1;34m\u001b[0m\n\u001b[0;32m      8\u001b[0m \u001b[1;33m\u001b[0m\u001b[0m\n\u001b[0;32m      9\u001b[0m \u001b[0mlista\u001b[0m \u001b[1;33m=\u001b[0m \u001b[1;33m[\u001b[0m\u001b[1;36m1\u001b[0m\u001b[1;33m,\u001b[0m \u001b[1;36m2\u001b[0m\u001b[1;33m,\u001b[0m \u001b[1;36m3\u001b[0m\u001b[1;33m,\u001b[0m \u001b[1;36m4\u001b[0m\u001b[1;33m,\u001b[0m \u001b[1;36m5\u001b[0m\u001b[1;33m]\u001b[0m\u001b[1;33m\u001b[0m\u001b[1;33m\u001b[0m\u001b[0m\n\u001b[1;32m---> 10\u001b[1;33m \u001b[0ms\u001b[0m \u001b[1;33m=\u001b[0m \u001b[0msomatorio\u001b[0m\u001b[1;33m(\u001b[0m\u001b[0mlista\u001b[0m\u001b[1;33m)\u001b[0m\u001b[1;33m\u001b[0m\u001b[1;33m\u001b[0m\u001b[0m\n\u001b[0m\u001b[0;32m     11\u001b[0m \u001b[0mprint\u001b[0m\u001b[1;33m(\u001b[0m\u001b[0ms\u001b[0m\u001b[1;33m)\u001b[0m\u001b[1;33m\u001b[0m\u001b[1;33m\u001b[0m\u001b[0m\n",
      "\u001b[1;32m~\\AppData\\Local\\Temp\\ipykernel_57720\\3339741977.py\u001b[0m in \u001b[0;36msomatorio\u001b[1;34m(*numeros)\u001b[0m\n\u001b[0;32m      4\u001b[0m     \u001b[0msoma\u001b[0m \u001b[1;33m=\u001b[0m \u001b[1;36m0\u001b[0m\u001b[1;33m\u001b[0m\u001b[1;33m\u001b[0m\u001b[0m\n\u001b[0;32m      5\u001b[0m     \u001b[1;32mfor\u001b[0m \u001b[0mn\u001b[0m \u001b[1;32min\u001b[0m \u001b[0mnumeros\u001b[0m\u001b[1;33m:\u001b[0m\u001b[1;33m\u001b[0m\u001b[1;33m\u001b[0m\u001b[0m\n\u001b[1;32m----> 6\u001b[1;33m         \u001b[0msoma\u001b[0m \u001b[1;33m=\u001b[0m \u001b[0msoma\u001b[0m \u001b[1;33m+\u001b[0m \u001b[0mn\u001b[0m\u001b[1;33m\u001b[0m\u001b[1;33m\u001b[0m\u001b[0m\n\u001b[0m\u001b[0;32m      7\u001b[0m     \u001b[1;32mreturn\u001b[0m \u001b[0msoma\u001b[0m\u001b[1;33m\u001b[0m\u001b[1;33m\u001b[0m\u001b[0m\n\u001b[0;32m      8\u001b[0m \u001b[1;33m\u001b[0m\u001b[0m\n",
      "\u001b[1;31mTypeError\u001b[0m: unsupported operand type(s) for +: 'int' and 'list'"
     ]
    }
   ],
   "source": [
    "def somatorio(*numeros):\n",
    "    print(numeros)\n",
    "    print(type(numeros))\n",
    "    soma = 0\n",
    "    for n in numeros:\n",
    "        soma = soma + n\n",
    "    return soma\n",
    "\n",
    "lista = [1, 2, 3, 4, 5]\n",
    "s = somatorio(lista)\n",
    "print(s)"
   ]
  },
  {
   "cell_type": "markdown",
   "id": "97a84074",
   "metadata": {
    "ExecuteTime": {
     "end_time": "2022-10-08T17:56:46.044495Z",
     "start_time": "2022-10-08T17:56:46.031554Z"
    }
   },
   "source": [
    "Note que o programa dará erro, pois como os _print_ dentro da função ilustram, foi criada uma tupla, e na primeira posição da tupla foi armazenada a lista. Isso não funciona com a lógica que projetamos.\n",
    "\n",
    "Para casos assim, utilizaremos o operador **\\*** na chamada da função também. Na definição, o operador **\\*** indica que devemos agrupar itens avulsos em uma coleção. Na chamada, ele indica que uma coleção deve ser expandida em itens avulsos."
   ]
  },
  {
   "cell_type": "code",
   "execution_count": 5,
   "id": "4a164fd7",
   "metadata": {
    "ExecuteTime": {
     "end_time": "2022-10-08T17:57:42.460741Z",
     "start_time": "2022-10-08T17:57:42.435527Z"
    }
   },
   "outputs": [
    {
     "name": "stdout",
     "output_type": "stream",
     "text": [
      "(1, 2, 3, 4, 5)\n",
      "<class 'tuple'>\n",
      "15\n"
     ]
    }
   ],
   "source": [
    "def somatorio(*numeros):\n",
    "    print (numeros)\n",
    "    print(type(numeros))\n",
    "    soma = 0\n",
    "    for n in numeros:\n",
    "        soma = soma + n\n",
    "    return soma\n",
    "\n",
    "lista = [1, 2, 3, 4, 5]\n",
    "s = somatorio(*lista)\n",
    "print(s)"
   ]
  },
  {
   "cell_type": "markdown",
   "id": "e866c567",
   "metadata": {},
   "source": [
    "No programa acima, a lista é expandida em 5 valores avulsos, e em seguida a função agrupa os 5 itens em uma tupla chamada \"numeros\". "
   ]
  },
  {
   "cell_type": "markdown",
   "id": "4cc37e98",
   "metadata": {},
   "source": [
    "## Parâmetros opcionais\n",
    "\n",
    "Outra possibilidade são funções com parâmetros opcionais. Note que isso é diferente de termos quantidade variável de parâmetros. \n",
    "\n",
    "No caso da quantidade variável, normalmente são diversos parâmetros com a mesma utilidade (números a serem somados, valores a serem exibidos, etc). \n",
    "\n",
    "Já os parâmetros opcionais são informações distintas que podem ou não ser passadas para a função. Você pode ou não passá-los, e sempre deve indicar o seu nome ao passá-los.\n",
    "\n",
    "Já estudamos uma forma de parâmetros opcionais utilizando valores padrão. Mas para funções com uma **grande** quantidade de parâmetros opcionais, existe outra forma utilizando dicionários, apelidada como `**kwargs`."
   ]
  },
  {
   "cell_type": "markdown",
   "id": "0d37cf6e",
   "metadata": {},
   "source": [
    "### Criando **kwargs\n",
    "\n",
    "Para criar parâmetros opcionais, usaremos **\\*\\***, e os parâmetros passados serão agrupados em um dicionário: o nome do parâmetro será uma chave, e o valor será... o valor.\n",
    "\n",
    "O exemplo abaixo simula o cadastro de usuários em uma base de dados. Um usuário pode fornecer seu nome, seu CPF ou ambos."
   ]
  },
  {
   "cell_type": "code",
   "execution_count": 11,
   "id": "2b00dacc",
   "metadata": {},
   "outputs": [
    {
     "name": "stdout",
     "output_type": "stream",
     "text": [
      "<class 'dict'>\n"
     ]
    }
   ],
   "source": [
    "def cadastro(**dicio):\n",
    "    print(type(dicio))\n",
    "\n",
    "d = {'a':'b'}    \n",
    "cadastro(dicio = d)    "
   ]
  },
  {
   "cell_type": "code",
   "execution_count": 5,
   "id": "7fb14731",
   "metadata": {},
   "outputs": [],
   "source": [
    "def cadastro(**usuario):\n",
    "    if not 'nome' in usuario and not 'cpf' in usuario:\n",
    "        print('Nenhum dado encontrado!')\n",
    "    else:\n",
    "        if 'nome' in usuario:\n",
    "            print(usuario['nome'])\n",
    "        if 'cpf' in usuario:\n",
    "            print(usuario['cpf'])\n",
    "        print('Registro completo: ', usuario)\n",
    "        print('-----')\n"
   ]
  },
  {
   "cell_type": "code",
   "execution_count": 6,
   "id": "1c7d8f95",
   "metadata": {},
   "outputs": [
    {
     "name": "stdout",
     "output_type": "stream",
     "text": [
      "Nenhum dado encontrado!\n"
     ]
    }
   ],
   "source": [
    "cadastro()"
   ]
  },
  {
   "cell_type": "code",
   "execution_count": 2,
   "id": "2131e5c4",
   "metadata": {},
   "outputs": [
    {
     "name": "stdout",
     "output_type": "stream",
     "text": [
      "João\n",
      "123456789\n",
      "Registro completo:  {'nome': 'João', 'cpf': 123456789}\n",
      "-----\n",
      "José\n",
      "Registro completo:  {'nome': 'José'}\n",
      "-----\n",
      "987654321\n",
      "Registro completo:  {'cpf': 987654321}\n",
      "-----\n",
      "Nenhum dado encontrado!\n"
     ]
    }
   ],
   "source": [
    "cadastro(nome = 'João', cpf = 123456789) # tem ambos\n",
    "cadastro(nome = 'José') # tem apenas nome\n",
    "cadastro(cpf = 987654321) # tem apenas cpf\n",
    "cadastro(rg = 192837465) # não tem nome nem cpf"
   ]
  },
  {
   "cell_type": "code",
   "execution_count": null,
   "id": "9ac4cfa4",
   "metadata": {},
   "outputs": [],
   "source": []
  },
  {
   "cell_type": "markdown",
   "id": "4269d0d8",
   "metadata": {},
   "source": [
    "### Expandindo um dicionário\n",
    "\n",
    "Analogamente ao caso dos parâmetros múltiplos, é possível que o usuário da função já tenha os dados organizados em um dicionário. Neste caso, basta usar **\\*\\*** na chamada da função para expandir o dicionário em vários parâmetros opcionais:"
   ]
  },
  {
   "cell_type": "code",
   "execution_count": 8,
   "id": "b73daf91",
   "metadata": {
    "ExecuteTime": {
     "end_time": "2022-10-08T17:59:05.917594Z",
     "start_time": "2022-10-08T17:59:05.893641Z"
    }
   },
   "outputs": [
    {
     "name": "stdout",
     "output_type": "stream",
     "text": [
      "Maria\n",
      "2468135790\n",
      "-----\n"
     ]
    }
   ],
   "source": [
    "maria = {'nome':'Maria', 'cpf':2468135790}\n",
    "cadastro(**maria)"
   ]
  },
  {
   "cell_type": "markdown",
   "id": "8bf4406a",
   "metadata": {},
   "source": [
    "### Função com args e kwargs"
   ]
  },
  {
   "cell_type": "code",
   "execution_count": 20,
   "id": "cf100783",
   "metadata": {},
   "outputs": [
    {
     "name": "stdout",
     "output_type": "stream",
     "text": [
      "Parâmetro 1: 1\n",
      "Parâmetro 2: a\n",
      "*args: ('arg1', 'arg2', 2)\n",
      "Argumento nomeado: KW\n",
      "**kwargs: {'banana': 'B', 'bananas': 'A'}\n"
     ]
    }
   ],
   "source": [
    "def funcao(arg_1, arg_2, *args, arg_kw, **kwargs):\n",
    "    print(f'Parâmetro 1: {arg_1}')\n",
    "    print(f'Parâmetro 2: {arg_2}')\n",
    "    print(f'*args: {args}')\n",
    "    print(f'Argumento nomeado: {arg_kw}')\n",
    "    print(f'**kwargs: {kwargs}')\n",
    "\n",
    "# Chamada da Função\n",
    "funcao(\n",
    "    1,          # Parâmetro 1\n",
    "    'a',        # Parâmetro 2\n",
    "    'arg1',     # *args\n",
    "    'arg2',     # *args\n",
    "    2,          # *args\n",
    "    arg_kw='KW',# arg_kw\n",
    "    banana='B', # **kwargs\n",
    "    bananas='A' # **kwargs\n",
    ")"
   ]
  },
  {
   "cell_type": "markdown",
   "id": "53bbba81",
   "metadata": {},
   "source": [
    "> **Ordem dos parâmetros**\n",
    ">\n",
    "> Caso sua função vá combinar múltiplos tipos de parâmetro, sempre siga a seguinte ordem: argumentos posicionais (os comuns), argumentos com asterisco (tupla), argumentos com valor padrão e argumentos com dois asteriscos (dicionário). Por exemplo, na função abaixo:\n",
    "> \n",
    "> `def funcao(a, b, *c, d=0, e=1, **f)`\n",
    "> \n",
    "> Quando ela for chamada, o Python fará o seguinte: \n",
    "> * os primeiros 2 valores serão atribuídos, respectivamente, para *a* e *b*.\n",
    "> * os próximos valores, independentes de quantos sejam, serão incluídos na tupla *c*.\n",
    "> * se os valores *d* e/ou *e* forem passados explicitamente pelo nome, os valores passados serão adotados, senão, serão adotados os valores padrão.\n",
    "> * quaisquer outros valores passados por nome serão incluídos no dicionário *f*.\n"
   ]
  },
  {
   "cell_type": "markdown",
   "id": "2226ef9d",
   "metadata": {},
   "source": [
    "1. Crie uma função que receba dados de um funcionario e de seus dependentes, caso ele tenha."
   ]
  },
  {
   "cell_type": "code",
   "execution_count": 1,
   "id": "e65081c5",
   "metadata": {},
   "outputs": [
    {
     "name": "stdout",
     "output_type": "stream",
     "text": [
      "id: 1\n",
      "dados: ('admin', 'swordfish')\n",
      "nome: user\n",
      "dependentes {'dependente_id': 1, 'filiacao': 'conjuge'}\n"
     ]
    }
   ],
   "source": [
    "def funcionario(funcionario_id, *dados, nome='admin', **dependentes ):\n",
    "    print('id:', funcionario_id)\n",
    "    print('dados:', dados)\n",
    "    print('nome:', nome)\n",
    "    print('dependentes', dependentes)\n",
    "    \n",
    "funcionario_id = 1\n",
    "username = 'admin'\n",
    "password = 'swordfish'\n",
    "nome = 'administrador'\n",
    "\n",
    "dependente = {'id':1, 'filiacao':'conjuge'}\n",
    "\n",
    "funcionario(funcionario_id, \n",
    "            username, \n",
    "            password, \n",
    "            nome='user', \n",
    "            dependente_id=1, \n",
    "            filiacao = 'conjuge')"
   ]
  },
  {
   "cell_type": "code",
   "execution_count": 3,
   "id": "16e84f14",
   "metadata": {},
   "outputs": [
    {
     "name": "stdout",
     "output_type": "stream",
     "text": [
      "id: 1\n",
      "dados: ('admin', 'swordfish')\n",
      "nome: admin\n",
      "dependentes {}\n"
     ]
    }
   ],
   "source": [
    "def funcionario(funcionario_id, *dados, nome='admin', **dependentes ):\n",
    "    print('id:', funcionario_id)\n",
    "    print('dados:', dados)\n",
    "    print('nome:', nome)\n",
    "    print('dependentes', dependentes)\n",
    "    \n",
    "funcionario_id = 1\n",
    "username = 'admin'\n",
    "password = 'swordfish'\n",
    "nome = 'administrador'\n",
    "\n",
    "dependente = {'id':1, 'filiacao':'conjuge'}\n",
    "\n",
    "funcionario(funcionario_id, \n",
    "            username, \n",
    "            password, \n",
    "            nome='user')"
   ]
  },
  {
   "cell_type": "markdown",
   "id": "d0b21c62",
   "metadata": {},
   "source": [
    "2. Crie uma função que recebe uma quantidade variável de argumentos numéricos e retorna a quantidade de números enviados e a soma deles;"
   ]
  },
  {
   "cell_type": "code",
   "execution_count": 11,
   "id": "a78a8346",
   "metadata": {
    "ExecuteTime": {
     "end_time": "2022-10-11T00:47:41.985535Z",
     "start_time": "2022-10-11T00:47:41.967386Z"
    }
   },
   "outputs": [
    {
     "name": "stdout",
     "output_type": "stream",
     "text": [
      "3 120\n",
      "2 180\n"
     ]
    }
   ],
   "source": [
    "# Exercício 2\n",
    "\n",
    "def func(*args):\n",
    "    cont = 0\n",
    "    soma = 0\n",
    "    for i in args:\n",
    "        cont += 1\n",
    "        soma += i\n",
    "        \n",
    "    return cont, soma\n",
    "        \n",
    "quantidade1, soma1 = func(20, 40, 60)\n",
    "\n",
    "quantidade2, soma2 = func(80, 100)\n",
    "\n",
    "print(quantidade1, soma1)\n",
    "print(quantidade2, soma2)"
   ]
  },
  {
   "cell_type": "markdown",
   "id": "395643d9",
   "metadata": {},
   "source": [
    "3. Crie uma função que recebe nome e idade, porém a idade *default* deve ser 99;"
   ]
  },
  {
   "cell_type": "code",
   "execution_count": 4,
   "id": "065b7973",
   "metadata": {},
   "outputs": [
    {
     "name": "stdout",
     "output_type": "stream",
     "text": [
      "Nome: João Idade: 23\n",
      "Nome: Vanessa Idade: 99\n"
     ]
    }
   ],
   "source": [
    "# Exercicio 3\n",
    "\n",
    "def nomeIdade(nome, idade=99):\n",
    "    print(\"Nome:\", nome, \"Idade:\", idade)\n",
    "\n",
    "nomeIdade(\"João\", 23)\n",
    "nomeIdade(\"Vanessa\")"
   ]
  },
  {
   "cell_type": "markdown",
   "id": "3458b6a7",
   "metadata": {},
   "source": [
    "\n",
    "4. Crie uma função externa que deve calcular receber uma quantidade variável números e chamar uma função interna que deve executar a soma destes números, por fim, a função externa retorna esta soma; \n",
    "\n"
   ]
  },
  {
   "cell_type": "code",
   "execution_count": 6,
   "id": "69791d57",
   "metadata": {},
   "outputs": [
    {
     "name": "stdout",
     "output_type": "stream",
     "text": [
      "100\n"
     ]
    }
   ],
   "source": [
    "# Exercicio 3\n",
    "\n",
    "# Função externa\n",
    "def funcExterna(*args):\n",
    "\n",
    "    # Função interna\n",
    "    def adicao(a, b):\n",
    "        return a + b\n",
    "    \n",
    "    soma = 0\n",
    "    for i in args:\n",
    "        # Chamando a função interna dentro da função externa\n",
    "        soma = adicao(soma, i)\n",
    "\n",
    "    return soma\n",
    "\n",
    "resultado = funcExterna(5, 10, 12, 17, 44, 12)\n",
    "print(resultado)"
   ]
  },
  {
   "cell_type": "markdown",
   "id": "59231f6e",
   "metadata": {
    "ExecuteTime": {
     "end_time": "2022-10-11T00:48:09.805962Z",
     "start_time": "2022-10-11T00:48:09.799440Z"
    }
   },
   "source": [
    "5. Renomeie a seguinte função e execute ela pelo nome novo:\n",
    "```py\n",
    "def estudante(nome, idade):\n",
    "    print(nome, idade)\n",
    "```"
   ]
  },
  {
   "cell_type": "code",
   "execution_count": 7,
   "id": "9d954edc",
   "metadata": {
    "ExecuteTime": {
     "end_time": "2022-10-11T00:52:59.324260Z",
     "start_time": "2022-10-11T00:52:59.311643Z"
    }
   },
   "outputs": [
    {
     "name": "stdout",
     "output_type": "stream",
     "text": [
      "Julia 34\n",
      "Julia 34\n"
     ]
    }
   ],
   "source": [
    "# Exercicio 4\n",
    "\n",
    "def estudante(nome, idade):\n",
    "    print(nome, idade)\n",
    "\n",
    "# Usando o nome original\n",
    "estudante('Julia', 34)\n",
    "\n",
    "novaFuncao = estudante\n",
    "\n",
    "# usando o novo nome\n",
    "novaFuncao('Julia', 34)"
   ]
  },
  {
   "cell_type": "markdown",
   "id": "18aabb18",
   "metadata": {},
   "source": [
    "## Desafio"
   ]
  },
  {
   "cell_type": "markdown",
   "id": "3f850bfa",
   "metadata": {},
   "source": [
    "### Sistema de cadastro\n",
    "Faça um programa simples para realizar um cadastro de pessoas recebendo dados via `standard input`. O programa deve:\n",
    "```\n",
    "    - Cadastrar pessoas\n",
    "    - Consultar pessoas pelo CPF\n",
    "    - Atualizar cadastro\n",
    "    - Excluir cadastro\n",
    "\n",
    "Cada registro deve conter os seguintes dados pessoas:\n",
    "    - CPF (único para cada usuário)\n",
    "    - Nome completo\n",
    "    - Telefone\n",
    "    - Endereço\n",
    "```\n",
    "\n",
    "### Menu principal\n",
    "```\n",
    "Crie uma tela de boas-vindas com um menu informando ao usuário as opções do programa:\n",
    "Boas vindas ao nosso sistema:\n",
    "\n",
    "\n",
    "1 - Inserir usuário\n",
    "2 - Excluir usuário\n",
    "3 - Atualizar usuário\n",
    "4 - Informações de um usuário\n",
    "5 - Informações de todos os usuários\n",
    "6 - Sair\n",
    "```"
   ]
  },
  {
   "cell_type": "code",
   "execution_count": null,
   "id": "59ecfdb9",
   "metadata": {},
   "outputs": [],
   "source": []
  }
 ],
 "metadata": {
  "kernelspec": {
   "display_name": "Python 3 (ipykernel)",
   "language": "python",
   "name": "python3"
  },
  "language_info": {
   "codemirror_mode": {
    "name": "ipython",
    "version": 3
   },
   "file_extension": ".py",
   "mimetype": "text/x-python",
   "name": "python",
   "nbconvert_exporter": "python",
   "pygments_lexer": "ipython3",
   "version": "3.10.11"
  },
  "latex_envs": {
   "LaTeX_envs_menu_present": true,
   "autoclose": false,
   "autocomplete": true,
   "bibliofile": "biblio.bib",
   "cite_by": "apalike",
   "current_citInitial": 1,
   "eqLabelWithNumbers": true,
   "eqNumInitial": 1,
   "hotkeys": {
    "equation": "Ctrl-E",
    "itemize": "Ctrl-I"
   },
   "labels_anchors": false,
   "latex_user_defs": false,
   "report_style_numbering": false,
   "user_envs_cfg": false
  },
  "toc": {
   "base_numbering": 1,
   "nav_menu": {},
   "number_sections": true,
   "sideBar": true,
   "skip_h1_title": false,
   "title_cell": "Table of Contents",
   "title_sidebar": "Contents",
   "toc_cell": false,
   "toc_position": {},
   "toc_section_display": true,
   "toc_window_display": false
  },
  "varInspector": {
   "cols": {
    "lenName": 16,
    "lenType": 16,
    "lenVar": 40
   },
   "kernels_config": {
    "python": {
     "delete_cmd_postfix": "",
     "delete_cmd_prefix": "del ",
     "library": "var_list.py",
     "varRefreshCmd": "print(var_dic_list())"
    },
    "r": {
     "delete_cmd_postfix": ") ",
     "delete_cmd_prefix": "rm(",
     "library": "var_list.r",
     "varRefreshCmd": "cat(var_dic_list()) "
    }
   },
   "types_to_exclude": [
    "module",
    "function",
    "builtin_function_or_method",
    "instance",
    "_Feature"
   ],
   "window_display": false
  }
 },
 "nbformat": 4,
 "nbformat_minor": 5
}
