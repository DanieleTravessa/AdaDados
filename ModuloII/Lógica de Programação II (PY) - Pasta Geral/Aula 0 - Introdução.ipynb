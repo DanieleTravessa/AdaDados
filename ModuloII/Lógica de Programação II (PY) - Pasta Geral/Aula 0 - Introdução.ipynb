{
 "cells": [
  {
   "cell_type": "markdown",
   "id": "60ad5dc4",
   "metadata": {},
   "source": [
    "# Apresentação Geral\n",
    "\n",
    "## Professores\n",
    "\n",
    "<b>Professor Titular:</b> Alex Lima\n",
    "<br>\n",
    "\n",
    "LinkedIn: https://www.linkedin.com/in/alexcavalera/"
   ]
  },
  {
   "cell_type": "markdown",
   "id": "7967d8d8",
   "metadata": {},
   "source": [
    "## O Curso\n",
    "\n",
    "\n",
    "<b>Ementa do Curso:</b>\n",
    "\n",
    "* <b>Aula 1: Tuplas</b>\n",
    "    * Veremos uma breve revisão de listas;\n",
    "    * Veremos os conceitos das Tuplas;\n",
    "    * Veremos algumas vantagens e aplicações das Tuplas;\n",
    "    * Veremos algumas facilidades para iterar com Tuplas.\n",
    "    \n",
    "* <b>Aula 2: Dicionários</b>\n",
    "    * Veremos como criar, inserir e extrair informações e iterar sobre um dicionário;\n",
    "    * Veremos alguns métodos bastante úteis de dicionários;\n",
    "    * Veremos como copiar e manipular um dicionário.\n",
    "    \n",
    "* <b>Aula 3: Compreensão de Listas</b>\n",
    "    * Veremos o *list comprehension* contendo apenas um *loop*;\n",
    "    * Veremos o *list comprehension* contendo condicionais;\n",
    "    * Veremos o *list comprehension* alinhado com mais de um *loop*;\n",
    "    * Veremos a compreensão de dicionários;\n",
    "    * Veremos expressões geradoras;\n",
    "    * Veremos funções geradoras.\n",
    "    \n",
    "* <b>Aula 4: Parâmetros de Funções</b>\n",
    "    * Veremos funções com retorno múltiplo;\n",
    "    * Veremos funções com valores padrões nos parâmetros;\n",
    "    * Veremos funções com uma quantidade variável de parâmetros;\n",
    "    * Veremos funções com parâmetros opcionais.\n",
    "    \n",
    "* <b>Aula 5: Conceitos de Programação Funcional</b>\n",
    "    * Veremos os paradigmas de programação;\n",
    "    * Veremos programação funcional;\n",
    "    * Veremos imutabilidade;\n",
    "    * Veremos Recursão;\n",
    "    * Veremos funções de alta ordem.\n",
    "    \n",
    "* <b>Aula 6: Tratamento de Excessões</b>\n",
    "    * Veremos como identificar e tratar excessões;\n",
    "    * Veremos como levantar as excessões;\n",
    "    * Veremos como criar novas excessões.\n",
    "    \n",
    "* <b>Aula 7: Arquivos</b>\n",
    "    * Veremso como abrir, fechar e ler arquivos;\n",
    "    * Veremos como utilizar o gerenciador de contexto;\n",
    "    * Veremos como trabalhar com arquivos *CSV*;\n",
    "    * Veremos como trabalhar com arquivos *JSON*."
   ]
  },
  {
   "cell_type": "markdown",
   "id": "cb2a0153",
   "metadata": {},
   "source": [
    "### Links úteis\n",
    "\n",
    " - Acompanhamento da turma (https://forms.gle/wvAAjcgJkjYoSxk58)\n",
    " - Experiência da turma (https://forms.gle/SvEGCg3ZgHFx5KzR6)"
   ]
  },
  {
   "cell_type": "markdown",
   "id": "fdddfd06",
   "metadata": {},
   "source": [
    "## Avaliações\n",
    "\n",
    "A avaliação deste curso será feita, a princípio, através de um trabalho final a ser entregue até o último dia de aula. Este trabalho será exposto para a turma no meio do curso, quando uma parte relevante do conteúdo já terá sido exposto e o aluno terá a segunda parte do curso para solucionar o trabalho e enviar ao professor.\n",
    "<br>\n",
    "\n",
    "Além disto, temos avaliações por rubrica e por participação (qualitativa) da turma.\n",
    "<br>\n",
    "\n",
    "Lembrando que a quantidade mínima de presenças é obrigatória."
   ]
  },
  {
   "cell_type": "code",
   "execution_count": null,
   "id": "e4b14dda",
   "metadata": {},
   "outputs": [],
   "source": []
  }
 ],
 "metadata": {
  "kernelspec": {
   "display_name": "Python 3 (ipykernel)",
   "language": "python",
   "name": "python3"
  },
  "language_info": {
   "codemirror_mode": {
    "name": "ipython",
    "version": 3
   },
   "file_extension": ".py",
   "mimetype": "text/x-python",
   "name": "python",
   "nbconvert_exporter": "python",
   "pygments_lexer": "ipython3",
   "version": "3.10.11"
  },
  "latex_envs": {
   "LaTeX_envs_menu_present": true,
   "autoclose": false,
   "autocomplete": true,
   "bibliofile": "biblio.bib",
   "cite_by": "apalike",
   "current_citInitial": 1,
   "eqLabelWithNumbers": true,
   "eqNumInitial": 1,
   "hotkeys": {
    "equation": "Ctrl-E",
    "itemize": "Ctrl-I"
   },
   "labels_anchors": false,
   "latex_user_defs": false,
   "report_style_numbering": false,
   "user_envs_cfg": false
  },
  "toc": {
   "base_numbering": 1,
   "nav_menu": {},
   "number_sections": true,
   "sideBar": true,
   "skip_h1_title": false,
   "title_cell": "Table of Contents",
   "title_sidebar": "Contents",
   "toc_cell": false,
   "toc_position": {},
   "toc_section_display": true,
   "toc_window_display": false
  },
  "varInspector": {
   "cols": {
    "lenName": 16,
    "lenType": 16,
    "lenVar": 40
   },
   "kernels_config": {
    "python": {
     "delete_cmd_postfix": "",
     "delete_cmd_prefix": "del ",
     "library": "var_list.py",
     "varRefreshCmd": "print(var_dic_list())"
    },
    "r": {
     "delete_cmd_postfix": ") ",
     "delete_cmd_prefix": "rm(",
     "library": "var_list.r",
     "varRefreshCmd": "cat(var_dic_list()) "
    }
   },
   "types_to_exclude": [
    "module",
    "function",
    "builtin_function_or_method",
    "instance",
    "_Feature"
   ],
   "window_display": false
  }
 },
 "nbformat": 4,
 "nbformat_minor": 5
}
