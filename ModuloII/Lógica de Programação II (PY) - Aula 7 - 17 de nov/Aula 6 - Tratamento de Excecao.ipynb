{
 "cells": [
  {
   "cell_type": "markdown",
   "id": "9248b19c",
   "metadata": {},
   "source": [
    "# Tratamento de Exceção"
   ]
  },
  {
   "cell_type": "code",
   "execution_count": null,
   "id": "82cfa288",
   "metadata": {},
   "outputs": [],
   "source": []
  },
  {
   "cell_type": "markdown",
   "id": "7d813763",
   "metadata": {},
   "source": [
    "## Tratando uma exceção\n",
    "\n",
    "### try/except\n",
    "\n"
   ]
  },
  {
   "cell_type": "code",
   "execution_count": null,
   "id": "d2455b0f",
   "metadata": {},
   "outputs": [],
   "source": []
  },
  {
   "cell_type": "markdown",
   "id": "e6692897",
   "metadata": {},
   "source": [
    "### else"
   ]
  },
  {
   "cell_type": "code",
   "execution_count": null,
   "id": "72ff77b4",
   "metadata": {},
   "outputs": [],
   "source": []
  },
  {
   "cell_type": "markdown",
   "id": "29e0459e",
   "metadata": {},
   "source": [
    "### finally"
   ]
  },
  {
   "cell_type": "code",
   "execution_count": null,
   "id": "78280745",
   "metadata": {},
   "outputs": [],
   "source": []
  },
  {
   "cell_type": "markdown",
   "id": "b3465857",
   "metadata": {},
   "source": [
    "### Exemplo"
   ]
  },
  {
   "cell_type": "markdown",
   "id": "2eaba78d",
   "metadata": {},
   "source": [
    "Vejamos um exemplo mais completo: um bloco `try`/`except` tentará criar um arquivo (não se preocupe com detalhes de como arquivos funcionam - estudaremos isso muito em breve!). Dentro do `try`, teremos um bloco `try`/`except`/`finally`. O `try` tentará escrever algumas operações matemáticas no arquivo, o `except` exibirá uma mensagem caso uma operação seja inválida, e o `finally` garantirá que o arquivo será fechado **independentemente de um erro ter ou não ocorrido**."
   ]
  },
  {
   "cell_type": "code",
   "execution_count": null,
   "id": "e9a33cf0",
   "metadata": {},
   "outputs": [],
   "source": []
  },
  {
   "cell_type": "markdown",
   "id": "6e30e96f",
   "metadata": {},
   "source": [
    "##### Caso 1"
   ]
  },
  {
   "cell_type": "code",
   "execution_count": null,
   "id": "3395cfbf",
   "metadata": {},
   "outputs": [],
   "source": []
  },
  {
   "cell_type": "markdown",
   "id": "8f12a798",
   "metadata": {},
   "source": [
    "##### Caso 2"
   ]
  },
  {
   "cell_type": "code",
   "execution_count": null,
   "id": "2cde2c76",
   "metadata": {},
   "outputs": [],
   "source": []
  },
  {
   "cell_type": "markdown",
   "id": "b05c2a01",
   "metadata": {},
   "source": [
    "##### Case 3"
   ]
  },
  {
   "cell_type": "code",
   "execution_count": null,
   "id": "47c59fbe",
   "metadata": {},
   "outputs": [],
   "source": []
  },
  {
   "cell_type": "markdown",
   "id": "bf7c3dc9",
   "metadata": {},
   "source": [
    "## Levantando exceções"
   ]
  },
  {
   "cell_type": "code",
   "execution_count": null,
   "id": "b77839aa",
   "metadata": {},
   "outputs": [],
   "source": []
  },
  {
   "cell_type": "code",
   "execution_count": null,
   "id": "4c6ba108",
   "metadata": {},
   "outputs": [],
   "source": []
  },
  {
   "cell_type": "markdown",
   "id": "cf0f6d21",
   "metadata": {},
   "source": [
    "### Atividade"
   ]
  },
  {
   "cell_type": "markdown",
   "id": "7d32ec4a",
   "metadata": {},
   "source": [
    "Faça uma calculadora que receba expressões aritméticas simples. A expressão deve conter dois operandos com um operador entre eles, de acordo com o exemplo:"
   ]
  },
  {
   "cell_type": "markdown",
   "id": "8281a578",
   "metadata": {},
   "source": [
    "```py\n",
    "Entrada: 10 + 20\n",
    "Saída: 30\n",
    "\n",
    "Entrada: 2 ^ 4\n",
    "Saída: 16\n",
    "```"
   ]
  },
  {
   "cell_type": "markdown",
   "id": "5beff850",
   "metadata": {},
   "source": [
    "Faça o tratamento de erros para quando a entrada não estiver no formato adequado, os dados de entrada não forem dados válidos ou o operador for inválido. Ao final, mostre a saída da operação."
   ]
  },
  {
   "cell_type": "code",
   "execution_count": null,
   "id": "7c9c1b56",
   "metadata": {},
   "outputs": [],
   "source": []
  }
 ],
 "metadata": {
  "kernelspec": {
   "display_name": "Python 3 (ipykernel)",
   "language": "python",
   "name": "python3"
  },
  "language_info": {
   "codemirror_mode": {
    "name": "ipython",
    "version": 3
   },
   "file_extension": ".py",
   "mimetype": "text/x-python",
   "name": "python",
   "nbconvert_exporter": "python",
   "pygments_lexer": "ipython3",
   "version": "3.10.11"
  },
  "latex_envs": {
   "LaTeX_envs_menu_present": true,
   "autoclose": false,
   "autocomplete": true,
   "bibliofile": "biblio.bib",
   "cite_by": "apalike",
   "current_citInitial": 1,
   "eqLabelWithNumbers": true,
   "eqNumInitial": 1,
   "hotkeys": {
    "equation": "Ctrl-E",
    "itemize": "Ctrl-I"
   },
   "labels_anchors": false,
   "latex_user_defs": false,
   "report_style_numbering": false,
   "user_envs_cfg": false
  },
  "toc": {
   "base_numbering": 1,
   "nav_menu": {},
   "number_sections": true,
   "sideBar": true,
   "skip_h1_title": false,
   "title_cell": "Table of Contents",
   "title_sidebar": "Contents",
   "toc_cell": false,
   "toc_position": {},
   "toc_section_display": true,
   "toc_window_display": false
  },
  "varInspector": {
   "cols": {
    "lenName": 16,
    "lenType": 16,
    "lenVar": 40
   },
   "kernels_config": {
    "python": {
     "delete_cmd_postfix": "",
     "delete_cmd_prefix": "del ",
     "library": "var_list.py",
     "varRefreshCmd": "print(var_dic_list())"
    },
    "r": {
     "delete_cmd_postfix": ") ",
     "delete_cmd_prefix": "rm(",
     "library": "var_list.r",
     "varRefreshCmd": "cat(var_dic_list()) "
    }
   },
   "types_to_exclude": [
    "module",
    "function",
    "builtin_function_or_method",
    "instance",
    "_Feature"
   ],
   "window_display": false
  }
 },
 "nbformat": 4,
 "nbformat_minor": 5
}
