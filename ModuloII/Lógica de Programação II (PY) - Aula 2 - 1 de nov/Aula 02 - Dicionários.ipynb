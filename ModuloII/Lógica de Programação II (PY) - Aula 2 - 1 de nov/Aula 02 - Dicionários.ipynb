{
 "cells": [
  {
   "cell_type": "markdown",
   "id": "41118bc5",
   "metadata": {},
   "source": [
    "### 1. Dicionários em Python"
   ]
  },
  {
   "cell_type": "markdown",
   "id": "3f66d354",
   "metadata": {},
   "source": [
    "#### 1.1. Criando um dicionário"
   ]
  },
  {
   "cell_type": "markdown",
   "id": "df025ab4",
   "metadata": {},
   "source": [
    "{chave: valor}\n",
    "- chave: única\n",
    "- valor: int, string, float, list, tupla, dict"
   ]
  },
  {
   "cell_type": "code",
   "execution_count": null,
   "id": "3df68191",
   "metadata": {},
   "outputs": [],
   "source": []
  },
  {
   "cell_type": "markdown",
   "id": "e3c7fb15",
   "metadata": {},
   "source": [
    "#### 1.2. Adicionando elementos em um dicionário"
   ]
  },
  {
   "cell_type": "code",
   "execution_count": null,
   "id": "e3a52711",
   "metadata": {},
   "outputs": [],
   "source": []
  },
  {
   "cell_type": "markdown",
   "id": "d347a289",
   "metadata": {},
   "source": [
    "#### 1.2.1. Adicionar um dicionário para dicionário já existente"
   ]
  },
  {
   "cell_type": "code",
   "execution_count": null,
   "id": "9a8b2d9b",
   "metadata": {},
   "outputs": [],
   "source": []
  },
  {
   "cell_type": "markdown",
   "id": "9ac48839",
   "metadata": {},
   "source": [
    "#### 1.3 Removendo elementos de um dicionário"
   ]
  },
  {
   "cell_type": "code",
   "execution_count": null,
   "id": "b0529bca",
   "metadata": {},
   "outputs": [],
   "source": []
  },
  {
   "cell_type": "markdown",
   "id": "feb407ea",
   "metadata": {},
   "source": [
    "#### 1.4 Percorrendo um dicionário"
   ]
  },
  {
   "cell_type": "code",
   "execution_count": null,
   "id": "a5a78f7f",
   "metadata": {},
   "outputs": [],
   "source": []
  },
  {
   "cell_type": "markdown",
   "id": "04214285",
   "metadata": {},
   "source": [
    "#### 1.5 Testando a existência de uma chave"
   ]
  },
  {
   "cell_type": "code",
   "execution_count": null,
   "id": "e2b1c689",
   "metadata": {},
   "outputs": [],
   "source": []
  },
  {
   "cell_type": "code",
   "execution_count": null,
   "id": "a3ca857e",
   "metadata": {},
   "outputs": [],
   "source": []
  },
  {
   "cell_type": "markdown",
   "id": "e4f60ce1",
   "metadata": {},
   "source": [
    "### Test 01"
   ]
  },
  {
   "cell_type": "markdown",
   "id": "93d32b78",
   "metadata": {},
   "source": [
    "**Cadastro de usuário:**\n",
    "No sistema de uma empresa, uma das principais entidades é a de `usuário`. Crie um dicionário para armazenar os seguintes dados.\n",
    "usuário:\n",
    "- id (<i>int</i>)\n",
    "- username (<i>string</i>)\n",
    "- password (<i>string</i>)\n",
    "- nome (<i>string</i>)\n",
    "- dependente (<i>lista</i>)\n",
    "\n",
    "Dependente:\n",
    "- id (<i>int</i>)\n",
    "- nome (<i>string</i>)\n",
    "    \n",
    "    "
   ]
  },
  {
   "cell_type": "markdown",
   "id": "b0725642",
   "metadata": {},
   "source": [
    "#### Criando a estrutura"
   ]
  },
  {
   "cell_type": "code",
   "execution_count": null,
   "id": "1b8c2119",
   "metadata": {},
   "outputs": [],
   "source": []
  },
  {
   "cell_type": "markdown",
   "id": "880935da",
   "metadata": {},
   "source": [
    "#### Adicionando dependentes"
   ]
  },
  {
   "cell_type": "code",
   "execution_count": null,
   "id": "59a7f5d9",
   "metadata": {},
   "outputs": [],
   "source": []
  },
  {
   "cell_type": "markdown",
   "id": "399ada92",
   "metadata": {},
   "source": [
    "#### Acessando os dados do usuário"
   ]
  },
  {
   "cell_type": "code",
   "execution_count": null,
   "id": "83974222",
   "metadata": {},
   "outputs": [],
   "source": []
  },
  {
   "cell_type": "markdown",
   "id": "8c6ffaa4",
   "metadata": {},
   "source": [
    "#### Acessando dependentes"
   ]
  },
  {
   "cell_type": "code",
   "execution_count": null,
   "id": "96a37759",
   "metadata": {},
   "outputs": [],
   "source": []
  },
  {
   "cell_type": "markdown",
   "id": "f4a6ae77",
   "metadata": {},
   "source": [
    "#### Acessando o nome de um dos dependentes"
   ]
  },
  {
   "cell_type": "code",
   "execution_count": null,
   "id": "82055c0c",
   "metadata": {},
   "outputs": [],
   "source": []
  },
  {
   "cell_type": "markdown",
   "id": "d2d22480",
   "metadata": {},
   "source": [
    "#### Alterando dependentes"
   ]
  },
  {
   "cell_type": "code",
   "execution_count": null,
   "id": "975929a8",
   "metadata": {},
   "outputs": [],
   "source": []
  },
  {
   "cell_type": "markdown",
   "id": "7a774fc1",
   "metadata": {},
   "source": [
    "#### Atualizando valores"
   ]
  },
  {
   "cell_type": "code",
   "execution_count": null,
   "id": "eeae30bc",
   "metadata": {},
   "outputs": [],
   "source": []
  },
  {
   "cell_type": "markdown",
   "id": "b63233d9",
   "metadata": {},
   "source": [
    "#### Removendo um elemento"
   ]
  },
  {
   "cell_type": "code",
   "execution_count": null,
   "id": "f1230198",
   "metadata": {},
   "outputs": [],
   "source": []
  },
  {
   "cell_type": "markdown",
   "id": "009820a7",
   "metadata": {},
   "source": [
    "### Teste 02"
   ]
  },
  {
   "cell_type": "markdown",
   "id": "5f0af284",
   "metadata": {},
   "source": [
    "Utilizando a estrutura anterior, crie uma nova estrutura com uma lista de usuários."
   ]
  },
  {
   "cell_type": "markdown",
   "id": "b1a13d1c",
   "metadata": {},
   "source": [
    "### 2. Métodos de dicionários"
   ]
  },
  {
   "cell_type": "markdown",
   "id": "81c646ef",
   "metadata": {},
   "source": [
    "#### 2.1. Acessando valores de maneira segura"
   ]
  },
  {
   "cell_type": "code",
   "execution_count": null,
   "id": "8a64c286",
   "metadata": {},
   "outputs": [],
   "source": []
  },
  {
   "cell_type": "markdown",
   "id": "b1dd0d29",
   "metadata": {},
   "source": [
    "#### 2.2. setdefault"
   ]
  },
  {
   "cell_type": "markdown",
   "id": "354169a1",
   "metadata": {},
   "source": [
    "Se a chave existir, retorna o valor da chave existente.<br>\n",
    "Se a chave não existir, insere a chave e o valor passado na função."
   ]
  },
  {
   "cell_type": "code",
   "execution_count": null,
   "id": "7e1f40e5",
   "metadata": {},
   "outputs": [],
   "source": []
  },
  {
   "cell_type": "markdown",
   "id": "dcdd8951",
   "metadata": {},
   "source": [
    "#### 2.3. set_default com variável associada"
   ]
  },
  {
   "cell_type": "code",
   "execution_count": null,
   "id": "f0418a9a",
   "metadata": {},
   "outputs": [],
   "source": []
  },
  {
   "cell_type": "markdown",
   "id": "245efbf1",
   "metadata": {},
   "source": [
    "#### 2.4. Separando chaves e valores"
   ]
  },
  {
   "cell_type": "code",
   "execution_count": null,
   "id": "56704e88",
   "metadata": {},
   "outputs": [],
   "source": []
  },
  {
   "cell_type": "markdown",
   "id": "e46f67eb",
   "metadata": {},
   "source": [
    "### Exercícios"
   ]
  },
  {
   "cell_type": "markdown",
   "id": "537ad60c",
   "metadata": {},
   "source": [
    "**Q1** - Escreva uma programa que imprima um dicionário onde as chaves são números de 1 a 16 e os valores são os quadrados das respectivas chaves."
   ]
  },
  {
   "cell_type": "markdown",
   "id": "2bb1d90f",
   "metadata": {},
   "source": [
    "**Q2**: Escreva uma programa que ordene os valores dos elementos de um dicionário:<br>\n",
    "Exemplo: \n",
    " - Entrada: num = {'n1': [2, 3, 1], 'n2': [5, 1, 2], 'n3': [3, 2, 4]}\n",
    " - Saída: num = {'n1': [1, 2, 3], 'n2': [1, 2, 5], 'n3': [2, 3, 4]}"
   ]
  },
  {
   "cell_type": "markdown",
   "id": "41350283",
   "metadata": {},
   "source": [
    "**Q3** Faça um programa que filtre um dicionário com base em seus valores. Exemplo:<br>\n",
    "Dicionario original:<br>\n",
    "{'Pessoa 01': 175, 'Pessoa 02': 180, 'Pessoa 03': 165, 'Pessoa 04': 190}<br>\n",
    "Pessoas com mais de 170:<br>\n",
    "{'Pessoa 01': 175, 'Pessoa 02': 180, 'Pessoa 04': 190}"
   ]
  },
  {
   "cell_type": "markdown",
   "id": "1e140100",
   "metadata": {},
   "source": [
    "**Q4**: Crie um dicionário de relatório de pagamento, cujas chaves sejam os nomes dos funcionários e os valores seus respectivos salários. Faça um programa que mostre a folha de pagamento e o valor total dos salários."
   ]
  },
  {
   "cell_type": "code",
   "execution_count": null,
   "id": "7ef8242c",
   "metadata": {},
   "outputs": [],
   "source": []
  }
 ],
 "metadata": {
  "kernelspec": {
   "display_name": "Python 3 (ipykernel)",
   "language": "python",
   "name": "python3"
  },
  "language_info": {
   "codemirror_mode": {
    "name": "ipython",
    "version": 3
   },
   "file_extension": ".py",
   "mimetype": "text/x-python",
   "name": "python",
   "nbconvert_exporter": "python",
   "pygments_lexer": "ipython3",
   "version": "3.10.11"
  }
 },
 "nbformat": 4,
 "nbformat_minor": 5
}
