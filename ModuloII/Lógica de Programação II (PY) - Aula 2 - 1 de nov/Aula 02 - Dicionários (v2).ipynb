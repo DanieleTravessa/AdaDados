{
 "cells": [
  {
   "cell_type": "markdown",
   "id": "41118bc5",
   "metadata": {},
   "source": [
    "### 1. Dicionários em Python"
   ]
  },
  {
   "cell_type": "markdown",
   "id": "3f66d354",
   "metadata": {},
   "source": [
    "#### 1.1. Criando um dicionário"
   ]
  },
  {
   "cell_type": "markdown",
   "id": "df025ab4",
   "metadata": {},
   "source": [
    "{chave: valor}\n",
    "- chave: única\n",
    "- valor: int, string, float, list, tupla, dict"
   ]
  },
  {
   "cell_type": "code",
   "execution_count": 69,
   "id": "96d72b56",
   "metadata": {},
   "outputs": [
    {
     "data": {
      "text/plain": [
       "{'nome': 'Malu', 'notas': [10, 8, 9], 'presença': 0.8}"
      ]
     },
     "execution_count": 69,
     "metadata": {},
     "output_type": "execute_result"
    }
   ],
   "source": [
    "d = dict()\n",
    "d = {}\n",
    "\n",
    "\n",
    "aluno = {'nome':'Malu', 'notas':[10, 8, 9], 'presença':0.8}\n",
    "aluno"
   ]
  },
  {
   "cell_type": "code",
   "execution_count": 70,
   "id": "e1935f9e",
   "metadata": {},
   "outputs": [
    {
     "data": {
      "text/plain": [
       "list"
      ]
     },
     "execution_count": 70,
     "metadata": {},
     "output_type": "execute_result"
    }
   ],
   "source": [
    "type(aluno['notas'])"
   ]
  },
  {
   "cell_type": "code",
   "execution_count": 44,
   "id": "193e3180",
   "metadata": {},
   "outputs": [
    {
     "data": {
      "text/plain": [
       "{'nome': 'Malu', 'notas': [10, 8, 9], 'presença': 0.8}"
      ]
     },
     "execution_count": 44,
     "metadata": {},
     "output_type": "execute_result"
    }
   ],
   "source": [
    "aluno = dict(nome = 'Malu', notas = [10, 8, 9], presença = 0.8)\n",
    "aluno"
   ]
  },
  {
   "cell_type": "code",
   "execution_count": 45,
   "id": "7afa9b97",
   "metadata": {},
   "outputs": [
    {
     "data": {
      "text/plain": [
       "{'nome': 'Malu', 'notas': [10, 8, 9], 'presença': 0.8}"
      ]
     },
     "execution_count": 45,
     "metadata": {},
     "output_type": "execute_result"
    }
   ],
   "source": [
    "aluno = dict({'nome':'Malu', 'notas':[10, 8, 9], 'presença':0.8})\n",
    "aluno"
   ]
  },
  {
   "cell_type": "code",
   "execution_count": 14,
   "id": "553e88c3",
   "metadata": {},
   "outputs": [
    {
     "data": {
      "text/plain": [
       "{'Luis': 10, 'Wallace': 3, 'João': 8}"
      ]
     },
     "execution_count": 14,
     "metadata": {},
     "output_type": "execute_result"
    }
   ],
   "source": [
    "lista = [['Luis', 10], ['Wallace', 3], ['João', 8]]\n",
    "aluno = dict(lista)\n",
    "aluno"
   ]
  },
  {
   "cell_type": "code",
   "execution_count": 11,
   "id": "09f8e789",
   "metadata": {},
   "outputs": [
    {
     "data": {
      "text/plain": [
       "{'Luis': 10, 'Wallace': 10, 'João': 10}"
      ]
     },
     "execution_count": 11,
     "metadata": {},
     "output_type": "execute_result"
    }
   ],
   "source": [
    "nomes = ['Luis', 'Wallace', 'João']\n",
    "notas = [10, 10, 10]\n",
    "aluno = dict(zip(nomes, notas))\n",
    "aluno"
   ]
  },
  {
   "cell_type": "markdown",
   "id": "e3c7fb15",
   "metadata": {},
   "source": [
    "#### 1.2. Adicionando elementos em um dicionário"
   ]
  },
  {
   "cell_type": "code",
   "execution_count": 15,
   "id": "e3a52711",
   "metadata": {},
   "outputs": [
    {
     "data": {
      "text/plain": [
       "{'nome': 'Malu', 'notas': [10, 8, 9], 'presença': 0.8}"
      ]
     },
     "execution_count": 15,
     "metadata": {},
     "output_type": "execute_result"
    }
   ],
   "source": [
    "aluno = dict(nome = 'Malu', notas = [10, 8, 9], presença = 0.8)\n",
    "aluno"
   ]
  },
  {
   "cell_type": "code",
   "execution_count": 46,
   "id": "fc7dc4f9",
   "metadata": {},
   "outputs": [
    {
     "data": {
      "text/plain": [
       "{'nome': 'Malu', 'notas': [10, 8, 9], 'presença': 0.8, 'media': 9.0}"
      ]
     },
     "execution_count": 46,
     "metadata": {},
     "output_type": "execute_result"
    }
   ],
   "source": [
    "#dict['chave']\n",
    "aluno['media'] = sum(aluno['notas'])/len(aluno['notas'])\n",
    "aluno"
   ]
  },
  {
   "cell_type": "code",
   "execution_count": 47,
   "id": "c939146c",
   "metadata": {},
   "outputs": [
    {
     "data": {
      "text/plain": [
       "27"
      ]
     },
     "execution_count": 47,
     "metadata": {},
     "output_type": "execute_result"
    }
   ],
   "source": [
    "sum(aluno['notas'])"
   ]
  },
  {
   "cell_type": "code",
   "execution_count": 48,
   "id": "2a56cc30",
   "metadata": {},
   "outputs": [
    {
     "data": {
      "text/plain": [
       "{'nome': 'Malu',\n",
       " 'notas': [10, 8, 9],\n",
       " 'presença': 0.8,\n",
       " 'media': 9.0,\n",
       " 'aprovado': False}"
      ]
     },
     "execution_count": 48,
     "metadata": {},
     "output_type": "execute_result"
    }
   ],
   "source": [
    "aluno['aprovado'] = aluno['media'] >= 10\n",
    "aluno"
   ]
  },
  {
   "cell_type": "code",
   "execution_count": 27,
   "id": "f2aa44d0",
   "metadata": {},
   "outputs": [
    {
     "name": "stdout",
     "output_type": "stream",
     "text": [
      "aprovado\n"
     ]
    }
   ],
   "source": [
    "if aluno['media'] >= 7:\n",
    "    print('aprovado')\n",
    "else:\n",
    "    print('reprovado')"
   ]
  },
  {
   "cell_type": "code",
   "execution_count": 50,
   "id": "72890f20",
   "metadata": {},
   "outputs": [
    {
     "name": "stdout",
     "output_type": "stream",
     "text": [
      "{'nome': 'Malu', 'notas': [10, 8, 9], 'presença': 0.8, 'media': 9.0, 'aprovado': False, 'resultado': True}\n"
     ]
    }
   ],
   "source": [
    "if aluno['media'] >= 7:\n",
    "    aluno['resultado'] = True\n",
    "else:\n",
    "    aluno['resultado'] = False\n",
    "    \n",
    "print(aluno)"
   ]
  },
  {
   "cell_type": "markdown",
   "id": "d347a289",
   "metadata": {},
   "source": [
    "#### 1.2.1. Adicionar um dicionário para dicionário já existente"
   ]
  },
  {
   "cell_type": "code",
   "execution_count": 32,
   "id": "9a8b2d9b",
   "metadata": {},
   "outputs": [
    {
     "name": "stdout",
     "output_type": "stream",
     "text": [
      "{'escola': \"Let's Code\", 'unidade': 'Faria Lima'}\n",
      "{'trilhas': ['Data Science', 'Web Full Stack'], 'formato': 'online'}\n"
     ]
    }
   ],
   "source": [
    "escola = {'escola':\"Let's Code\", 'unidade':'Faria Lima'}\n",
    "print(escola)\n",
    "# +\n",
    "mais_escola = {'trilhas':['Data Science', 'Web Full Stack'], 'formato':'online'}\n",
    "print(mais_escola)"
   ]
  },
  {
   "cell_type": "code",
   "execution_count": 34,
   "id": "8c1f50f1",
   "metadata": {},
   "outputs": [
    {
     "data": {
      "text/plain": [
       "{'escola': \"Let's Code\",\n",
       " 'unidade': 'Faria Lima',\n",
       " 'trilhas': ['Data Science', 'Web Full Stack'],\n",
       " 'formato': 'online'}"
      ]
     },
     "execution_count": 34,
     "metadata": {},
     "output_type": "execute_result"
    }
   ],
   "source": [
    "escola.update(mais_escola)\n",
    "escola"
   ]
  },
  {
   "cell_type": "code",
   "execution_count": 35,
   "id": "191d199d",
   "metadata": {},
   "outputs": [
    {
     "data": {
      "text/plain": [
       "{'trilhas': ['Data Science', 'Web Full Stack'],\n",
       " 'formato': 'online',\n",
       " 'techs': ['Python', 'Java', 'PHP']}"
      ]
     },
     "execution_count": 35,
     "metadata": {},
     "output_type": "execute_result"
    }
   ],
   "source": [
    "mais_escola['techs'] = ['Python', 'Java', 'PHP']\n",
    "mais_escola"
   ]
  },
  {
   "cell_type": "code",
   "execution_count": 36,
   "id": "b8a45b3b",
   "metadata": {},
   "outputs": [
    {
     "data": {
      "text/plain": [
       "{'escola': \"Let's Code\",\n",
       " 'unidade': 'Faria Lima',\n",
       " 'trilhas': ['Data Science', 'Web Full Stack'],\n",
       " 'formato': 'online'}"
      ]
     },
     "execution_count": 36,
     "metadata": {},
     "output_type": "execute_result"
    }
   ],
   "source": [
    "escola"
   ]
  },
  {
   "cell_type": "markdown",
   "id": "9ac48839",
   "metadata": {},
   "source": [
    "#### 1.3 Removendo elementos de um dicionário"
   ]
  },
  {
   "cell_type": "code",
   "execution_count": 37,
   "id": "0b2306c2",
   "metadata": {},
   "outputs": [
    {
     "data": {
      "text/plain": [
       "{'nome': 'Malu',\n",
       " 'notas': [10, 8, 9],\n",
       " 'presença': 0.8,\n",
       " 'media': 9.0,\n",
       " 'aprovado': False,\n",
       " 'resultado': True}"
      ]
     },
     "execution_count": 37,
     "metadata": {},
     "output_type": "execute_result"
    }
   ],
   "source": [
    "aluno"
   ]
  },
  {
   "cell_type": "code",
   "execution_count": 38,
   "id": "420d0680",
   "metadata": {},
   "outputs": [
    {
     "data": {
      "text/plain": [
       "{'nome': 'Malu',\n",
       " 'notas': [10, 8, 9],\n",
       " 'presença': 0.8,\n",
       " 'media': 9.0,\n",
       " 'aprovado': False}"
      ]
     },
     "execution_count": 38,
     "metadata": {},
     "output_type": "execute_result"
    }
   ],
   "source": [
    "# pop remove com base na chave passada como argumento\n",
    "aluno.pop('resultado')\n",
    "aluno"
   ]
  },
  {
   "cell_type": "code",
   "execution_count": 39,
   "id": "0f258b71",
   "metadata": {},
   "outputs": [
    {
     "data": {
      "text/plain": [
       "('aprovado', False)"
      ]
     },
     "execution_count": 39,
     "metadata": {},
     "output_type": "execute_result"
    }
   ],
   "source": [
    "#popitem remove o último elemento do dicionário\n",
    "aluno.popitem()"
   ]
  },
  {
   "cell_type": "code",
   "execution_count": 40,
   "id": "0e8b6105",
   "metadata": {},
   "outputs": [
    {
     "data": {
      "text/plain": [
       "{'nome': 'Malu', 'notas': [10, 8, 9], 'presença': 0.8, 'media': 9.0}"
      ]
     },
     "execution_count": 40,
     "metadata": {},
     "output_type": "execute_result"
    }
   ],
   "source": [
    "aluno"
   ]
  },
  {
   "cell_type": "code",
   "execution_count": 41,
   "id": "5356abc3",
   "metadata": {},
   "outputs": [
    {
     "data": {
      "text/plain": [
       "{'nome': 'Malu', 'presença': 0.8, 'media': 9.0}"
      ]
     },
     "execution_count": 41,
     "metadata": {},
     "output_type": "execute_result"
    }
   ],
   "source": [
    "del aluno['notas']\n",
    "aluno"
   ]
  },
  {
   "cell_type": "code",
   "execution_count": 42,
   "id": "05c72bac",
   "metadata": {},
   "outputs": [
    {
     "data": {
      "text/plain": [
       "{}"
      ]
     },
     "execution_count": 42,
     "metadata": {},
     "output_type": "execute_result"
    }
   ],
   "source": [
    "aluno.clear()\n",
    "aluno"
   ]
  },
  {
   "cell_type": "markdown",
   "id": "feb407ea",
   "metadata": {},
   "source": [
    "#### 1.4 Percorrendo um dicionário"
   ]
  },
  {
   "cell_type": "code",
   "execution_count": 51,
   "id": "20a8b2e9",
   "metadata": {},
   "outputs": [
    {
     "data": {
      "text/plain": [
       "{'nome': 'Malu',\n",
       " 'notas': [10, 8, 9],\n",
       " 'presença': 0.8,\n",
       " 'media': 9.0,\n",
       " 'aprovado': False,\n",
       " 'resultado': True}"
      ]
     },
     "execution_count": 51,
     "metadata": {},
     "output_type": "execute_result"
    }
   ],
   "source": [
    "aluno"
   ]
  },
  {
   "cell_type": "code",
   "execution_count": 53,
   "id": "89ff3ca3",
   "metadata": {},
   "outputs": [
    {
     "name": "stdout",
     "output_type": "stream",
     "text": [
      "nome ---> Malu\n",
      "notas ---> [10, 8, 9]\n",
      "presença ---> 0.8\n",
      "media ---> 9.0\n",
      "aprovado ---> False\n",
      "resultado ---> True\n"
     ]
    }
   ],
   "source": [
    "for chave in aluno:\n",
    "    print(chave, '--->', aluno[chave])"
   ]
  },
  {
   "cell_type": "markdown",
   "id": "04214285",
   "metadata": {},
   "source": [
    "#### 1.5 Testando a existência de uma chave"
   ]
  },
  {
   "cell_type": "code",
   "execution_count": 63,
   "id": "e2b1c689",
   "metadata": {},
   "outputs": [
    {
     "name": "stdout",
     "output_type": "stream",
     "text": [
      "{'escola': \"Let's Code\", 'unidade': 'Faria Lima'}\n"
     ]
    }
   ],
   "source": [
    "escola = {'escola':\"Let's Code\", 'unidade':'Faria Lima'}\n",
    "print(escola)"
   ]
  },
  {
   "cell_type": "code",
   "execution_count": 55,
   "id": "9d88c740",
   "metadata": {},
   "outputs": [
    {
     "ename": "KeyError",
     "evalue": "'cursos'",
     "output_type": "error",
     "traceback": [
      "\u001b[1;31m---------------------------------------------------------------------------\u001b[0m",
      "\u001b[1;31mKeyError\u001b[0m                                  Traceback (most recent call last)",
      "Cell \u001b[1;32mIn[55], line 1\u001b[0m\n\u001b[1;32m----> 1\u001b[0m \u001b[43mescola\u001b[49m\u001b[43m[\u001b[49m\u001b[38;5;124;43m'\u001b[39;49m\u001b[38;5;124;43mcursos\u001b[39;49m\u001b[38;5;124;43m'\u001b[39;49m\u001b[43m]\u001b[49m\n",
      "\u001b[1;31mKeyError\u001b[0m: 'cursos'"
     ]
    }
   ],
   "source": [
    "escola['cursos']"
   ]
  },
  {
   "cell_type": "code",
   "execution_count": 56,
   "id": "a3ca857e",
   "metadata": {},
   "outputs": [
    {
     "ename": "KeyError",
     "evalue": "'cursos'",
     "output_type": "error",
     "traceback": [
      "\u001b[1;31m---------------------------------------------------------------------------\u001b[0m",
      "\u001b[1;31mKeyError\u001b[0m                                  Traceback (most recent call last)",
      "Cell \u001b[1;32mIn[56], line 1\u001b[0m\n\u001b[1;32m----> 1\u001b[0m \u001b[43mescola\u001b[49m\u001b[43m[\u001b[49m\u001b[38;5;124;43m'\u001b[39;49m\u001b[38;5;124;43mcursos\u001b[39;49m\u001b[38;5;124;43m'\u001b[39;49m\u001b[43m]\u001b[49m\u001b[38;5;241m.\u001b[39mappend(\u001b[38;5;124m'\u001b[39m\u001b[38;5;124mPython\u001b[39m\u001b[38;5;124m'\u001b[39m)\n",
      "\u001b[1;31mKeyError\u001b[0m: 'cursos'"
     ]
    }
   ],
   "source": [
    "escola['cursos'].append('Python')"
   ]
  },
  {
   "cell_type": "code",
   "execution_count": 68,
   "id": "f3ab07d3",
   "metadata": {},
   "outputs": [
    {
     "name": "stdout",
     "output_type": "stream",
     "text": [
      "Caminho 01\n",
      "{'escola': \"Let's Code\", 'unidade': 'Faria Lima', 'cursos': 'Java'}\n"
     ]
    }
   ],
   "source": [
    "if 'cursos' in escola:\n",
    "    escola['cursos'] + 'Python'\n",
    "    print('Caminho 01')\n",
    "else:\n",
    "    escola['cursos'] = 'Java'\n",
    "    print('Caminho 02')\n",
    "    \n",
    "print(escola)    "
   ]
  },
  {
   "cell_type": "code",
   "execution_count": 62,
   "id": "e2249d95",
   "metadata": {},
   "outputs": [],
   "source": [
    "escola.clear()"
   ]
  },
  {
   "cell_type": "markdown",
   "id": "e4f60ce1",
   "metadata": {},
   "source": [
    "### Test 01"
   ]
  },
  {
   "cell_type": "markdown",
   "id": "93d32b78",
   "metadata": {},
   "source": [
    "**Cadastro de usuário:**\n",
    "No sistema de uma empresa, uma das principais entidades é a de `usuário`. Crie um dicionário para armazenar os seguintes dados.\n",
    "usuário:\n",
    "- id (<i>int</i>)\n",
    "- username (<i>string</i>)\n",
    "- password (<i>string</i>)\n",
    "- nome (<i>string</i>)\n",
    "- dependente (<i>lista</i>)\n",
    "\n",
    "Dependente:\n",
    "- id (<i>int</i>)\n",
    "- nome (<i>string</i>)\n",
    "    \n",
    "    "
   ]
  },
  {
   "cell_type": "markdown",
   "id": "b0725642",
   "metadata": {},
   "source": [
    "#### Criando a estrutura"
   ]
  },
  {
   "cell_type": "code",
   "execution_count": 71,
   "id": "f6ad9982",
   "metadata": {},
   "outputs": [
    {
     "data": {
      "text/plain": [
       "{'id': 123,\n",
       " 'username': 'user',\n",
       " 'password': 'admin',\n",
       " 'nome': 'desenvolvedor',\n",
       " 'dependentes': []}"
      ]
     },
     "execution_count": 71,
     "metadata": {},
     "output_type": "execute_result"
    }
   ],
   "source": [
    "usuario = {\n",
    "    'id':123,\n",
    "    'username': 'user',\n",
    "    'password': 'admin',\n",
    "    'nome':'desenvolvedor',\n",
    "    'dependentes': []\n",
    "}\n",
    "\n",
    "usuario"
   ]
  },
  {
   "cell_type": "code",
   "execution_count": 73,
   "id": "1ac4cd38",
   "metadata": {},
   "outputs": [],
   "source": [
    "dependente1 = {\n",
    "    'id':111,\n",
    "    'nome':'esposa'\n",
    "}\n",
    "\n",
    "dependente2 = {\n",
    "    'id':222,\n",
    "    'nome':'filho'\n",
    "}\n",
    "\n",
    "dependente3 = {\n",
    "    'id':333,\n",
    "    'nome':'filha'\n",
    "}"
   ]
  },
  {
   "cell_type": "markdown",
   "id": "880935da",
   "metadata": {},
   "source": [
    "#### Adicionando dependentes"
   ]
  },
  {
   "cell_type": "code",
   "execution_count": 74,
   "id": "09f8d689",
   "metadata": {},
   "outputs": [
    {
     "data": {
      "text/plain": [
       "{'id': 123,\n",
       " 'username': 'user',\n",
       " 'password': 'admin',\n",
       " 'nome': 'desenvolvedor',\n",
       " 'dependentes': [{'id': 111, 'nome': 'esposa'}]}"
      ]
     },
     "execution_count": 74,
     "metadata": {},
     "output_type": "execute_result"
    }
   ],
   "source": [
    "usuario['dependentes'].append(dependente1)\n",
    "usuario"
   ]
  },
  {
   "cell_type": "code",
   "execution_count": 75,
   "id": "69b6b77f",
   "metadata": {},
   "outputs": [
    {
     "data": {
      "text/plain": [
       "{'id': 123,\n",
       " 'username': 'user',\n",
       " 'password': 'admin',\n",
       " 'nome': 'desenvolvedor',\n",
       " 'dependentes': [{'id': 111, 'nome': 'esposa'},\n",
       "  {'id': 222, 'nome': 'filho'},\n",
       "  {'id': 333, 'nome': 'filha'}]}"
      ]
     },
     "execution_count": 75,
     "metadata": {},
     "output_type": "execute_result"
    }
   ],
   "source": [
    "usuario['dependentes'].append(dependente2)\n",
    "usuario['dependentes'].append(dependente3)\n",
    "usuario"
   ]
  },
  {
   "cell_type": "markdown",
   "id": "399ada92",
   "metadata": {},
   "source": [
    "#### Acessando os dados do usuário"
   ]
  },
  {
   "cell_type": "code",
   "execution_count": 76,
   "id": "771dc7f9",
   "metadata": {},
   "outputs": [
    {
     "data": {
      "text/plain": [
       "'desenvolvedor'"
      ]
     },
     "execution_count": 76,
     "metadata": {},
     "output_type": "execute_result"
    }
   ],
   "source": [
    "usuario.get('nome')"
   ]
  },
  {
   "cell_type": "code",
   "execution_count": 77,
   "id": "23bfe911",
   "metadata": {},
   "outputs": [
    {
     "name": "stdout",
     "output_type": "stream",
     "text": [
      "user\n",
      "admin\n"
     ]
    }
   ],
   "source": [
    "print(usuario.get('username'))\n",
    "print(usuario.get('password'))"
   ]
  },
  {
   "cell_type": "markdown",
   "id": "8c6ffaa4",
   "metadata": {},
   "source": [
    "#### Acessando dependentes"
   ]
  },
  {
   "cell_type": "code",
   "execution_count": 84,
   "id": "a0626703",
   "metadata": {},
   "outputs": [
    {
     "data": {
      "text/plain": [
       "{'id': 222, 'nome': 'filho'}"
      ]
     },
     "execution_count": 84,
     "metadata": {},
     "output_type": "execute_result"
    }
   ],
   "source": [
    "usuario.get('dependentes')[1]"
   ]
  },
  {
   "cell_type": "markdown",
   "id": "f4a6ae77",
   "metadata": {},
   "source": [
    "#### Acessando o nome de um dos dependentes"
   ]
  },
  {
   "cell_type": "code",
   "execution_count": 85,
   "id": "e86c7e5a",
   "metadata": {},
   "outputs": [
    {
     "data": {
      "text/plain": [
       "'filho'"
      ]
     },
     "execution_count": 85,
     "metadata": {},
     "output_type": "execute_result"
    }
   ],
   "source": [
    "usuario.get('dependentes')[1].get('nome')"
   ]
  },
  {
   "cell_type": "markdown",
   "id": "d2d22480",
   "metadata": {},
   "source": [
    "#### Alterando dependentes"
   ]
  },
  {
   "cell_type": "code",
   "execution_count": 87,
   "id": "e087200e",
   "metadata": {},
   "outputs": [
    {
     "data": {
      "text/plain": [
       "{'id': 123,\n",
       " 'username': 'user',\n",
       " 'password': 'admin',\n",
       " 'nome': 'desenvolvedor',\n",
       " 'dependentes': [{'id': 111, 'nome': 'esposa'},\n",
       "  {'id': 444, 'nome': 'afilhado'},\n",
       "  {'id': 333, 'nome': 'filha'}]}"
      ]
     },
     "execution_count": 87,
     "metadata": {},
     "output_type": "execute_result"
    }
   ],
   "source": [
    "usuario['dependentes'][1] = {'id':444, 'nome':'afilhado'}\n",
    "usuario"
   ]
  },
  {
   "cell_type": "markdown",
   "id": "7a774fc1",
   "metadata": {},
   "source": [
    "#### Atualizando valores"
   ]
  },
  {
   "cell_type": "code",
   "execution_count": 88,
   "id": "38357d68",
   "metadata": {},
   "outputs": [
    {
     "data": {
      "text/plain": [
       "{'id': 123,\n",
       " 'username': 'user',\n",
       " 'password': 'admin',\n",
       " 'nome': 'desenvolvedor',\n",
       " 'dependentes': [{'id': 111, 'nome': 'esposa'},\n",
       "  {'id': 444, 'nome': 'malu'},\n",
       "  {'id': 333, 'nome': 'filha'}]}"
      ]
     },
     "execution_count": 88,
     "metadata": {},
     "output_type": "execute_result"
    }
   ],
   "source": [
    "usuario['dependentes'][1].update({'id':444, 'nome':'malu'})\n",
    "usuario"
   ]
  },
  {
   "cell_type": "markdown",
   "id": "b63233d9",
   "metadata": {},
   "source": [
    "#### Removendo um elemento"
   ]
  },
  {
   "cell_type": "code",
   "execution_count": 91,
   "id": "5980d6be",
   "metadata": {},
   "outputs": [
    {
     "data": {
      "text/plain": [
       "{'id': 123, 'username': 'user', 'password': 'admin', 'nome': 'desenvolvedor'}"
      ]
     },
     "execution_count": 91,
     "metadata": {},
     "output_type": "execute_result"
    }
   ],
   "source": [
    "usuario.pop('dependentes')\n",
    "usuario"
   ]
  },
  {
   "cell_type": "code",
   "execution_count": 92,
   "id": "a9f6279e",
   "metadata": {},
   "outputs": [
    {
     "data": {
      "text/plain": [
       "{'id': 123, 'password': 'admin', 'nome': 'desenvolvedor'}"
      ]
     },
     "execution_count": 92,
     "metadata": {},
     "output_type": "execute_result"
    }
   ],
   "source": [
    "del usuario['username']\n",
    "usuario"
   ]
  },
  {
   "cell_type": "code",
   "execution_count": 93,
   "id": "5fe9a3a0",
   "metadata": {},
   "outputs": [
    {
     "data": {
      "text/plain": [
       "{'id': 123, 'password': 'admin'}"
      ]
     },
     "execution_count": 93,
     "metadata": {},
     "output_type": "execute_result"
    }
   ],
   "source": [
    "usuario.popitem()\n",
    "usuario"
   ]
  },
  {
   "cell_type": "markdown",
   "id": "009820a7",
   "metadata": {},
   "source": [
    "### Teste 02"
   ]
  },
  {
   "cell_type": "markdown",
   "id": "5f0af284",
   "metadata": {},
   "source": [
    "Utilizando a estrutura anterior, crie uma nova estrutura com uma lista de usuários."
   ]
  },
  {
   "cell_type": "markdown",
   "id": "b1a13d1c",
   "metadata": {},
   "source": [
    "### 2. Métodos de dicionários"
   ]
  },
  {
   "cell_type": "markdown",
   "id": "81c646ef",
   "metadata": {},
   "source": [
    "#### 2.1. Acessando valores de maneira segura"
   ]
  },
  {
   "cell_type": "code",
   "execution_count": null,
   "id": "c82c64e0",
   "metadata": {},
   "outputs": [],
   "source": []
  },
  {
   "cell_type": "markdown",
   "id": "b1dd0d29",
   "metadata": {},
   "source": [
    "#### 2.2. setdefault"
   ]
  },
  {
   "cell_type": "markdown",
   "id": "354169a1",
   "metadata": {},
   "source": [
    "Se a chave existir, retorna o valor da chave existente.<br>\n",
    "Se a chave não existir, insere a chave e o valor passado na função."
   ]
  },
  {
   "cell_type": "code",
   "execution_count": null,
   "id": "69f5449a",
   "metadata": {},
   "outputs": [],
   "source": []
  },
  {
   "cell_type": "markdown",
   "id": "dcdd8951",
   "metadata": {},
   "source": [
    "#### 2.3. set_default com variável associada"
   ]
  },
  {
   "cell_type": "code",
   "execution_count": null,
   "id": "ba6e12b5",
   "metadata": {},
   "outputs": [],
   "source": []
  },
  {
   "cell_type": "markdown",
   "id": "245efbf1",
   "metadata": {},
   "source": [
    "#### 2.4. Separando chaves e valores"
   ]
  },
  {
   "cell_type": "code",
   "execution_count": null,
   "id": "d5746432",
   "metadata": {},
   "outputs": [],
   "source": []
  },
  {
   "cell_type": "markdown",
   "id": "e46f67eb",
   "metadata": {},
   "source": [
    "### Exercícios"
   ]
  },
  {
   "cell_type": "markdown",
   "id": "537ad60c",
   "metadata": {},
   "source": [
    "**Q1** - Escreva uma programa que imprima um dicionário onde as chaves são números de 1 a 16 e os valores são os quadrados das respectivas chaves."
   ]
  },
  {
   "cell_type": "markdown",
   "id": "2bb1d90f",
   "metadata": {},
   "source": [
    "**Q2**: Escreva uma programa que ordene os valores dos elementos de um dicionário:<br>\n",
    "Exemplo: \n",
    " - Entrada: num = {'n1': [2, 3, 1], 'n2': [5, 1, 2], 'n3': [3, 2, 4]}\n",
    " - Saída: num = {'n1': [1, 2, 3], 'n2': [1, 2, 5], 'n3': [2, 3, 4]}"
   ]
  },
  {
   "cell_type": "markdown",
   "id": "41350283",
   "metadata": {},
   "source": [
    "**Q3** Faça um programa que filtre um dicionário com base em seus valores. Exemplo:<br>\n",
    "Dicionario original:<br>\n",
    "{'Pessoa 01': 175, 'Pessoa 02': 180, 'Pessoa 03': 165, 'Pessoa 04': 190}<br>\n",
    "Pessoas com mais de 170:<br>\n",
    "{'Pessoa 01': 175, 'Pessoa 02': 180, 'Pessoa 04': 190}"
   ]
  },
  {
   "cell_type": "markdown",
   "id": "1e140100",
   "metadata": {},
   "source": [
    "**Q4**: Crie um dicionário de relatório de pagamento, cujas chaves sejam os nomes dos funcionários e os valores seus respectivos salários. Faça um programa que mostre a folha de pagamento e o valor total dos salários."
   ]
  },
  {
   "cell_type": "code",
   "execution_count": null,
   "id": "7ef8242c",
   "metadata": {},
   "outputs": [],
   "source": []
  }
 ],
 "metadata": {
  "kernelspec": {
   "display_name": "Python 3 (ipykernel)",
   "language": "python",
   "name": "python3"
  },
  "language_info": {
   "codemirror_mode": {
    "name": "ipython",
    "version": 3
   },
   "file_extension": ".py",
   "mimetype": "text/x-python",
   "name": "python",
   "nbconvert_exporter": "python",
   "pygments_lexer": "ipython3",
   "version": "3.10.11"
  }
 },
 "nbformat": 4,
 "nbformat_minor": 5
}
