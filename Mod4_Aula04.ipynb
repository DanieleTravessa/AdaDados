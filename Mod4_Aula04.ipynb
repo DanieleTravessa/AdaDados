{
  "cells": [
    {
      "cell_type": "markdown",
      "metadata": {
        "id": "view-in-github",
        "colab_type": "text"
      },
      "source": [
        "<a href=\"https://colab.research.google.com/github/DanieleTravessa/AdaDados/blob/main/Mod4_Aula04.ipynb\" target=\"_parent\"><img src=\"https://colab.research.google.com/assets/colab-badge.svg\" alt=\"Open In Colab\"/></a>"
      ]
    },
    {
      "cell_type": "markdown",
      "metadata": {
        "id": "yy_5khbqqr4l"
      },
      "source": [
        "# Pandas DataFrame exercises\n"
      ]
    },
    {
      "cell_type": "code",
      "execution_count": null,
      "metadata": {
        "id": "oZCodz7_qr4m"
      },
      "outputs": [],
      "source": [
        "import numpy as np\n",
        "\n",
        "import pandas as pd\n"
      ]
    },
    {
      "cell_type": "markdown",
      "metadata": {
        "id": "-MlIe410qr4o"
      },
      "source": [
        "--------\n",
        "## DataFrame creation"
      ]
    },
    {
      "cell_type": "markdown",
      "metadata": {
        "id": "aUictnDVqr4o"
      },
      "source": [
        "### Crie um DataFrame Vazio\n"
      ]
    },
    {
      "cell_type": "code",
      "execution_count": null,
      "metadata": {
        "colab": {
          "base_uri": "https://localhost:8080/"
        },
        "id": "kuBuZLG0qr4o",
        "outputId": "3097685f-c476-44ef-d77f-61e05b4d7ece"
      },
      "outputs": [
        {
          "output_type": "stream",
          "name": "stdout",
          "text": [
            "Empty DataFrame\n",
            "Columns: []\n",
            "Index: []\n"
          ]
        }
      ],
      "source": [
        "df = pd.DataFrame()\n",
        "\n",
        "print(df)"
      ]
    },
    {
      "cell_type": "code",
      "execution_count": null,
      "metadata": {
        "cell_type": "solution",
        "id": "iUb5GHDqqr4p"
      },
      "outputs": [],
      "source": []
    },
    {
      "cell_type": "markdown",
      "metadata": {
        "id": "n-ofZ7gAqr4p"
      },
      "source": [
        "<img width=400 src=\"https://cdn.dribbble.com/users/4678/screenshots/1986600/avengers.png\"></img>"
      ]
    },
    {
      "cell_type": "markdown",
      "metadata": {
        "id": "UfZmQHh_qr4p"
      },
      "source": [
        "\n",
        "### Crie um  `marvel_df` com os dados abaixo"
      ]
    },
    {
      "cell_type": "code",
      "execution_count": null,
      "metadata": {
        "id": "cE-9nl5fqr4p"
      },
      "outputs": [],
      "source": [
        "marvel_data = [\n",
        "    ['Spider-Man', 'male', 1962],\n",
        "    ['Captain America', 'male', 1941],\n",
        "    ['Wolverine', 'male', 1974],\n",
        "    ['Iron Man', 'male', 1963],\n",
        "    ['Thor', 'male', 1963],\n",
        "    ['Thing', 'male', 1961],\n",
        "    ['Mister Fantastic', 'male', 1961],\n",
        "    ['Hulk', 'male', 1962],\n",
        "    ['Beast', 'male', 1963],\n",
        "    ['Invisible Woman', 'female', 1961],\n",
        "    ['Storm', 'female', 1975],\n",
        "    ['Namor', 'male', 1939],\n",
        "    ['Hawkeye', 'male', 1964],\n",
        "    ['Daredevil', 'male', 1964],\n",
        "    ['Doctor Strange', 'male', 1963],\n",
        "    ['Hank Pym', 'male', 1962],\n",
        "    ['Scarlet Witch', 'female', 1964],\n",
        "    ['Wasp', 'female', 1963],\n",
        "    ['Black Widow', 'female', 1964],\n",
        "    ['Vision', 'male', 1968]\n",
        "]"
      ]
    },
    {
      "cell_type": "code",
      "execution_count": null,
      "metadata": {
        "colab": {
          "base_uri": "https://localhost:8080/"
        },
        "id": "Yt0iqKSnqr4q",
        "outputId": "4d72fa05-7d58-4f7d-8314-28c3c14f442e"
      },
      "outputs": [
        {
          "output_type": "stream",
          "name": "stdout",
          "text": [
            "                Nome  Gênero   Ano\n",
            "0         Spider-Man    male  1962\n",
            "1    Captain America    male  1941\n",
            "2          Wolverine    male  1974\n",
            "3           Iron Man    male  1963\n",
            "4               Thor    male  1963\n",
            "5              Thing    male  1961\n",
            "6   Mister Fantastic    male  1961\n",
            "7               Hulk    male  1962\n",
            "8              Beast    male  1963\n",
            "9    Invisible Woman  female  1961\n",
            "10             Storm  female  1975\n",
            "11             Namor    male  1939\n",
            "12           Hawkeye    male  1964\n",
            "13         Daredevil    male  1964\n",
            "14    Doctor Strange    male  1963\n",
            "15          Hank Pym    male  1962\n",
            "16     Scarlet Witch  female  1964\n",
            "17              Wasp  female  1963\n",
            "18       Black Widow  female  1964\n",
            "19            Vision    male  1968\n"
          ]
        }
      ],
      "source": [
        "marvel_df = pd.DataFrame(marvel_data, columns=['Nome', 'Gênero', 'Ano'])\n",
        "\n",
        "print(marvel_df)"
      ]
    },
    {
      "cell_type": "markdown",
      "metadata": {
        "id": "p0tqdR-fqr4q"
      },
      "source": [
        "#### Adicione a coluna nomes ao DF"
      ]
    },
    {
      "cell_type": "code",
      "execution_count": null,
      "metadata": {
        "colab": {
          "base_uri": "https://localhost:8080/"
        },
        "id": "PuLtYdAmqr4q",
        "outputId": "1f625c56-0ecd-46e9-d9cc-8796c4e232a5"
      },
      "outputs": [
        {
          "output_type": "stream",
          "name": "stdout",
          "text": [
            "                Nome  Gênero   Ano             Nomes\n",
            "0         Spider-Man    male  1962        Spider-Man\n",
            "1    Captain America    male  1941   Captain America\n",
            "2          Wolverine    male  1974         Wolverine\n",
            "3           Iron Man    male  1963          Iron Man\n",
            "4               Thor    male  1963              Thor\n",
            "5              Thing    male  1961             Thing\n",
            "6   Mister Fantastic    male  1961  Mister Fantastic\n",
            "7               Hulk    male  1962              Hulk\n",
            "8              Beast    male  1963             Beast\n",
            "9    Invisible Woman  female  1961   Invisible Woman\n",
            "10             Storm  female  1975             Storm\n",
            "11             Namor    male  1939             Namor\n",
            "12           Hawkeye    male  1964           Hawkeye\n",
            "13         Daredevil    male  1964         Daredevil\n",
            "14    Doctor Strange    male  1963    Doctor Strange\n",
            "15          Hank Pym    male  1962          Hank Pym\n",
            "16     Scarlet Witch  female  1964     Scarlet Witch\n",
            "17              Wasp  female  1963              Wasp\n",
            "18       Black Widow  female  1964       Black Widow\n",
            "19            Vision    male  1968            Vision\n"
          ]
        }
      ],
      "source": [
        "marvel_df['Nomes'] = marvel_df['Nome']\n",
        "print(marvel_df)"
      ]
    },
    {
      "cell_type": "markdown",
      "metadata": {
        "id": "Dh95PnR4qr4q"
      },
      "source": [
        "#### Adicione o index `marvel_df` (use o nome dos personagens como index)"
      ]
    },
    {
      "cell_type": "code",
      "execution_count": null,
      "metadata": {
        "colab": {
          "base_uri": "https://localhost:8080/"
        },
        "id": "hPz9GgfGqr4r",
        "outputId": "58b8192c-0b67-4b58-d5bd-b71c0cee89d3"
      },
      "outputs": [
        {
          "output_type": "stream",
          "name": "stdout",
          "text": [
            "                              Nome  Gênero   Ano\n",
            "Nomes                                           \n",
            "Spider-Man              Spider-Man    male  1962\n",
            "Captain America    Captain America    male  1941\n",
            "Wolverine                Wolverine    male  1974\n",
            "Iron Man                  Iron Man    male  1963\n",
            "Thor                          Thor    male  1963\n",
            "Thing                        Thing    male  1961\n",
            "Mister Fantastic  Mister Fantastic    male  1961\n",
            "Hulk                          Hulk    male  1962\n",
            "Beast                        Beast    male  1963\n",
            "Invisible Woman    Invisible Woman  female  1961\n",
            "Storm                        Storm  female  1975\n",
            "Namor                        Namor    male  1939\n",
            "Hawkeye                    Hawkeye    male  1964\n",
            "Daredevil                Daredevil    male  1964\n",
            "Doctor Strange      Doctor Strange    male  1963\n",
            "Hank Pym                  Hank Pym    male  1962\n",
            "Scarlet Witch        Scarlet Witch  female  1964\n",
            "Wasp                          Wasp  female  1963\n",
            "Black Widow            Black Widow  female  1964\n",
            "Vision                      Vision    male  1968\n"
          ]
        }
      ],
      "source": [
        "marvel_df.set_index('Nomes', inplace=True)\n",
        "print(marvel_df)"
      ]
    },
    {
      "cell_type": "markdown",
      "metadata": {
        "id": "TTyYKC5Lqr4r"
      },
      "source": [
        "#### Drop a coluna nome visto que agora ela é o index"
      ]
    },
    {
      "cell_type": "code",
      "execution_count": null,
      "metadata": {
        "colab": {
          "base_uri": "https://localhost:8080/"
        },
        "id": "6UOkH_zaqr4r",
        "outputId": "ae2fa603-e65a-4e46-9286-c51a8a96be6d"
      },
      "outputs": [
        {
          "output_type": "stream",
          "name": "stdout",
          "text": [
            "                  Gênero   Ano\n",
            "Nomes                         \n",
            "Spider-Man          male  1962\n",
            "Captain America     male  1941\n",
            "Wolverine           male  1974\n",
            "Iron Man            male  1963\n",
            "Thor                male  1963\n",
            "Thing               male  1961\n",
            "Mister Fantastic    male  1961\n",
            "Hulk                male  1962\n",
            "Beast               male  1963\n",
            "Invisible Woman   female  1961\n",
            "Storm             female  1975\n",
            "Namor               male  1939\n",
            "Hawkeye             male  1964\n",
            "Daredevil           male  1964\n",
            "Doctor Strange      male  1963\n",
            "Hank Pym            male  1962\n",
            "Scarlet Witch     female  1964\n",
            "Wasp              female  1963\n",
            "Black Widow       female  1964\n",
            "Vision              male  1968\n"
          ]
        }
      ],
      "source": [
        "if 'Nome' in marvel_df.columns:\n",
        "    marvel_df.drop(columns=['Nome'], inplace=True)\n",
        "    print(marvel_df)"
      ]
    },
    {
      "cell_type": "markdown",
      "metadata": {
        "id": "zELg3I1gqr4r"
      },
      "source": [
        "#### Drop Namor e Hank Pyn"
      ]
    },
    {
      "cell_type": "code",
      "execution_count": null,
      "metadata": {
        "colab": {
          "base_uri": "https://localhost:8080/"
        },
        "id": "PKtg3vCZqr4r",
        "outputId": "200150e3-31c2-4fba-cb8a-2d9e01b3983b"
      },
      "outputs": [
        {
          "output_type": "stream",
          "name": "stdout",
          "text": [
            "                  Gênero   Ano\n",
            "Nomes                         \n",
            "Spider-Man          male  1962\n",
            "Captain America     male  1941\n",
            "Wolverine           male  1974\n",
            "Iron Man            male  1963\n",
            "Thor                male  1963\n",
            "Thing               male  1961\n",
            "Mister Fantastic    male  1961\n",
            "Hulk                male  1962\n",
            "Beast               male  1963\n",
            "Invisible Woman   female  1961\n",
            "Storm             female  1975\n",
            "Hawkeye             male  1964\n",
            "Daredevil           male  1964\n",
            "Doctor Strange      male  1963\n",
            "Scarlet Witch     female  1964\n",
            "Wasp              female  1963\n",
            "Black Widow       female  1964\n",
            "Vision              male  1968\n"
          ]
        }
      ],
      "source": [
        "marvel_df.drop(index=['Namor', 'Hank Pym'], inplace=True)\n",
        "print(marvel_df)"
      ]
    },
    {
      "cell_type": "markdown",
      "metadata": {
        "id": "sgbGqZBTqr4r"
      },
      "source": [
        "\n",
        "## DataFrame selection, slicing and indexation"
      ]
    },
    {
      "cell_type": "markdown",
      "metadata": {
        "id": "KtFbbSRlqr4r"
      },
      "source": [
        "#### Mostre os primeiros 5 elementos do dataframe\n"
      ]
    },
    {
      "cell_type": "code",
      "execution_count": null,
      "metadata": {
        "colab": {
          "base_uri": "https://localhost:8080/",
          "height": 238
        },
        "id": "DN6uQhFOqr4s",
        "outputId": "37bf5bc8-f5d7-4254-b42c-675a3a9312cd"
      },
      "outputs": [
        {
          "output_type": "execute_result",
          "data": {
            "text/plain": [
              "                Gênero   Ano\n",
              "Nomes                       \n",
              "Spider-Man        male  1962\n",
              "Captain America   male  1941\n",
              "Wolverine         male  1974\n",
              "Iron Man          male  1963\n",
              "Thor              male  1963"
            ],
            "text/html": [
              "\n",
              "  <div id=\"df-d1faafca-e897-43f3-99a4-63e7abe2628e\" class=\"colab-df-container\">\n",
              "    <div>\n",
              "<style scoped>\n",
              "    .dataframe tbody tr th:only-of-type {\n",
              "        vertical-align: middle;\n",
              "    }\n",
              "\n",
              "    .dataframe tbody tr th {\n",
              "        vertical-align: top;\n",
              "    }\n",
              "\n",
              "    .dataframe thead th {\n",
              "        text-align: right;\n",
              "    }\n",
              "</style>\n",
              "<table border=\"1\" class=\"dataframe\">\n",
              "  <thead>\n",
              "    <tr style=\"text-align: right;\">\n",
              "      <th></th>\n",
              "      <th>Gênero</th>\n",
              "      <th>Ano</th>\n",
              "    </tr>\n",
              "    <tr>\n",
              "      <th>Nomes</th>\n",
              "      <th></th>\n",
              "      <th></th>\n",
              "    </tr>\n",
              "  </thead>\n",
              "  <tbody>\n",
              "    <tr>\n",
              "      <th>Spider-Man</th>\n",
              "      <td>male</td>\n",
              "      <td>1962</td>\n",
              "    </tr>\n",
              "    <tr>\n",
              "      <th>Captain America</th>\n",
              "      <td>male</td>\n",
              "      <td>1941</td>\n",
              "    </tr>\n",
              "    <tr>\n",
              "      <th>Wolverine</th>\n",
              "      <td>male</td>\n",
              "      <td>1974</td>\n",
              "    </tr>\n",
              "    <tr>\n",
              "      <th>Iron Man</th>\n",
              "      <td>male</td>\n",
              "      <td>1963</td>\n",
              "    </tr>\n",
              "    <tr>\n",
              "      <th>Thor</th>\n",
              "      <td>male</td>\n",
              "      <td>1963</td>\n",
              "    </tr>\n",
              "  </tbody>\n",
              "</table>\n",
              "</div>\n",
              "    <div class=\"colab-df-buttons\">\n",
              "\n",
              "  <div class=\"colab-df-container\">\n",
              "    <button class=\"colab-df-convert\" onclick=\"convertToInteractive('df-d1faafca-e897-43f3-99a4-63e7abe2628e')\"\n",
              "            title=\"Convert this dataframe to an interactive table.\"\n",
              "            style=\"display:none;\">\n",
              "\n",
              "  <svg xmlns=\"http://www.w3.org/2000/svg\" height=\"24px\" viewBox=\"0 -960 960 960\">\n",
              "    <path d=\"M120-120v-720h720v720H120Zm60-500h600v-160H180v160Zm220 220h160v-160H400v160Zm0 220h160v-160H400v160ZM180-400h160v-160H180v160Zm440 0h160v-160H620v160ZM180-180h160v-160H180v160Zm440 0h160v-160H620v160Z\"/>\n",
              "  </svg>\n",
              "    </button>\n",
              "\n",
              "  <style>\n",
              "    .colab-df-container {\n",
              "      display:flex;\n",
              "      gap: 12px;\n",
              "    }\n",
              "\n",
              "    .colab-df-convert {\n",
              "      background-color: #E8F0FE;\n",
              "      border: none;\n",
              "      border-radius: 50%;\n",
              "      cursor: pointer;\n",
              "      display: none;\n",
              "      fill: #1967D2;\n",
              "      height: 32px;\n",
              "      padding: 0 0 0 0;\n",
              "      width: 32px;\n",
              "    }\n",
              "\n",
              "    .colab-df-convert:hover {\n",
              "      background-color: #E2EBFA;\n",
              "      box-shadow: 0px 1px 2px rgba(60, 64, 67, 0.3), 0px 1px 3px 1px rgba(60, 64, 67, 0.15);\n",
              "      fill: #174EA6;\n",
              "    }\n",
              "\n",
              "    .colab-df-buttons div {\n",
              "      margin-bottom: 4px;\n",
              "    }\n",
              "\n",
              "    [theme=dark] .colab-df-convert {\n",
              "      background-color: #3B4455;\n",
              "      fill: #D2E3FC;\n",
              "    }\n",
              "\n",
              "    [theme=dark] .colab-df-convert:hover {\n",
              "      background-color: #434B5C;\n",
              "      box-shadow: 0px 1px 3px 1px rgba(0, 0, 0, 0.15);\n",
              "      filter: drop-shadow(0px 1px 2px rgba(0, 0, 0, 0.3));\n",
              "      fill: #FFFFFF;\n",
              "    }\n",
              "  </style>\n",
              "\n",
              "    <script>\n",
              "      const buttonEl =\n",
              "        document.querySelector('#df-d1faafca-e897-43f3-99a4-63e7abe2628e button.colab-df-convert');\n",
              "      buttonEl.style.display =\n",
              "        google.colab.kernel.accessAllowed ? 'block' : 'none';\n",
              "\n",
              "      async function convertToInteractive(key) {\n",
              "        const element = document.querySelector('#df-d1faafca-e897-43f3-99a4-63e7abe2628e');\n",
              "        const dataTable =\n",
              "          await google.colab.kernel.invokeFunction('convertToInteractive',\n",
              "                                                    [key], {});\n",
              "        if (!dataTable) return;\n",
              "\n",
              "        const docLinkHtml = 'Like what you see? Visit the ' +\n",
              "          '<a target=\"_blank\" href=https://colab.research.google.com/notebooks/data_table.ipynb>data table notebook</a>'\n",
              "          + ' to learn more about interactive tables.';\n",
              "        element.innerHTML = '';\n",
              "        dataTable['output_type'] = 'display_data';\n",
              "        await google.colab.output.renderOutput(dataTable, element);\n",
              "        const docLink = document.createElement('div');\n",
              "        docLink.innerHTML = docLinkHtml;\n",
              "        element.appendChild(docLink);\n",
              "      }\n",
              "    </script>\n",
              "  </div>\n",
              "\n",
              "\n",
              "<div id=\"df-b17f9dbb-c8de-4644-9031-30699dc4cebf\">\n",
              "  <button class=\"colab-df-quickchart\" onclick=\"quickchart('df-b17f9dbb-c8de-4644-9031-30699dc4cebf')\"\n",
              "            title=\"Suggest charts\"\n",
              "            style=\"display:none;\">\n",
              "\n",
              "<svg xmlns=\"http://www.w3.org/2000/svg\" height=\"24px\"viewBox=\"0 0 24 24\"\n",
              "     width=\"24px\">\n",
              "    <g>\n",
              "        <path d=\"M19 3H5c-1.1 0-2 .9-2 2v14c0 1.1.9 2 2 2h14c1.1 0 2-.9 2-2V5c0-1.1-.9-2-2-2zM9 17H7v-7h2v7zm4 0h-2V7h2v10zm4 0h-2v-4h2v4z\"/>\n",
              "    </g>\n",
              "</svg>\n",
              "  </button>\n",
              "\n",
              "<style>\n",
              "  .colab-df-quickchart {\n",
              "      --bg-color: #E8F0FE;\n",
              "      --fill-color: #1967D2;\n",
              "      --hover-bg-color: #E2EBFA;\n",
              "      --hover-fill-color: #174EA6;\n",
              "      --disabled-fill-color: #AAA;\n",
              "      --disabled-bg-color: #DDD;\n",
              "  }\n",
              "\n",
              "  [theme=dark] .colab-df-quickchart {\n",
              "      --bg-color: #3B4455;\n",
              "      --fill-color: #D2E3FC;\n",
              "      --hover-bg-color: #434B5C;\n",
              "      --hover-fill-color: #FFFFFF;\n",
              "      --disabled-bg-color: #3B4455;\n",
              "      --disabled-fill-color: #666;\n",
              "  }\n",
              "\n",
              "  .colab-df-quickchart {\n",
              "    background-color: var(--bg-color);\n",
              "    border: none;\n",
              "    border-radius: 50%;\n",
              "    cursor: pointer;\n",
              "    display: none;\n",
              "    fill: var(--fill-color);\n",
              "    height: 32px;\n",
              "    padding: 0;\n",
              "    width: 32px;\n",
              "  }\n",
              "\n",
              "  .colab-df-quickchart:hover {\n",
              "    background-color: var(--hover-bg-color);\n",
              "    box-shadow: 0 1px 2px rgba(60, 64, 67, 0.3), 0 1px 3px 1px rgba(60, 64, 67, 0.15);\n",
              "    fill: var(--button-hover-fill-color);\n",
              "  }\n",
              "\n",
              "  .colab-df-quickchart-complete:disabled,\n",
              "  .colab-df-quickchart-complete:disabled:hover {\n",
              "    background-color: var(--disabled-bg-color);\n",
              "    fill: var(--disabled-fill-color);\n",
              "    box-shadow: none;\n",
              "  }\n",
              "\n",
              "  .colab-df-spinner {\n",
              "    border: 2px solid var(--fill-color);\n",
              "    border-color: transparent;\n",
              "    border-bottom-color: var(--fill-color);\n",
              "    animation:\n",
              "      spin 1s steps(1) infinite;\n",
              "  }\n",
              "\n",
              "  @keyframes spin {\n",
              "    0% {\n",
              "      border-color: transparent;\n",
              "      border-bottom-color: var(--fill-color);\n",
              "      border-left-color: var(--fill-color);\n",
              "    }\n",
              "    20% {\n",
              "      border-color: transparent;\n",
              "      border-left-color: var(--fill-color);\n",
              "      border-top-color: var(--fill-color);\n",
              "    }\n",
              "    30% {\n",
              "      border-color: transparent;\n",
              "      border-left-color: var(--fill-color);\n",
              "      border-top-color: var(--fill-color);\n",
              "      border-right-color: var(--fill-color);\n",
              "    }\n",
              "    40% {\n",
              "      border-color: transparent;\n",
              "      border-right-color: var(--fill-color);\n",
              "      border-top-color: var(--fill-color);\n",
              "    }\n",
              "    60% {\n",
              "      border-color: transparent;\n",
              "      border-right-color: var(--fill-color);\n",
              "    }\n",
              "    80% {\n",
              "      border-color: transparent;\n",
              "      border-right-color: var(--fill-color);\n",
              "      border-bottom-color: var(--fill-color);\n",
              "    }\n",
              "    90% {\n",
              "      border-color: transparent;\n",
              "      border-bottom-color: var(--fill-color);\n",
              "    }\n",
              "  }\n",
              "</style>\n",
              "\n",
              "  <script>\n",
              "    async function quickchart(key) {\n",
              "      const quickchartButtonEl =\n",
              "        document.querySelector('#' + key + ' button');\n",
              "      quickchartButtonEl.disabled = true;  // To prevent multiple clicks.\n",
              "      quickchartButtonEl.classList.add('colab-df-spinner');\n",
              "      try {\n",
              "        const charts = await google.colab.kernel.invokeFunction(\n",
              "            'suggestCharts', [key], {});\n",
              "      } catch (error) {\n",
              "        console.error('Error during call to suggestCharts:', error);\n",
              "      }\n",
              "      quickchartButtonEl.classList.remove('colab-df-spinner');\n",
              "      quickchartButtonEl.classList.add('colab-df-quickchart-complete');\n",
              "    }\n",
              "    (() => {\n",
              "      let quickchartButtonEl =\n",
              "        document.querySelector('#df-b17f9dbb-c8de-4644-9031-30699dc4cebf button');\n",
              "      quickchartButtonEl.style.display =\n",
              "        google.colab.kernel.accessAllowed ? 'block' : 'none';\n",
              "    })();\n",
              "  </script>\n",
              "</div>\n",
              "\n",
              "    </div>\n",
              "  </div>\n"
            ]
          },
          "metadata": {},
          "execution_count": 9
        }
      ],
      "source": [
        "marvel_df.head(5)"
      ]
    },
    {
      "cell_type": "markdown",
      "metadata": {
        "id": "TsU3lPbsqr4s"
      },
      "source": [
        "\n",
        "#### Mostre os 4 últimos elementos do dataframe"
      ]
    },
    {
      "cell_type": "code",
      "execution_count": null,
      "metadata": {
        "colab": {
          "base_uri": "https://localhost:8080/",
          "height": 206
        },
        "id": "xz6rVhmEqr4s",
        "outputId": "f604f3b3-f031-4ef0-8729-914d6ca501e5"
      },
      "outputs": [
        {
          "output_type": "execute_result",
          "data": {
            "text/plain": [
              "               Gênero   Ano\n",
              "Nomes                      \n",
              "Scarlet Witch  female  1964\n",
              "Wasp           female  1963\n",
              "Black Widow    female  1964\n",
              "Vision           male  1968"
            ],
            "text/html": [
              "\n",
              "  <div id=\"df-e0f3c601-5cdc-4d19-92f4-958a4c474603\" class=\"colab-df-container\">\n",
              "    <div>\n",
              "<style scoped>\n",
              "    .dataframe tbody tr th:only-of-type {\n",
              "        vertical-align: middle;\n",
              "    }\n",
              "\n",
              "    .dataframe tbody tr th {\n",
              "        vertical-align: top;\n",
              "    }\n",
              "\n",
              "    .dataframe thead th {\n",
              "        text-align: right;\n",
              "    }\n",
              "</style>\n",
              "<table border=\"1\" class=\"dataframe\">\n",
              "  <thead>\n",
              "    <tr style=\"text-align: right;\">\n",
              "      <th></th>\n",
              "      <th>Gênero</th>\n",
              "      <th>Ano</th>\n",
              "    </tr>\n",
              "    <tr>\n",
              "      <th>Nomes</th>\n",
              "      <th></th>\n",
              "      <th></th>\n",
              "    </tr>\n",
              "  </thead>\n",
              "  <tbody>\n",
              "    <tr>\n",
              "      <th>Scarlet Witch</th>\n",
              "      <td>female</td>\n",
              "      <td>1964</td>\n",
              "    </tr>\n",
              "    <tr>\n",
              "      <th>Wasp</th>\n",
              "      <td>female</td>\n",
              "      <td>1963</td>\n",
              "    </tr>\n",
              "    <tr>\n",
              "      <th>Black Widow</th>\n",
              "      <td>female</td>\n",
              "      <td>1964</td>\n",
              "    </tr>\n",
              "    <tr>\n",
              "      <th>Vision</th>\n",
              "      <td>male</td>\n",
              "      <td>1968</td>\n",
              "    </tr>\n",
              "  </tbody>\n",
              "</table>\n",
              "</div>\n",
              "    <div class=\"colab-df-buttons\">\n",
              "\n",
              "  <div class=\"colab-df-container\">\n",
              "    <button class=\"colab-df-convert\" onclick=\"convertToInteractive('df-e0f3c601-5cdc-4d19-92f4-958a4c474603')\"\n",
              "            title=\"Convert this dataframe to an interactive table.\"\n",
              "            style=\"display:none;\">\n",
              "\n",
              "  <svg xmlns=\"http://www.w3.org/2000/svg\" height=\"24px\" viewBox=\"0 -960 960 960\">\n",
              "    <path d=\"M120-120v-720h720v720H120Zm60-500h600v-160H180v160Zm220 220h160v-160H400v160Zm0 220h160v-160H400v160ZM180-400h160v-160H180v160Zm440 0h160v-160H620v160ZM180-180h160v-160H180v160Zm440 0h160v-160H620v160Z\"/>\n",
              "  </svg>\n",
              "    </button>\n",
              "\n",
              "  <style>\n",
              "    .colab-df-container {\n",
              "      display:flex;\n",
              "      gap: 12px;\n",
              "    }\n",
              "\n",
              "    .colab-df-convert {\n",
              "      background-color: #E8F0FE;\n",
              "      border: none;\n",
              "      border-radius: 50%;\n",
              "      cursor: pointer;\n",
              "      display: none;\n",
              "      fill: #1967D2;\n",
              "      height: 32px;\n",
              "      padding: 0 0 0 0;\n",
              "      width: 32px;\n",
              "    }\n",
              "\n",
              "    .colab-df-convert:hover {\n",
              "      background-color: #E2EBFA;\n",
              "      box-shadow: 0px 1px 2px rgba(60, 64, 67, 0.3), 0px 1px 3px 1px rgba(60, 64, 67, 0.15);\n",
              "      fill: #174EA6;\n",
              "    }\n",
              "\n",
              "    .colab-df-buttons div {\n",
              "      margin-bottom: 4px;\n",
              "    }\n",
              "\n",
              "    [theme=dark] .colab-df-convert {\n",
              "      background-color: #3B4455;\n",
              "      fill: #D2E3FC;\n",
              "    }\n",
              "\n",
              "    [theme=dark] .colab-df-convert:hover {\n",
              "      background-color: #434B5C;\n",
              "      box-shadow: 0px 1px 3px 1px rgba(0, 0, 0, 0.15);\n",
              "      filter: drop-shadow(0px 1px 2px rgba(0, 0, 0, 0.3));\n",
              "      fill: #FFFFFF;\n",
              "    }\n",
              "  </style>\n",
              "\n",
              "    <script>\n",
              "      const buttonEl =\n",
              "        document.querySelector('#df-e0f3c601-5cdc-4d19-92f4-958a4c474603 button.colab-df-convert');\n",
              "      buttonEl.style.display =\n",
              "        google.colab.kernel.accessAllowed ? 'block' : 'none';\n",
              "\n",
              "      async function convertToInteractive(key) {\n",
              "        const element = document.querySelector('#df-e0f3c601-5cdc-4d19-92f4-958a4c474603');\n",
              "        const dataTable =\n",
              "          await google.colab.kernel.invokeFunction('convertToInteractive',\n",
              "                                                    [key], {});\n",
              "        if (!dataTable) return;\n",
              "\n",
              "        const docLinkHtml = 'Like what you see? Visit the ' +\n",
              "          '<a target=\"_blank\" href=https://colab.research.google.com/notebooks/data_table.ipynb>data table notebook</a>'\n",
              "          + ' to learn more about interactive tables.';\n",
              "        element.innerHTML = '';\n",
              "        dataTable['output_type'] = 'display_data';\n",
              "        await google.colab.output.renderOutput(dataTable, element);\n",
              "        const docLink = document.createElement('div');\n",
              "        docLink.innerHTML = docLinkHtml;\n",
              "        element.appendChild(docLink);\n",
              "      }\n",
              "    </script>\n",
              "  </div>\n",
              "\n",
              "\n",
              "<div id=\"df-efe10d5c-3faa-4ece-a254-5338498fae73\">\n",
              "  <button class=\"colab-df-quickchart\" onclick=\"quickchart('df-efe10d5c-3faa-4ece-a254-5338498fae73')\"\n",
              "            title=\"Suggest charts\"\n",
              "            style=\"display:none;\">\n",
              "\n",
              "<svg xmlns=\"http://www.w3.org/2000/svg\" height=\"24px\"viewBox=\"0 0 24 24\"\n",
              "     width=\"24px\">\n",
              "    <g>\n",
              "        <path d=\"M19 3H5c-1.1 0-2 .9-2 2v14c0 1.1.9 2 2 2h14c1.1 0 2-.9 2-2V5c0-1.1-.9-2-2-2zM9 17H7v-7h2v7zm4 0h-2V7h2v10zm4 0h-2v-4h2v4z\"/>\n",
              "    </g>\n",
              "</svg>\n",
              "  </button>\n",
              "\n",
              "<style>\n",
              "  .colab-df-quickchart {\n",
              "      --bg-color: #E8F0FE;\n",
              "      --fill-color: #1967D2;\n",
              "      --hover-bg-color: #E2EBFA;\n",
              "      --hover-fill-color: #174EA6;\n",
              "      --disabled-fill-color: #AAA;\n",
              "      --disabled-bg-color: #DDD;\n",
              "  }\n",
              "\n",
              "  [theme=dark] .colab-df-quickchart {\n",
              "      --bg-color: #3B4455;\n",
              "      --fill-color: #D2E3FC;\n",
              "      --hover-bg-color: #434B5C;\n",
              "      --hover-fill-color: #FFFFFF;\n",
              "      --disabled-bg-color: #3B4455;\n",
              "      --disabled-fill-color: #666;\n",
              "  }\n",
              "\n",
              "  .colab-df-quickchart {\n",
              "    background-color: var(--bg-color);\n",
              "    border: none;\n",
              "    border-radius: 50%;\n",
              "    cursor: pointer;\n",
              "    display: none;\n",
              "    fill: var(--fill-color);\n",
              "    height: 32px;\n",
              "    padding: 0;\n",
              "    width: 32px;\n",
              "  }\n",
              "\n",
              "  .colab-df-quickchart:hover {\n",
              "    background-color: var(--hover-bg-color);\n",
              "    box-shadow: 0 1px 2px rgba(60, 64, 67, 0.3), 0 1px 3px 1px rgba(60, 64, 67, 0.15);\n",
              "    fill: var(--button-hover-fill-color);\n",
              "  }\n",
              "\n",
              "  .colab-df-quickchart-complete:disabled,\n",
              "  .colab-df-quickchart-complete:disabled:hover {\n",
              "    background-color: var(--disabled-bg-color);\n",
              "    fill: var(--disabled-fill-color);\n",
              "    box-shadow: none;\n",
              "  }\n",
              "\n",
              "  .colab-df-spinner {\n",
              "    border: 2px solid var(--fill-color);\n",
              "    border-color: transparent;\n",
              "    border-bottom-color: var(--fill-color);\n",
              "    animation:\n",
              "      spin 1s steps(1) infinite;\n",
              "  }\n",
              "\n",
              "  @keyframes spin {\n",
              "    0% {\n",
              "      border-color: transparent;\n",
              "      border-bottom-color: var(--fill-color);\n",
              "      border-left-color: var(--fill-color);\n",
              "    }\n",
              "    20% {\n",
              "      border-color: transparent;\n",
              "      border-left-color: var(--fill-color);\n",
              "      border-top-color: var(--fill-color);\n",
              "    }\n",
              "    30% {\n",
              "      border-color: transparent;\n",
              "      border-left-color: var(--fill-color);\n",
              "      border-top-color: var(--fill-color);\n",
              "      border-right-color: var(--fill-color);\n",
              "    }\n",
              "    40% {\n",
              "      border-color: transparent;\n",
              "      border-right-color: var(--fill-color);\n",
              "      border-top-color: var(--fill-color);\n",
              "    }\n",
              "    60% {\n",
              "      border-color: transparent;\n",
              "      border-right-color: var(--fill-color);\n",
              "    }\n",
              "    80% {\n",
              "      border-color: transparent;\n",
              "      border-right-color: var(--fill-color);\n",
              "      border-bottom-color: var(--fill-color);\n",
              "    }\n",
              "    90% {\n",
              "      border-color: transparent;\n",
              "      border-bottom-color: var(--fill-color);\n",
              "    }\n",
              "  }\n",
              "</style>\n",
              "\n",
              "  <script>\n",
              "    async function quickchart(key) {\n",
              "      const quickchartButtonEl =\n",
              "        document.querySelector('#' + key + ' button');\n",
              "      quickchartButtonEl.disabled = true;  // To prevent multiple clicks.\n",
              "      quickchartButtonEl.classList.add('colab-df-spinner');\n",
              "      try {\n",
              "        const charts = await google.colab.kernel.invokeFunction(\n",
              "            'suggestCharts', [key], {});\n",
              "      } catch (error) {\n",
              "        console.error('Error during call to suggestCharts:', error);\n",
              "      }\n",
              "      quickchartButtonEl.classList.remove('colab-df-spinner');\n",
              "      quickchartButtonEl.classList.add('colab-df-quickchart-complete');\n",
              "    }\n",
              "    (() => {\n",
              "      let quickchartButtonEl =\n",
              "        document.querySelector('#df-efe10d5c-3faa-4ece-a254-5338498fae73 button');\n",
              "      quickchartButtonEl.style.display =\n",
              "        google.colab.kernel.accessAllowed ? 'block' : 'none';\n",
              "    })();\n",
              "  </script>\n",
              "</div>\n",
              "\n",
              "    </div>\n",
              "  </div>\n"
            ]
          },
          "metadata": {},
          "execution_count": 10
        }
      ],
      "source": [
        "marvel_df.tail(4)"
      ]
    },
    {
      "cell_type": "markdown",
      "metadata": {
        "id": "_ggpB_bbqr4s"
      },
      "source": [
        "\n",
        "#### Mostre somente o sexto dos 5 primeiros elementos do DF `marvel_df`"
      ]
    },
    {
      "cell_type": "code",
      "execution_count": null,
      "metadata": {
        "colab": {
          "base_uri": "https://localhost:8080/"
        },
        "id": "b3rj1TCcqr4s",
        "outputId": "3f745e02-ecae-4261-b2b2-402829ddc06f"
      },
      "outputs": [
        {
          "output_type": "execute_result",
          "data": {
            "text/plain": [
              "Gênero    male\n",
              "Ano       1961\n",
              "Name: Thing, dtype: object"
            ]
          },
          "metadata": {},
          "execution_count": 11
        }
      ],
      "source": [
        "marvel_df.head(6).iloc[-1]"
      ]
    },
    {
      "cell_type": "markdown",
      "metadata": {
        "id": "fTBldXXIqr4s"
      },
      "source": [
        "\n",
        "#### Mostre a primeira aparição dos elementos do meio `marvel_df`"
      ]
    },
    {
      "cell_type": "code",
      "execution_count": null,
      "metadata": {
        "colab": {
          "base_uri": "https://localhost:8080/"
        },
        "id": "3KNz9RILqr4s",
        "outputId": "30f929c6-a333-473b-de64-2e30f6ae5728"
      },
      "outputs": [
        {
          "output_type": "stream",
          "name": "stdout",
          "text": [
            "Gênero    female\n",
            "Ano         1961\n",
            "Name: Invisible Woman, dtype: object\n"
          ]
        }
      ],
      "source": [
        "meio_idx = len(marvel_df) // 2\n",
        "print(marvel_df.iloc[meio_idx])"
      ]
    },
    {
      "cell_type": "markdown",
      "metadata": {
        "id": "slWRP-7nqr4s"
      },
      "source": [
        "#### Mostre os primeiros e últimos elementos `marvel_df`\n"
      ]
    },
    {
      "cell_type": "code",
      "execution_count": null,
      "metadata": {
        "colab": {
          "base_uri": "https://localhost:8080/",
          "height": 143
        },
        "id": "XCRBfUscqr4t",
        "outputId": "48895b51-4223-4541-de1f-4e8e3c3df3d4"
      },
      "outputs": [
        {
          "output_type": "execute_result",
          "data": {
            "text/plain": [
              "           Gênero   Ano\n",
              "Nomes                  \n",
              "Spider-Man   male  1962\n",
              "Vision       male  1968"
            ],
            "text/html": [
              "\n",
              "  <div id=\"df-0f07ea06-f240-4077-8257-b3774b65842e\" class=\"colab-df-container\">\n",
              "    <div>\n",
              "<style scoped>\n",
              "    .dataframe tbody tr th:only-of-type {\n",
              "        vertical-align: middle;\n",
              "    }\n",
              "\n",
              "    .dataframe tbody tr th {\n",
              "        vertical-align: top;\n",
              "    }\n",
              "\n",
              "    .dataframe thead th {\n",
              "        text-align: right;\n",
              "    }\n",
              "</style>\n",
              "<table border=\"1\" class=\"dataframe\">\n",
              "  <thead>\n",
              "    <tr style=\"text-align: right;\">\n",
              "      <th></th>\n",
              "      <th>Gênero</th>\n",
              "      <th>Ano</th>\n",
              "    </tr>\n",
              "    <tr>\n",
              "      <th>Nomes</th>\n",
              "      <th></th>\n",
              "      <th></th>\n",
              "    </tr>\n",
              "  </thead>\n",
              "  <tbody>\n",
              "    <tr>\n",
              "      <th>Spider-Man</th>\n",
              "      <td>male</td>\n",
              "      <td>1962</td>\n",
              "    </tr>\n",
              "    <tr>\n",
              "      <th>Vision</th>\n",
              "      <td>male</td>\n",
              "      <td>1968</td>\n",
              "    </tr>\n",
              "  </tbody>\n",
              "</table>\n",
              "</div>\n",
              "    <div class=\"colab-df-buttons\">\n",
              "\n",
              "  <div class=\"colab-df-container\">\n",
              "    <button class=\"colab-df-convert\" onclick=\"convertToInteractive('df-0f07ea06-f240-4077-8257-b3774b65842e')\"\n",
              "            title=\"Convert this dataframe to an interactive table.\"\n",
              "            style=\"display:none;\">\n",
              "\n",
              "  <svg xmlns=\"http://www.w3.org/2000/svg\" height=\"24px\" viewBox=\"0 -960 960 960\">\n",
              "    <path d=\"M120-120v-720h720v720H120Zm60-500h600v-160H180v160Zm220 220h160v-160H400v160Zm0 220h160v-160H400v160ZM180-400h160v-160H180v160Zm440 0h160v-160H620v160ZM180-180h160v-160H180v160Zm440 0h160v-160H620v160Z\"/>\n",
              "  </svg>\n",
              "    </button>\n",
              "\n",
              "  <style>\n",
              "    .colab-df-container {\n",
              "      display:flex;\n",
              "      gap: 12px;\n",
              "    }\n",
              "\n",
              "    .colab-df-convert {\n",
              "      background-color: #E8F0FE;\n",
              "      border: none;\n",
              "      border-radius: 50%;\n",
              "      cursor: pointer;\n",
              "      display: none;\n",
              "      fill: #1967D2;\n",
              "      height: 32px;\n",
              "      padding: 0 0 0 0;\n",
              "      width: 32px;\n",
              "    }\n",
              "\n",
              "    .colab-df-convert:hover {\n",
              "      background-color: #E2EBFA;\n",
              "      box-shadow: 0px 1px 2px rgba(60, 64, 67, 0.3), 0px 1px 3px 1px rgba(60, 64, 67, 0.15);\n",
              "      fill: #174EA6;\n",
              "    }\n",
              "\n",
              "    .colab-df-buttons div {\n",
              "      margin-bottom: 4px;\n",
              "    }\n",
              "\n",
              "    [theme=dark] .colab-df-convert {\n",
              "      background-color: #3B4455;\n",
              "      fill: #D2E3FC;\n",
              "    }\n",
              "\n",
              "    [theme=dark] .colab-df-convert:hover {\n",
              "      background-color: #434B5C;\n",
              "      box-shadow: 0px 1px 3px 1px rgba(0, 0, 0, 0.15);\n",
              "      filter: drop-shadow(0px 1px 2px rgba(0, 0, 0, 0.3));\n",
              "      fill: #FFFFFF;\n",
              "    }\n",
              "  </style>\n",
              "\n",
              "    <script>\n",
              "      const buttonEl =\n",
              "        document.querySelector('#df-0f07ea06-f240-4077-8257-b3774b65842e button.colab-df-convert');\n",
              "      buttonEl.style.display =\n",
              "        google.colab.kernel.accessAllowed ? 'block' : 'none';\n",
              "\n",
              "      async function convertToInteractive(key) {\n",
              "        const element = document.querySelector('#df-0f07ea06-f240-4077-8257-b3774b65842e');\n",
              "        const dataTable =\n",
              "          await google.colab.kernel.invokeFunction('convertToInteractive',\n",
              "                                                    [key], {});\n",
              "        if (!dataTable) return;\n",
              "\n",
              "        const docLinkHtml = 'Like what you see? Visit the ' +\n",
              "          '<a target=\"_blank\" href=https://colab.research.google.com/notebooks/data_table.ipynb>data table notebook</a>'\n",
              "          + ' to learn more about interactive tables.';\n",
              "        element.innerHTML = '';\n",
              "        dataTable['output_type'] = 'display_data';\n",
              "        await google.colab.output.renderOutput(dataTable, element);\n",
              "        const docLink = document.createElement('div');\n",
              "        docLink.innerHTML = docLinkHtml;\n",
              "        element.appendChild(docLink);\n",
              "      }\n",
              "    </script>\n",
              "  </div>\n",
              "\n",
              "\n",
              "<div id=\"df-2b140581-6f61-47c1-b5c8-7139488268dc\">\n",
              "  <button class=\"colab-df-quickchart\" onclick=\"quickchart('df-2b140581-6f61-47c1-b5c8-7139488268dc')\"\n",
              "            title=\"Suggest charts\"\n",
              "            style=\"display:none;\">\n",
              "\n",
              "<svg xmlns=\"http://www.w3.org/2000/svg\" height=\"24px\"viewBox=\"0 0 24 24\"\n",
              "     width=\"24px\">\n",
              "    <g>\n",
              "        <path d=\"M19 3H5c-1.1 0-2 .9-2 2v14c0 1.1.9 2 2 2h14c1.1 0 2-.9 2-2V5c0-1.1-.9-2-2-2zM9 17H7v-7h2v7zm4 0h-2V7h2v10zm4 0h-2v-4h2v4z\"/>\n",
              "    </g>\n",
              "</svg>\n",
              "  </button>\n",
              "\n",
              "<style>\n",
              "  .colab-df-quickchart {\n",
              "      --bg-color: #E8F0FE;\n",
              "      --fill-color: #1967D2;\n",
              "      --hover-bg-color: #E2EBFA;\n",
              "      --hover-fill-color: #174EA6;\n",
              "      --disabled-fill-color: #AAA;\n",
              "      --disabled-bg-color: #DDD;\n",
              "  }\n",
              "\n",
              "  [theme=dark] .colab-df-quickchart {\n",
              "      --bg-color: #3B4455;\n",
              "      --fill-color: #D2E3FC;\n",
              "      --hover-bg-color: #434B5C;\n",
              "      --hover-fill-color: #FFFFFF;\n",
              "      --disabled-bg-color: #3B4455;\n",
              "      --disabled-fill-color: #666;\n",
              "  }\n",
              "\n",
              "  .colab-df-quickchart {\n",
              "    background-color: var(--bg-color);\n",
              "    border: none;\n",
              "    border-radius: 50%;\n",
              "    cursor: pointer;\n",
              "    display: none;\n",
              "    fill: var(--fill-color);\n",
              "    height: 32px;\n",
              "    padding: 0;\n",
              "    width: 32px;\n",
              "  }\n",
              "\n",
              "  .colab-df-quickchart:hover {\n",
              "    background-color: var(--hover-bg-color);\n",
              "    box-shadow: 0 1px 2px rgba(60, 64, 67, 0.3), 0 1px 3px 1px rgba(60, 64, 67, 0.15);\n",
              "    fill: var(--button-hover-fill-color);\n",
              "  }\n",
              "\n",
              "  .colab-df-quickchart-complete:disabled,\n",
              "  .colab-df-quickchart-complete:disabled:hover {\n",
              "    background-color: var(--disabled-bg-color);\n",
              "    fill: var(--disabled-fill-color);\n",
              "    box-shadow: none;\n",
              "  }\n",
              "\n",
              "  .colab-df-spinner {\n",
              "    border: 2px solid var(--fill-color);\n",
              "    border-color: transparent;\n",
              "    border-bottom-color: var(--fill-color);\n",
              "    animation:\n",
              "      spin 1s steps(1) infinite;\n",
              "  }\n",
              "\n",
              "  @keyframes spin {\n",
              "    0% {\n",
              "      border-color: transparent;\n",
              "      border-bottom-color: var(--fill-color);\n",
              "      border-left-color: var(--fill-color);\n",
              "    }\n",
              "    20% {\n",
              "      border-color: transparent;\n",
              "      border-left-color: var(--fill-color);\n",
              "      border-top-color: var(--fill-color);\n",
              "    }\n",
              "    30% {\n",
              "      border-color: transparent;\n",
              "      border-left-color: var(--fill-color);\n",
              "      border-top-color: var(--fill-color);\n",
              "      border-right-color: var(--fill-color);\n",
              "    }\n",
              "    40% {\n",
              "      border-color: transparent;\n",
              "      border-right-color: var(--fill-color);\n",
              "      border-top-color: var(--fill-color);\n",
              "    }\n",
              "    60% {\n",
              "      border-color: transparent;\n",
              "      border-right-color: var(--fill-color);\n",
              "    }\n",
              "    80% {\n",
              "      border-color: transparent;\n",
              "      border-right-color: var(--fill-color);\n",
              "      border-bottom-color: var(--fill-color);\n",
              "    }\n",
              "    90% {\n",
              "      border-color: transparent;\n",
              "      border-bottom-color: var(--fill-color);\n",
              "    }\n",
              "  }\n",
              "</style>\n",
              "\n",
              "  <script>\n",
              "    async function quickchart(key) {\n",
              "      const quickchartButtonEl =\n",
              "        document.querySelector('#' + key + ' button');\n",
              "      quickchartButtonEl.disabled = true;  // To prevent multiple clicks.\n",
              "      quickchartButtonEl.classList.add('colab-df-spinner');\n",
              "      try {\n",
              "        const charts = await google.colab.kernel.invokeFunction(\n",
              "            'suggestCharts', [key], {});\n",
              "      } catch (error) {\n",
              "        console.error('Error during call to suggestCharts:', error);\n",
              "      }\n",
              "      quickchartButtonEl.classList.remove('colab-df-spinner');\n",
              "      quickchartButtonEl.classList.add('colab-df-quickchart-complete');\n",
              "    }\n",
              "    (() => {\n",
              "      let quickchartButtonEl =\n",
              "        document.querySelector('#df-2b140581-6f61-47c1-b5c8-7139488268dc button');\n",
              "      quickchartButtonEl.style.display =\n",
              "        google.colab.kernel.accessAllowed ? 'block' : 'none';\n",
              "    })();\n",
              "  </script>\n",
              "</div>\n",
              "\n",
              "    </div>\n",
              "  </div>\n"
            ]
          },
          "metadata": {},
          "execution_count": 13
        }
      ],
      "source": [
        "marvel_df.iloc[[0, -1]]"
      ]
    },
    {
      "cell_type": "markdown",
      "metadata": {
        "id": "SyKcxYeeqr4t"
      },
      "source": [
        "## DataFrame manipulação e operação"
      ]
    },
    {
      "cell_type": "markdown",
      "metadata": {
        "id": "l58ZLb7uqr4t"
      },
      "source": [
        "#### Modifique a  `first_appearance` do 'Vision' para o ano 1964"
      ]
    },
    {
      "cell_type": "code",
      "execution_count": null,
      "metadata": {
        "colab": {
          "base_uri": "https://localhost:8080/"
        },
        "id": "Q8dZ7G8pqr4t",
        "outputId": "2073071a-ea6f-4dab-f65f-3725c8d826b1"
      },
      "outputs": [
        {
          "output_type": "stream",
          "name": "stdout",
          "text": [
            "                  Gênero   Ano  Ano de Estreia\n",
            "Nomes                                         \n",
            "Spider-Man          male  1962             NaN\n",
            "Captain America     male  1941             NaN\n",
            "Wolverine           male  1974             NaN\n",
            "Iron Man            male  1963             NaN\n",
            "Thor                male  1963             NaN\n",
            "Thing               male  1961             NaN\n",
            "Mister Fantastic    male  1961             NaN\n",
            "Hulk                male  1962             NaN\n",
            "Beast               male  1963             NaN\n",
            "Invisible Woman   female  1961             NaN\n",
            "Storm             female  1975             NaN\n",
            "Hawkeye             male  1964             NaN\n",
            "Daredevil           male  1964             NaN\n",
            "Doctor Strange      male  1963             NaN\n",
            "Scarlet Witch     female  1964             NaN\n",
            "Wasp              female  1963             NaN\n",
            "Black Widow       female  1964             NaN\n",
            "Vision              male  1968          1964.0\n"
          ]
        }
      ],
      "source": [
        "marvel_df.loc['Vision', 'Ano de Estreia'] = 1964\n",
        "print(marvel_df)"
      ]
    },
    {
      "cell_type": "markdown",
      "metadata": {
        "id": "sQZm_sekqr4t"
      },
      "source": [
        "\n",
        "#### Adicione uma nova coluna para o dataframe  `marvel_df` chamada   'years_since' com os anos desde  `first_appearance`\n"
      ]
    },
    {
      "cell_type": "code",
      "execution_count": null,
      "metadata": {
        "colab": {
          "base_uri": "https://localhost:8080/"
        },
        "id": "2GiqqcxRqr4t",
        "outputId": "9e73fe71-3001-4ff3-f7f5-e17d65a5499c"
      },
      "outputs": [
        {
          "output_type": "stream",
          "name": "stdout",
          "text": [
            "                  Gênero   Ano  Ano de Estreia  years_since\n",
            "Nomes                                                      \n",
            "Spider-Man          male  1962             NaN          NaN\n",
            "Captain America     male  1941             NaN          NaN\n",
            "Wolverine           male  1974             NaN          NaN\n",
            "Iron Man            male  1963             NaN          NaN\n",
            "Thor                male  1963             NaN          NaN\n",
            "Thing               male  1961             NaN          NaN\n",
            "Mister Fantastic    male  1961             NaN          NaN\n",
            "Hulk                male  1962             NaN          NaN\n",
            "Beast               male  1963             NaN          NaN\n",
            "Invisible Woman   female  1961             NaN          NaN\n",
            "Storm             female  1975             NaN          NaN\n",
            "Hawkeye             male  1964             NaN          NaN\n",
            "Daredevil           male  1964             NaN          NaN\n",
            "Doctor Strange      male  1963             NaN          NaN\n",
            "Scarlet Witch     female  1964             NaN          NaN\n",
            "Wasp              female  1963             NaN          NaN\n",
            "Black Widow       female  1964             NaN          NaN\n",
            "Vision              male  1968          1964.0         60.0\n"
          ]
        }
      ],
      "source": [
        "marvel_df['years_since'] = pd.Timestamp.now().year - marvel_df['Ano de Estreia']\n",
        "print(marvel_df)"
      ]
    },
    {
      "cell_type": "markdown",
      "metadata": {
        "id": "urHnDtI_qr4t"
      },
      "source": [
        "\n",
        "## DataFrame boolean arrays"
      ]
    },
    {
      "cell_type": "markdown",
      "metadata": {
        "id": "O7nNYA4Qqr4t"
      },
      "source": [
        "#### Dê ao  `marvel_df` mostrando somente os personagens femininos"
      ]
    },
    {
      "cell_type": "code",
      "execution_count": null,
      "metadata": {
        "colab": {
          "base_uri": "https://localhost:8080/"
        },
        "id": "_YXv4Qqaqr4t",
        "outputId": "b08400f7-54a0-45b5-8a06-610ec3450197"
      },
      "outputs": [
        {
          "output_type": "stream",
          "name": "stdout",
          "text": [
            "                 Gênero   Ano  Ano de Estreia  years_since\n",
            "Nomes                                                     \n",
            "Invisible Woman  female  1961             NaN          NaN\n",
            "Storm            female  1975             NaN          NaN\n",
            "Scarlet Witch    female  1964             NaN          NaN\n",
            "Wasp             female  1963             NaN          NaN\n",
            "Black Widow      female  1964             NaN          NaN\n"
          ]
        }
      ],
      "source": [
        "female_characters = marvel_df[marvel_df['Gênero'] == 'female']\n",
        "print(female_characters)"
      ]
    },
    {
      "cell_type": "markdown",
      "metadata": {
        "id": "7CXr7Mitqr4u"
      },
      "source": [
        "#### Given the `marvel_df` pandas DataFrame, get the male characters"
      ]
    },
    {
      "cell_type": "code",
      "execution_count": null,
      "metadata": {
        "colab": {
          "base_uri": "https://localhost:8080/"
        },
        "id": "3u6bZlF3qr4u",
        "outputId": "1cbccba1-065d-4a42-e0ac-d364b838485e"
      },
      "outputs": [
        {
          "output_type": "stream",
          "name": "stdout",
          "text": [
            "                 Gênero   Ano  Ano de Estreia  years_since\n",
            "Nomes                                                     \n",
            "Spider-Man         male  1962             NaN          NaN\n",
            "Captain America    male  1941             NaN          NaN\n",
            "Wolverine          male  1974             NaN          NaN\n",
            "Iron Man           male  1963             NaN          NaN\n",
            "Thor               male  1963             NaN          NaN\n",
            "Thing              male  1961             NaN          NaN\n",
            "Mister Fantastic   male  1961             NaN          NaN\n",
            "Hulk               male  1962             NaN          NaN\n",
            "Beast              male  1963             NaN          NaN\n",
            "Hawkeye            male  1964             NaN          NaN\n",
            "Daredevil          male  1964             NaN          NaN\n",
            "Doctor Strange     male  1963             NaN          NaN\n",
            "Vision             male  1968          1964.0         60.0\n"
          ]
        }
      ],
      "source": [
        "male_characters = marvel_df[marvel_df['Gênero'] == 'male']\n",
        "print(male_characters)"
      ]
    },
    {
      "cell_type": "markdown",
      "metadata": {
        "id": "YPy1jfafqr4y"
      },
      "source": [
        "#### Given the `marvel_df` pandas DataFrame, get the characters with `first_appearance` after 1970"
      ]
    },
    {
      "cell_type": "code",
      "execution_count": null,
      "metadata": {
        "colab": {
          "base_uri": "https://localhost:8080/"
        },
        "id": "R2FlKvMCqr4y",
        "outputId": "203bb810-6791-4cbc-edf2-5b89c83f3489"
      },
      "outputs": [
        {
          "output_type": "stream",
          "name": "stdout",
          "text": [
            "Empty DataFrame\n",
            "Columns: [Gênero, Ano, Ano de Estreia, years_since]\n",
            "Index: []\n"
          ]
        }
      ],
      "source": [
        "after_1970_characters = marvel_df[marvel_df['Ano de Estreia'] > 1970]\n",
        "print(after_1970_characters)"
      ]
    },
    {
      "cell_type": "markdown",
      "metadata": {
        "id": "RETvjH8pqr4y"
      },
      "source": [
        "#### Given the `marvel_df` pandas DataFrame, get the female characters with `first_appearance` after 1970"
      ]
    },
    {
      "cell_type": "code",
      "execution_count": null,
      "metadata": {
        "colab": {
          "base_uri": "https://localhost:8080/"
        },
        "id": "aCwPbBCAqr4z",
        "outputId": "9fe57a6d-1212-4755-c8fb-8e683e17fe42"
      },
      "outputs": [
        {
          "output_type": "stream",
          "name": "stdout",
          "text": [
            "Empty DataFrame\n",
            "Columns: [Gênero, Ano, Ano de Estreia, years_since]\n",
            "Index: []\n"
          ]
        }
      ],
      "source": [
        "female_after_1970_characters = marvel_df[(marvel_df['Gênero'] == 'female') & (marvel_df['Ano de Estreia'] > 1970)]\n",
        "print(female_after_1970_characters)"
      ]
    },
    {
      "cell_type": "markdown",
      "metadata": {
        "id": "93mHs310qr4z"
      },
      "source": [
        "#### DataFrame summary statistics"
      ]
    },
    {
      "cell_type": "code",
      "execution_count": null,
      "metadata": {
        "colab": {
          "base_uri": "https://localhost:8080/"
        },
        "id": "nX9iCq68qr4z",
        "outputId": "7907efc0-0110-49cd-ebd5-c5f13bc6e61d"
      },
      "outputs": [
        {
          "output_type": "stream",
          "name": "stdout",
          "text": [
            "               Ano  Ano de Estreia  years_since\n",
            "count    18.000000             1.0          1.0\n",
            "mean   1963.111111          1964.0         60.0\n",
            "std       6.824600             NaN          NaN\n",
            "min    1941.000000          1964.0         60.0\n",
            "25%    1962.000000          1964.0         60.0\n",
            "50%    1963.000000          1964.0         60.0\n",
            "75%    1964.000000          1964.0         60.0\n",
            "max    1975.000000          1964.0         60.0\n"
          ]
        }
      ],
      "source": [
        "summary_statistics = marvel_df.describe()\n",
        "print(summary_statistics)"
      ]
    }
  ],
  "metadata": {
    "kernelspec": {
      "display_name": "Python 3",
      "language": "python",
      "name": "python3"
    },
    "language_info": {
      "codemirror_mode": {
        "name": "ipython",
        "version": 3
      },
      "file_extension": ".py",
      "mimetype": "text/x-python",
      "name": "python",
      "nbconvert_exporter": "python",
      "pygments_lexer": "ipython3",
      "version": "3.12.0"
    },
    "colab": {
      "provenance": [],
      "include_colab_link": true
    }
  },
  "nbformat": 4,
  "nbformat_minor": 0
}